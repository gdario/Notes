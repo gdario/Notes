{
 "cells": [
  {
   "cell_type": "markdown",
   "metadata": {},
   "source": [
    "# Inheritance and Composition: A Python OOP Guide\n",
    "\n",
    "## Course Goals\n",
    "\n",
    "* Create classes that inherit from one another.\n",
    "* Design class hierarchies with UML diagrams.\n",
    "* Use interfaces and abstract classes.\n",
    "* Use multiple inheritance and understand its drawbacks.\n",
    "* Build complex classes with composition.\n",
    "* Change run-time behavior with composition.\n",
    "\n",
    "## What are inheritance and composition?\n",
    "\n",
    "They are techniques to write better Python code. Both do it by modifying classes so that we can write less code, and make the classes more extensible.\n",
    "\n",
    "* Inheritance is about identifying the common attributes and behaviors that exist between objects.\n",
    "* Composition is about identifying how objects are composed of one another.\n",
    "\n",
    "## Inheritance\n",
    "\n",
    "Large projects have large number of classes. These classes are often related in some way. One class, for example, may be similar to another with some small modifications. Copying and pasting is not a good strategy because if we need to modify something in a class, we have to modify the same thing, with minor variations, in many places, and this is error prone.\n",
    "\n",
    "Inheritance models an **is a** relationship. For example, a cat *is an* animal, an apple *is a* fruit. Fish is both a food and an animal. This relationship is not symmetrical: all cats are animals but not all animals are cats. So, if a cat is an animal, it is a specialized version of an animal, and it inherits all the *attributes* and *behaviors* that are shares among all animals. It may have attributes and behaviors of its own (it is furry and it meows).\n",
    "\n",
    "Let's look at some classes that use inheritance. We may have a class `Employee` with attributes `name`, `age`, `id`, `wage` and behaviors `clock_in()`, `work()`, `clock_out()` and `report_info()`.\n",
    "\n",
    "We can add another class, `Waitress`, who is a type of employee. The waitress has all the attributes and behaviors of the `Employee` class, but it also adds some new ones like `shifts`, `tips_totals`, `take_break()` and `work()`. Note that the latter has the same name as the `Employee` class (so she has 5 methods in total), but the implementation is different.\n",
    "\n",
    "![inheritance](fig/inheritance.png)\n",
    "\n",
    "We can create a new `Cashier` class that inherits from `Employee`. This one only adds a new `customer_served` attribute and modifies the `work()` method.\n",
    "\n",
    "## Composition\n",
    "\n",
    "Composition models a **has a** or a **part of** relationship. For example, a car *has a* en engine, i.e., the engine is a *part of* the car. We may have a `Car` class with `brand`, `model`, `year` `engine` attributes and `turn_on()`, `accelerate()`, `park()` and `turn_off()` methods. Python does not have a `engine` class, so we must create one, which may, in turn, have the `cylinders`, `efficiency`, `weight` attributes and the `ignite()` method. We may have some code in the `Car`'s `turn_on()` method that calls the `Engine`'s `ignite()` method. Note that:\n",
    "\n",
    "![composition](fig/composition.png)\n",
    "\n",
    "1. The `Car`'s `accelerate()` method has access to the `Engine`'s `efficiency` attribute, because the `Car` object keeps track of the `engine` attribute which contains an `efficiency` attribute.\n",
    "2. The `ignite()` method does not have access to the `brand` attribute, as the `Engine` class is \"blind\" to where it is being used.\n",
    "\n",
    "In Python a class can be a *component* of a *composite* class. In the example above, `Engine` is a *component* of the *composite* class `Car`.\n",
    "\n",
    "## Inheritance in Python\n",
    "\n",
    "Let's create an empty class with no attributes and no methods. The `pass` keyword in general allows creating classes and functions that do nothing (can be used as a placeholder). If we use `dir()` on this class, we see a lot of \"dunder\" methods."
   ]
  },
  {
   "cell_type": "code",
   "execution_count": 2,
   "metadata": {},
   "outputs": [
    {
     "name": "stdout",
     "output_type": "stream",
     "text": [
      "['__class__', '__delattr__', '__dict__', '__dir__', '__doc__', '__eq__', '__format__', '__ge__', '__getattribute__', '__gt__', '__hash__', '__init__', '__init_subclass__', '__le__', '__lt__', '__module__', '__ne__', '__new__', '__reduce__', '__reduce_ex__', '__repr__', '__setattr__', '__sizeof__', '__str__', '__subclasshook__', '__weakref__']\n"
     ]
    }
   ],
   "source": [
    "class MyClass:\n",
    "    pass\n",
    "\n",
    "c = MyClass()\n",
    "print(dir(c))"
   ]
  },
  {
   "cell_type": "markdown",
   "metadata": {},
   "source": [
    "We can create an instance of the built-in `object` class."
   ]
  },
  {
   "cell_type": "code",
   "execution_count": 4,
   "metadata": {},
   "outputs": [
    {
     "name": "stdout",
     "output_type": "stream",
     "text": [
      "['__class__', '__delattr__', '__dir__', '__doc__', '__eq__', '__format__', '__ge__', '__getattribute__', '__gt__', '__hash__', '__init__', '__init_subclass__', '__le__', '__lt__', '__ne__', '__new__', '__reduce__', '__reduce_ex__', '__repr__', '__setattr__', '__sizeof__', '__str__', '__subclasshook__']\n"
     ]
    }
   ],
   "source": [
    "o = object()\n",
    "print(dir(o))"
   ]
  },
  {
   "cell_type": "markdown",
   "metadata": {},
   "source": [
    "The two instances have pretty much the same methods, with some extra ones (e.g. `__weakref__`) in `c`.\n",
    "\n",
    "The `o` object was instanciated from the `object` class, which is built into Python, and that defines most of the \"dunder\" methods that we see in `c`. The extra members in `c` come from elsewhere, but this is beyond the scope of this course.\n",
    "\n",
    "Another place where inheritance is used is in exceptions. They can be thrown up a call stack and caught anywhere in that stack. If no code catches the exception before it reaches the top of the stack, the program crashes, and we are left with a stack-trace. For example, let's define a `MyError` class and raise it."
   ]
  },
  {
   "cell_type": "code",
   "execution_count": 5,
   "metadata": {},
   "outputs": [
    {
     "ename": "TypeError",
     "evalue": "exceptions must derive from BaseException",
     "output_type": "error",
     "traceback": [
      "\u001b[0;31m---------------------------------------------------------------------------\u001b[0m",
      "\u001b[0;31mTypeError\u001b[0m                                 Traceback (most recent call last)",
      "\u001b[0;32m<ipython-input-5-27957d5a1b1b>\u001b[0m in \u001b[0;36m<module>\u001b[0;34m\u001b[0m\n\u001b[1;32m      2\u001b[0m     \u001b[0;32mpass\u001b[0m\u001b[0;34m\u001b[0m\u001b[0;34m\u001b[0m\u001b[0m\n\u001b[1;32m      3\u001b[0m \u001b[0;34m\u001b[0m\u001b[0m\n\u001b[0;32m----> 4\u001b[0;31m \u001b[0;32mraise\u001b[0m \u001b[0mMyError\u001b[0m\u001b[0;34m(\u001b[0m\u001b[0;34m)\u001b[0m\u001b[0;34m\u001b[0m\u001b[0;34m\u001b[0m\u001b[0m\n\u001b[0m",
      "\u001b[0;31mTypeError\u001b[0m: exceptions must derive from BaseException"
     ]
    }
   ],
   "source": [
    "class MyError:\n",
    "    pass\n",
    "\n",
    "raise MyError()"
   ]
  },
  {
   "cell_type": "markdown",
   "metadata": {},
   "source": [
    "This failed because our class must inherit from `BaseException`. For example, syntax errors inherits from `BaseException`. Note however that `BaseException` is not supposed to be inherited from directly, so we use its next child, the `Exception` class. This is the class the official documentation recommends inheriting from.\n",
    "\n",
    "The `Exception` class has an attribute for a message to the user. We can define this using `__init__()` and `super()`."
   ]
  },
  {
   "cell_type": "code",
   "execution_count": 6,
   "metadata": {},
   "outputs": [
    {
     "ename": "MyError",
     "evalue": "Something went wrong",
     "output_type": "error",
     "traceback": [
      "\u001b[0;31m---------------------------------------------------------------------------\u001b[0m",
      "\u001b[0;31mMyError\u001b[0m                                   Traceback (most recent call last)",
      "\u001b[0;32m<ipython-input-6-c4743f4f2e2c>\u001b[0m in \u001b[0;36m<module>\u001b[0;34m\u001b[0m\n\u001b[1;32m      3\u001b[0m         \u001b[0msuper\u001b[0m\u001b[0;34m(\u001b[0m\u001b[0;34m)\u001b[0m\u001b[0;34m.\u001b[0m\u001b[0m__init__\u001b[0m\u001b[0;34m(\u001b[0m\u001b[0mmessage\u001b[0m\u001b[0;34m)\u001b[0m\u001b[0;34m\u001b[0m\u001b[0;34m\u001b[0m\u001b[0m\n\u001b[1;32m      4\u001b[0m \u001b[0;34m\u001b[0m\u001b[0m\n\u001b[0;32m----> 5\u001b[0;31m \u001b[0;32mraise\u001b[0m \u001b[0mMyError\u001b[0m\u001b[0;34m(\u001b[0m\u001b[0;34m\"Something went wrong\"\u001b[0m\u001b[0;34m)\u001b[0m\u001b[0;34m\u001b[0m\u001b[0;34m\u001b[0m\u001b[0m\n\u001b[0m",
      "\u001b[0;31mMyError\u001b[0m: Something went wrong"
     ]
    }
   ],
   "source": [
    "class MyError(Exception):\n",
    "    def __init__(self, message):\n",
    "        super().__init__(message)\n",
    "        \n",
    "raise MyError(\"Something went wrong\")"
   ]
  },
  {
   "cell_type": "markdown",
   "metadata": {},
   "source": [
    "## UML Diagrams\n",
    "\n",
    "The standard method of creating diagrams to represent the relationships among classes is the Unified Modeling Language, or **UML**. It is often used to show class hierarchies. By planning a project before we start coding, we can make better design choices.\n",
    "\n",
    "UML can contain + and - signs to denote *public* and *private* accessibility. Python does not formally support formal access modifiers, and everything is public. For our purposes, we are just going to mark every member of every class as \"public\" with a + sign. You may also see a data type following a colon, which describes the type of the attribute. A type following a method name indicates the return type of the method.\n",
    "\n",
    "![UML diagram](fig/uml.png)\n",
    "\n",
    "Arrows express inheritance. The arrow goes from the *child* class to (i.e., points to) the *parent* class.\n",
    "\n",
    "![UML - inheritance](fig/uml_inheritance.png)\n",
    "\n",
    "We can similarly express composition. For that we draw a solid diamond arrow from the *composite* class to the *component* class. We can add a number to show the number of component instances contained in the composite class. If instead of a number we have a `*` symbol, this means that the composite class can contain a variable number of component instances. A **range** indicates that the composite class can contain a certain range of instances. For example:\n",
    "\n",
    "* (1..4) means between 1 and 4.\n",
    "* (1..*) means at least one.\n",
    "\n",
    "![UML - composition](fig/uml_composition.png)\n",
    "\n",
    "\n",
    "## Interfaces\n",
    "\n",
    "An interface is a description of the attributes and behaviors an object has. This consists of\n",
    "\n",
    "* The set of attributes and methods that make up classes.\n",
    "* Not the implementation of the method, just the declaration.\n",
    "\n",
    "An interface, therefore, is a list of declarations, but not of definitions. It is like saying \"all mammals can move\", without specifying how they move. Some languages, such as C# or Java, have an actual mechanism called an interface which lists these class members, but Python does not, partly because, unlike most languages, Python supports multiple inheritance. We will focus on the concept of interfaces.\n",
    "\n",
    "### Interfaces example\n",
    "\n",
    "Let's assume that the interface, *not* shown in the diagram below, but let's pretend that it implements two methods: `quack()` and `waddle()`. In other words, some part of our program needs an object that conforms to this interface. Three of the four classes in the diagram below conform to this interface.\n",
    "\n",
    "![Interface](fig/uml_interface.png)\n",
    "\n",
    "### Liskov Substitution Principle\n",
    "\n",
    "If `S` is a subclass of `T` objects of type `T` may be replaced by objects of type `S` without altering any property of the program. Anywhere the program expects a `Duck`, we can pass an `AttackDuck`, because it has the same attributes and methods. We saw this in our exception example, when we inherited from `Exception`, which in turn inherits from `BaseException`, we inherited the interface of `Exception`.\n",
    "\n",
    "![Liskov Substitution Principle](fig/uml_liskov.png)\n",
    "\n",
    "Let's look at the interface of an actual class."
   ]
  },
  {
   "cell_type": "code",
   "execution_count": 7,
   "metadata": {},
   "outputs": [],
   "source": [
    "class PayrollObject:\n",
    "    def __init__(self, id, name):\n",
    "        self.id = id\n",
    "        self.name = name\n",
    "        \n",
    "    def calculate_payroll(self):\n",
    "        return 12345"
   ]
  },
  {
   "cell_type": "markdown",
   "metadata": {},
   "source": [
    "Typically the UML representation of an Interface starts with an \"I\" and often ends with \"-or\" or \"-able\". The interface in the UML diagram below, declares three members that a class must declare to conform. The `PayrollObject`, therefore, conforms. By the substitution principle, anywhere the program expects a class that conforms to this interface, we can pass an instance of the `PayrollObject`.\n",
    "\n",
    "![Example of interface](fig/uml_interface2.png)\n",
    "\n",
    "Interfaces are usually represented in a different color and contain the word `<<Interface>>` at the top. An interface is just a listing of members that conforming classes must have. When a class conforms to an interface, we draw a dashed line from the class to the interface and write `implements`.\n",
    "\n",
    "![Example of interface](fig/uml_interface3.png)\n",
    "\n",
    "In the diagram above, we have that:\n",
    "\n",
    "1. `Employee` is the base class or parent class of `SalaryEmployee` and `HourlyEmployee` directly.\n",
    "2. `SalaryEmployee` is a child class of `Employee` and a parent class of `CommissionEmployee`.\n",
    "3. `Employee` exposes an interface containing two members: `id` and `name`.\n",
    "4. `HourlyEmployee` exposes an interface with three members: `id`, `name` and `calculate_payroll()`.\n",
    "5. `SalaryEmployee`, `HourlyEmployee` and `CommissionEmployee` all expose the `IPayrollCalculator` interface.\n",
    "6. `CommissionEmployee` inherits from `SalaryEmployee` and not from `Employee`. This may mean that `SalaryEmployee` adds modifications on top of the modified version of `calculate_payroll()` in `SalaryEmployee`."
   ]
  }
 ],
 "metadata": {
  "kernelspec": {
   "display_name": "Python 3",
   "language": "python",
   "name": "python3"
  },
  "language_info": {
   "codemirror_mode": {
    "name": "ipython",
    "version": 3
   },
   "file_extension": ".py",
   "mimetype": "text/x-python",
   "name": "python",
   "nbconvert_exporter": "python",
   "pygments_lexer": "ipython3",
   "version": "3.6.10"
  }
 },
 "nbformat": 4,
 "nbformat_minor": 4
}
