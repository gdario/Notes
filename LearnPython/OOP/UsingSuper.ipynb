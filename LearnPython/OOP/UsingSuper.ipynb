{
 "cells": [
  {
   "cell_type": "markdown",
   "metadata": {},
   "source": [
    "# Supercharge Your Classes with Python `super()`\n",
    "\n",
    "Let's consider two classes, `Square` and `Rectangle`. Their definition is very similar, and this can be a problem. If we introduced a bug in the definition of `area()`, we would have to fix it in *two* places."
   ]
  },
  {
   "cell_type": "code",
   "execution_count": 1,
   "metadata": {},
   "outputs": [
    {
     "name": "stdout",
     "output_type": "stream",
     "text": [
      "9 12\n",
      "6 10\n"
     ]
    }
   ],
   "source": [
    "class Square:\n",
    "    def __init__(self, length):\n",
    "        self.length = length\n",
    "        \n",
    "    def area(self):\n",
    "        return self.length*self.length\n",
    "    \n",
    "    def perimeter(self):\n",
    "        return 4*self.length\n",
    "    \n",
    "\n",
    "class Rectangle:\n",
    "    def __init__(self, height, width):\n",
    "        self.height = height\n",
    "        self.width = width\n",
    "        \n",
    "    def area(self):\n",
    "        return self.height*self.width\n",
    "    \n",
    "    def perimeter(self):\n",
    "        return 2*(self.height+self.width)\n",
    "    \n",
    "square = Square(3)\n",
    "rectangle = Rectangle(2, 3)\n",
    "\n",
    "print(square.area(), square.perimeter())\n",
    "print(rectangle.area(), rectangle.perimeter())"
   ]
  },
  {
   "cell_type": "markdown",
   "metadata": {},
   "source": [
    " To avoid this duplication, we will define the `Square` class based on the `Rectangle` class via inheritance."
   ]
  },
  {
   "cell_type": "code",
   "execution_count": 2,
   "metadata": {},
   "outputs": [
    {
     "name": "stdout",
     "output_type": "stream",
     "text": [
      "9 12\n",
      "6 10\n"
     ]
    }
   ],
   "source": [
    "class Square(Rectangle):\n",
    "    def __init__(self, length):\n",
    "        super().__init__(length, length)\n",
    "    \n",
    "square = Square(3)\n",
    "rectangle = Rectangle(2, 3)\n",
    "\n",
    "print(square.area(), square.perimeter())\n",
    "print(rectangle.area(), rectangle.perimeter())"
   ]
  },
  {
   "cell_type": "markdown",
   "metadata": {},
   "source": [
    "We need to redefine `__init__` as it requires only one argument for the `Square` class. If we do `dir()` on a square instance, we can see the `height` and `width` attributes."
   ]
  },
  {
   "cell_type": "code",
   "execution_count": 3,
   "metadata": {},
   "outputs": [
    {
     "data": {
      "text/plain": [
       "['__class__',\n",
       " '__delattr__',\n",
       " '__dict__',\n",
       " '__dir__',\n",
       " '__doc__',\n",
       " '__eq__',\n",
       " '__format__',\n",
       " '__ge__',\n",
       " '__getattribute__',\n",
       " '__gt__',\n",
       " '__hash__',\n",
       " '__init__',\n",
       " '__init_subclass__',\n",
       " '__le__',\n",
       " '__lt__',\n",
       " '__module__',\n",
       " '__ne__',\n",
       " '__new__',\n",
       " '__reduce__',\n",
       " '__reduce_ex__',\n",
       " '__repr__',\n",
       " '__setattr__',\n",
       " '__sizeof__',\n",
       " '__str__',\n",
       " '__subclasshook__',\n",
       " '__weakref__',\n",
       " 'area',\n",
       " 'height',\n",
       " 'perimeter',\n",
       " 'width']"
      ]
     },
     "execution_count": 3,
     "metadata": {},
     "output_type": "execute_result"
    }
   ],
   "source": [
    "dir(square)"
   ]
  },
  {
   "cell_type": "markdown",
   "metadata": {},
   "source": [
    "Let's now define a `Cube` class, which also has the `surface_area()` and `volume()` methods. We can define this inheriting from `Square`. The code below shows two ways of doing the same thing."
   ]
  },
  {
   "cell_type": "code",
   "execution_count": 4,
   "metadata": {},
   "outputs": [],
   "source": [
    "class Cube(Square):\n",
    "    def surface_area(self):\n",
    "        face_area = self.area()\n",
    "        return face_area*6\n",
    "    \n",
    "    def volume(self):\n",
    "        face_area = super().area()\n",
    "        return face_area*self.length"
   ]
  },
  {
   "cell_type": "markdown",
   "metadata": {},
   "source": [
    "`super()` called within a class gives access to the parent object. `super()` can also be called with parameters indicating the class and the object: `super(class, object)`. This form doesn't even have to be inside the object method.\n",
    "\n",
    "Inside a class method, `super()` is a shortcut for `super(my_class, self)`. Let's add some methods to identify the class of an object"
   ]
  },
  {
   "cell_type": "code",
   "execution_count": 5,
   "metadata": {},
   "outputs": [],
   "source": [
    "class Rectangle:\n",
    "    def __init__(self, height, width):\n",
    "        self.height = height\n",
    "        self.width = width\n",
    "        \n",
    "    def area(self):\n",
    "        return self.height*self.width\n",
    "    \n",
    "    def perimeter(self):\n",
    "        return 2*(self.height+self.width)\n",
    "    \n",
    "    def what_am_i(self):\n",
    "        return 'Rectangle'\n",
    "    \n",
    "class Square(Rectangle):\n",
    "    def __init__(self, length):\n",
    "        super().__init__(length, length)\n",
    "        \n",
    "    def what_am_i(self):\n",
    "        return 'Square'\n",
    "    \n",
    "class Cube(Square):\n",
    "    def surface_area(self):\n",
    "        face_area = self.area()\n",
    "        return face_area*6\n",
    "    \n",
    "    def volume(self):\n",
    "        face_area = super().area()\n",
    "        return face_area*self.length\n",
    "    \n",
    "    def what_am_i(self):\n",
    "        return 'Cube'"
   ]
  },
  {
   "cell_type": "markdown",
   "metadata": {},
   "source": [
    "We then call the `what_am_i()` method from classes higher and higher in the inheritance hierarchy."
   ]
  },
  {
   "cell_type": "code",
   "execution_count": 6,
   "metadata": {},
   "outputs": [
    {
     "name": "stdout",
     "output_type": "stream",
     "text": [
      "Cube\n",
      "Square\n",
      "Rectangle\n"
     ]
    }
   ],
   "source": [
    "cube = Cube(3)\n",
    "print(cube.what_am_i())\n",
    "print(super(Cube, cube).what_am_i())\n",
    "print(super(Square, cube).what_am_i())"
   ]
  },
  {
   "cell_type": "markdown",
   "metadata": {},
   "source": [
    "We can make this more visible with the following modification to the `Cube` class."
   ]
  },
  {
   "cell_type": "code",
   "execution_count": 7,
   "metadata": {},
   "outputs": [
    {
     "data": {
      "text/plain": [
       "'Cube child of Square'"
      ]
     },
     "execution_count": 7,
     "metadata": {},
     "output_type": "execute_result"
    }
   ],
   "source": [
    "class Cube(Square):\n",
    "    def surface_area(self):\n",
    "        face_area = self.area()\n",
    "        return face_area*6\n",
    "    \n",
    "    def volume(self):\n",
    "        face_area = super().area()\n",
    "        return face_area*self.length\n",
    "    \n",
    "    def what_am_i(self):\n",
    "        return 'Cube'\n",
    "    \n",
    "    def family_tree(self):\n",
    "        return self.what_am_i() + ' child of ' + super().what_am_i()\n",
    "    \n",
    "cube = Cube(3)\n",
    "cube.family_tree()"
   ]
  },
  {
   "cell_type": "markdown",
   "metadata": {},
   "source": [
    "All these examples were based in single inheritance. **Multiple inheritance** is the process of inheriting from multiple classes into your new base class. Let's add a new shape, `Triangle` and a `RightPyramid` class that inherits simultaneously from `Triangle` and form `Square`. A right pyramid has a square base and four triangles converging to a point."
   ]
  },
  {
   "cell_type": "code",
   "execution_count": 8,
   "metadata": {},
   "outputs": [
    {
     "data": {
      "text/plain": [
       "'Triangle'"
      ]
     },
     "execution_count": 8,
     "metadata": {},
     "output_type": "execute_result"
    }
   ],
   "source": [
    "class Triangle:\n",
    "    def __init__(self, base, height):\n",
    "        self.base = base\n",
    "        self.height = height\n",
    "        \n",
    "    def area(self):\n",
    "        return 0.5*self.base*self.height\n",
    "    \n",
    "    def what_am_i(self):\n",
    "        return 'Triangle'\n",
    "    \n",
    "\n",
    "class RightPyramid(Triangle, Square):\n",
    "    def __init__(self, base, slant_height):\n",
    "        self.base = base\n",
    "        self.slant_height = slant_height\n",
    "        \n",
    "    def what_am_i(self):\n",
    "        return 'RightPyramid'\n",
    "    \n",
    "rightpyramid = RightPyramid(2, 4)\n",
    "super(RightPyramid, rightpyramid).what_am_i()"
   ]
  },
  {
   "cell_type": "markdown",
   "metadata": {},
   "source": [
    "`super()` return the *first* parent because `Triangle` was defined before `Square` in the definition of the `RightPyramid` class. We can see the class with the `.__class__` attribute and the *base classes* with `.__class__.__bases__`"
   ]
  },
  {
   "cell_type": "code",
   "execution_count": 9,
   "metadata": {},
   "outputs": [
    {
     "name": "stdout",
     "output_type": "stream",
     "text": [
      "<class '__main__.RightPyramid'>\n",
      "(<class '__main__.Triangle'>, <class '__main__.Square'>)\n"
     ]
    }
   ],
   "source": [
    "print(rightpyramid.__class__)\n",
    "print(rightpyramid.__class__.__bases__)"
   ]
  },
  {
   "cell_type": "markdown",
   "metadata": {},
   "source": [
    "The **MRO** (Method Resolution Order) is the order in which Python looks through the inheritance structure."
   ]
  },
  {
   "cell_type": "code",
   "execution_count": 10,
   "metadata": {},
   "outputs": [
    {
     "data": {
      "text/plain": [
       "(__main__.RightPyramid,\n",
       " __main__.Triangle,\n",
       " __main__.Square,\n",
       " __main__.Rectangle,\n",
       " object)"
      ]
     },
     "execution_count": 10,
     "metadata": {},
     "output_type": "execute_result"
    }
   ],
   "source": [
    "RightPyramid.__mro__"
   ]
  },
  {
   "cell_type": "markdown",
   "metadata": {},
   "source": [
    "The MRO dictates how to look for methods. In multiple inheritance things can be complicated. You may have methods of the same name in your inheriting classes. The MRO dictates which get called. These name clashes can create confusion. You could rename methods so that there are no clashes or, better, make a careful use of inheritance declaration. You must be careful because `class RightPyramid(Triangle, Square)` and `class RightPyramid(Square, Triangle)` call two different `area()` methods.\n",
    "\n",
    "The most explicit way is to directly access the class to make a call, like `Square.area(self)`.\n",
    "\n",
    "Let's consider the following 5 classes."
   ]
  },
  {
   "cell_type": "code",
   "execution_count": 11,
   "metadata": {},
   "outputs": [],
   "source": [
    "class A:\n",
    "    def __init__(self):\n",
    "        print('A')  # Note that A has no parent apart from `object`\n",
    "        super().__init__()\n",
    "        \n",
    "class B(A):\n",
    "    def __init__(self):\n",
    "        print('B')\n",
    "        super().__init__()\n",
    "        \n",
    "class X:\n",
    "    def __init__(self):\n",
    "        print('X')\n",
    "        super().__init__()\n",
    "    \n",
    "class Forward(B, X):\n",
    "    def __init__(self):\n",
    "        print('Forward')\n",
    "        super().__init__()\n",
    "        \n",
    "class Backward(X, B):\n",
    "    def __init__(self):\n",
    "        print('Backward')\n",
    "        super().__init__()"
   ]
  },
  {
   "cell_type": "code",
   "execution_count": 12,
   "metadata": {},
   "outputs": [
    {
     "name": "stdout",
     "output_type": "stream",
     "text": [
      "Forward\n",
      "B\n",
      "A\n",
      "X\n"
     ]
    }
   ],
   "source": [
    "forward = Forward()"
   ]
  },
  {
   "cell_type": "markdown",
   "metadata": {},
   "source": [
    "Here `Forward` goes back to `B`, which goes back to `A`, which has no parent, but then the other class `Forward` is inheriting from is invoked, and we have `X`, which is the end of the chain. Compare this with:"
   ]
  },
  {
   "cell_type": "code",
   "execution_count": 13,
   "metadata": {},
   "outputs": [
    {
     "name": "stdout",
     "output_type": "stream",
     "text": [
      "Backward\n",
      "X\n",
      "B\n",
      "A\n"
     ]
    }
   ],
   "source": [
    "backward = Backward()"
   ]
  },
  {
   "cell_type": "markdown",
   "metadata": {},
   "source": [
    "`X` has no parents, so `B` is called next, which inherits from `A`.\n",
    "\n",
    "Let's leverage this complexity to redefine the `RightPyramid` and all the other classes so that they can receive keyword arguments. This works, but it is difficult to read.\n",
    "\n",
    "```python\n",
    "class Rectangle:\n",
    "    def __init__(self, length, width, **kwargs):\n",
    "        self.length = length\n",
    "        self.width = width\n",
    "        super().__init__(**kwargs)\n",
    "\n",
    "\n",
    "class Square(Rectangle):\n",
    "    def __init__(self, length, **kwargs):\n",
    "        super().__init__(length=length, width=length, **kwargs)\n",
    "\n",
    "\n",
    "class Triangle:\n",
    "    def __init__(self, base, heigt, **kwargs):\n",
    "            self.base = base\n",
    "            self.heigt = heigt\n",
    "            super().__init__(**kwargs)\n",
    "\n",
    "            \n",
    "class RightPyramid(Square, Triangle):\n",
    "    def __init__(self, base, slant_height, **kwargs):\n",
    "        self.base = base\n",
    "        self.slant_height = slant_height\n",
    "        kwargs['height'] = slant_height\n",
    "        kwargs['length'] = base\n",
    "        super().__init__(base=base, **kwargs)\n",
    "```"
   ]
  },
  {
   "cell_type": "markdown",
   "metadata": {},
   "source": [
    "One of the best ways of making sure you don't have problems is to create classes that do not have name clashes and that are as independent as possible. A pattern that is very common is a **Mixin**. A Mixin is a class that gets pulled into the inheritance hierarchy, but is not going to impact anything that inherits it. For example, the `SurfaceAreaMixin` below, defines a `surface_area()` method, but has no expectations about construction. The only thing it requires is that the class using it contains a `surfaces` attribute. Below is an example of the `RightPyramid` class inheriting from a `SurfaceAreaMixin`."
   ]
  },
  {
   "cell_type": "code",
   "execution_count": 14,
   "metadata": {},
   "outputs": [
    {
     "data": {
      "text/plain": [
       "54"
      ]
     },
     "execution_count": 14,
     "metadata": {},
     "output_type": "execute_result"
    }
   ],
   "source": [
    "class SurfaceAreaMixin:\n",
    "    def surface_area(self):\n",
    "        surface_area = 0\n",
    "        for surface in self.surfaces:\n",
    "            surface_area += surface.area(self)\n",
    "\n",
    "        return surface_area\n",
    "\n",
    "class Cube(Square, SurfaceAreaMixin):\n",
    "    def __init__(self, length):\n",
    "        super().__init__(length)\n",
    "        self.surfaces = [Square, Square, Square, Square, Square, Square]\n",
    "\n",
    "class RightPyramid(Square, Triangle, SurfaceAreaMixin):\n",
    "    def __init__(self, base, slant_height):\n",
    "        self.base = base\n",
    "        self.slant_height = slant_height\n",
    "        self.height = slant_height\n",
    "        self.length = base\n",
    "        self.width = base\n",
    "\n",
    "        self.surfaces = [Square, Triangle, Triangle, Triangle, Triangle]\n",
    "\n",
    "        \n",
    "cube = Cube(3)\n",
    "cube.surface_area()"
   ]
  }
 ],
 "metadata": {
  "kernelspec": {
   "display_name": "Python 3",
   "language": "python",
   "name": "python3"
  },
  "language_info": {
   "codemirror_mode": {
    "name": "ipython",
    "version": 3
   },
   "file_extension": ".py",
   "mimetype": "text/x-python",
   "name": "python",
   "nbconvert_exporter": "python",
   "pygments_lexer": "ipython3",
   "version": "3.6.10"
  }
 },
 "nbformat": 4,
 "nbformat_minor": 4
}
