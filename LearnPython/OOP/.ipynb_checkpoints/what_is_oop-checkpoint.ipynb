{
 "cells": [
  {
   "cell_type": "markdown",
   "metadata": {},
   "source": [
    "# What is Object-Oriented Programming\n",
    "\n",
    "Objects in a program are the \"nouns\", and they can have properties and behaviors. Behaviors can refer the properties.\n",
    "\n",
    "- Classes are used to create objects.\n",
    "- Classes define a *type*.\n",
    "- To create an object from a class we *instantiate* the class.\n",
    "\n",
    "Software design can take longer than coding. The most complex thing is how to make the various object interact with each other.\n",
    "\n",
    "Properties are called `attributes`. There are two types:\n",
    "\n",
    "1. `instance attributes` are unique to each object created.\n",
    "2. `class attributes` are the same for every instance.\n",
    "\n",
    "In the example below, `name` and `age` are instance attributes, while `species` is a class attribute.\n",
    "\n",
    "```python\n",
    "class Dog:\n",
    "    species = 'mammal'\n",
    "\n",
    "    def __init__(self, name, age):\n",
    "        self.name = name\n",
    "        self.age = age\n",
    "```\n",
    "\n",
    "Let's see some practical examples."
   ]
  },
  {
   "cell_type": "code",
   "execution_count": 2,
   "metadata": {},
   "outputs": [
    {
     "name": "stdout",
     "output_type": "stream",
     "text": [
      "<__main__.Dog object at 0x7f952ab2f820> <__main__.Dog object at 0x7f952ab2f970>\n"
     ]
    }
   ],
   "source": [
    "class Dog:\n",
    "    pass\n",
    "\n",
    "print(Dog(), Dog())"
   ]
  },
  {
   "cell_type": "markdown",
   "metadata": {},
   "source": [
    "In the example above, the two (unbound) instances of the `Dog` class are assigned different memory addresses. Similarly, if we bind the instances to names, we can see that they are distinct objects."
   ]
  },
  {
   "cell_type": "code",
   "execution_count": 3,
   "metadata": {},
   "outputs": [
    {
     "data": {
      "text/plain": [
       "False"
      ]
     },
     "execution_count": 3,
     "metadata": {},
     "output_type": "execute_result"
    }
   ],
   "source": [
    "a = Dog()\n",
    "b = Dog()\n",
    "a == b"
   ]
  },
  {
   "cell_type": "markdown",
   "metadata": {},
   "source": [
    "Let's define the `Dog` class as we did earlier on."
   ]
  },
  {
   "cell_type": "code",
   "execution_count": 4,
   "metadata": {},
   "outputs": [],
   "source": [
    "class Dog:\n",
    "    species = 'mammal'\n",
    "\n",
    "    def __init__(self, name, age):\n",
    "        self.name = name\n",
    "        self.age = age\n",
    "\n",
    "philo = Dog('Philo', 5)\n",
    "mikey = Dog('Mikey', 6)"
   ]
  },
  {
   "cell_type": "markdown",
   "metadata": {},
   "source": [
    "To access the data in the instances, we use the dot "
   ]
  },
  {
   "cell_type": "code",
   "execution_count": 5,
   "metadata": {},
   "outputs": [
    {
     "name": "stdout",
     "output_type": "stream",
     "text": [
      "Philo is 5 and Mikey is 6\n",
      "Philo is a mammal\n"
     ]
    }
   ],
   "source": [
    "print('{} is {} and {} is {}'.format(philo.name, philo.age,\n",
    "mikey.name, mikey.age))\n",
    "\n",
    "if philo.species == 'mammal':\n",
    "    print('{} is a {}'.format(philo.name, philo.species))"
   ]
  },
  {
   "cell_type": "markdown",
   "metadata": {},
   "source": [
    "We can change the class attribute inside an instance."
   ]
  },
  {
   "cell_type": "code",
   "execution_count": 6,
   "metadata": {},
   "outputs": [
    {
     "name": "stdout",
     "output_type": "stream",
     "text": [
      "Philo is a kangaroo\n"
     ]
    }
   ],
   "source": [
    "philo.species = 'kangaroo'\n",
    "print('{} is a {}'.format(philo.name, philo.species))"
   ]
  },
  {
   "cell_type": "markdown",
   "metadata": {},
   "source": [
    "## Instance Methods\n",
    "\n",
    "We can add some simple methods to the `Dog` class. **Important**: note that `description` and `speak` return strings, but do not print them. They are visualized in notebook, but in a normal session, they would be returned silently, and you need to print them."
   ]
  },
  {
   "cell_type": "code",
   "execution_count": 3,
   "metadata": {},
   "outputs": [
    {
     "name": "stdout",
     "output_type": "stream",
     "text": [
      "mikey is 6 years old\n"
     ]
    }
   ],
   "source": [
    "class Dog:\n",
    "    species = 'mammal'\n",
    "\n",
    "    def __init__(self, name, age):\n",
    "        self.name = name\n",
    "        self.age = age\n",
    "\n",
    "    def description(self):\n",
    "        return '{} is {} years old'.format(self.name, self.age)\n",
    "\n",
    "    def speak(self, sound):\n",
    "        return '{} says {}'.format(self.name, sound)\n",
    "\n",
    "    def birthday(self):\n",
    "        self.age += 1\n",
    "\n",
    "\n",
    "mikey = Dog('mikey', 6)\n",
    "print(mikey.description())"
   ]
  },
  {
   "cell_type": "markdown",
   "metadata": {},
   "source": [
    "## Object Inheritance and Class Hierarchy\n",
    "\n",
    "Examples with a `Person` class and a `Baby` class. The two classes have the same methods, but `Baby` has also a `nap()` method. Some of the methods, moreover, will have the same names, but slighlty different behaviors. A baby is a person, so it makes sense that it inherits the behaviors of a person, with some tweaks here and there when needed.\n",
    "\n",
    "In the example below, the `Baby` class overrides the `description` attributes, the `speak` method, and adds the `nap` method."
   ]
  },
  {
   "cell_type": "code",
   "execution_count": 6,
   "metadata": {},
   "outputs": [],
   "source": [
    "class Person:\n",
    "    description = 'general person'\n",
    "    \n",
    "    def __init__(self, name, age):\n",
    "        self.name = name\n",
    "        self.age = age\n",
    "\n",
    "    def speak(self):\n",
    "        print('My name is {} and I am {} years old'.format(self.name, self.age))\n",
    "\n",
    "    def eat(self, food):\n",
    "        print('{} eats {}'.format(self.name, food))\n",
    "\n",
    "    def action(self):\n",
    "        print('{} jumps'.format(self.name))\n",
    "\n",
    "\n",
    "class Baby(Person):\n",
    "    description = 'baby'\n",
    "\n",
    "    def speak(self):\n",
    "        print('ba ba ba ba ba')\n",
    "\n",
    "    def nap(self):\n",
    "        print('{} takes a nap'.format(self.name))"
   ]
  },
  {
   "cell_type": "code",
   "execution_count": 7,
   "metadata": {},
   "outputs": [
    {
     "name": "stdout",
     "output_type": "stream",
     "text": [
      "My name is Steve and I am 20 years old\n",
      "None\n",
      "Steve eats pasta\n",
      "None\n",
      "Steve jumps\n",
      "None\n",
      "ba ba ba ba ba\n",
      "None\n",
      "Ian eats baby food\n",
      "None\n",
      "Ian jumps\n",
      "None\n",
      "general person\n",
      "baby\n"
     ]
    }
   ],
   "source": [
    "person = Person('Steve', 20)\n",
    "print(person.speak())\n",
    "print(person.eat('pasta'))\n",
    "print(person.action())\n",
    "\n",
    "baby = Baby('Ian', 1)\n",
    "print(baby.speak())\n",
    "print(baby.eat('baby food'))\n",
    "print(baby.action())\n",
    "\n",
    "print(person.description)\n",
    "print(baby.description)"
   ]
  },
  {
   "cell_type": "markdown",
   "metadata": {},
   "source": [
    "If we modify the `action()` method in the `Person` class, this will affect also the `Baby` class.\n",
    "\n",
    "## `__str__` and `__repr__`\n",
    "\n",
    "Let's consider the `Car` class below."
   ]
  },
  {
   "cell_type": "code",
   "execution_count": 2,
   "metadata": {},
   "outputs": [
    {
     "name": "stdout",
     "output_type": "stream",
     "text": [
      "<__main__.Car object at 0x7fc77c113c18>\n"
     ]
    }
   ],
   "source": [
    "class Car:\n",
    "    def __init__(self, color, mileage):\n",
    "        self.color = color\n",
    "        self.mileage = mileage\n",
    "\n",
    "my_car = Car('red', 37281)\n",
    "print(my_car)"
   ]
  },
  {
   "cell_type": "markdown",
   "metadata": {},
   "source": [
    "If we now add a `__str__` method like the one below, the output of `print` is more readable."
   ]
  },
  {
   "cell_type": "code",
   "execution_count": 3,
   "metadata": {},
   "outputs": [
    {
     "name": "stdout",
     "output_type": "stream",
     "text": [
      "a red car\n"
     ]
    }
   ],
   "source": [
    "class Car:\n",
    "    def __init__(self, color, mileage):\n",
    "        self.color = color\n",
    "        self.mileage = mileage\n",
    "\n",
    "    def __str__(self):\n",
    "        return 'a {self.color} car'.format(self=self)\n",
    "    \n",
    "my_car = Car('red', 37281)\n",
    "print(my_car)"
   ]
  },
  {
   "cell_type": "markdown",
   "metadata": {},
   "source": [
    "However note the following"
   ]
  },
  {
   "cell_type": "code",
   "execution_count": 4,
   "metadata": {},
   "outputs": [
    {
     "name": "stdout",
     "output_type": "stream",
     "text": [
      "a red car\n"
     ]
    },
    {
     "data": {
      "text/plain": [
       "<__main__.Car at 0x7fc77c113fd0>"
      ]
     },
     "execution_count": 4,
     "metadata": {},
     "output_type": "execute_result"
    }
   ],
   "source": [
    "print(my_car)\n",
    "my_car"
   ]
  },
  {
   "cell_type": "markdown",
   "metadata": {},
   "source": [
    "Inspecting the object still returns the memory address. You could force a string representation of the object by calling `str()`."
   ]
  },
  {
   "cell_type": "code",
   "execution_count": 5,
   "metadata": {},
   "outputs": [
    {
     "data": {
      "text/plain": [
       "'a red car'"
      ]
     },
     "execution_count": 5,
     "metadata": {},
     "output_type": "execute_result"
    }
   ],
   "source": [
    "str(my_car)"
   ]
  },
  {
   "cell_type": "markdown",
   "metadata": {},
   "source": [
    "The `__str__()` method determines how the object will be represented *as a string*.\n",
    "\n",
    "Let's redefine the class adding a `__repr__()` method."
   ]
  },
  {
   "cell_type": "code",
   "execution_count": 10,
   "metadata": {},
   "outputs": [
    {
     "name": "stdout",
     "output_type": "stream",
     "text": [
      "__str__ for Car\n"
     ]
    },
    {
     "data": {
      "text/plain": [
       "__repr__ for Car"
      ]
     },
     "execution_count": 10,
     "metadata": {},
     "output_type": "execute_result"
    }
   ],
   "source": [
    "class Car:\n",
    "    def __init__(self, color, mileage):\n",
    "        self.color = color\n",
    "        self.mileage = mileage\n",
    "    \n",
    "    def __repr__(self):\n",
    "        return '__repr__ for Car'\n",
    "    \n",
    "    def __str__(self):\n",
    "        return '__str__ for Car'\n",
    "\n",
    "    \n",
    "my_car = Car('red', 37281)  \n",
    "print(my_car)\n",
    "my_car"
   ]
  },
  {
   "cell_type": "markdown",
   "metadata": {},
   "source": [
    "What are the differences between these two methods? To understand we will use the `datetime` module. Note that we can use `repr()`."
   ]
  },
  {
   "cell_type": "code",
   "execution_count": 12,
   "metadata": {},
   "outputs": [
    {
     "name": "stdout",
     "output_type": "stream",
     "text": [
      "2020-05-02\n"
     ]
    },
    {
     "data": {
      "text/plain": [
       "'datetime.date(2020, 5, 2)'"
      ]
     },
     "execution_count": 12,
     "metadata": {},
     "output_type": "execute_result"
    }
   ],
   "source": [
    "import datetime\n",
    "today = datetime.date.today()\n",
    "\n",
    "print(str(today))\n",
    "repr(today)"
   ]
  },
  {
   "cell_type": "markdown",
   "metadata": {},
   "source": [
    "We can take the output of `repr()` and *execute* it. The Python documentation says that the `__str__()` method is used to give an easy to read representation of the class, and is meant for human consumption. `__repr__()`, on the other hand, should be *unambiguous*, and is meant for internal use. It's not something you would not display. Some people recommend that the output of `__repr__()` be valid, executable Python. Sometimes this is hard to attain.\n",
    "\n",
    "Note that Python falls back to calling `__repr__()` if no `__str__()` is defined. Dan Bader's recommendation is to include a `__repr__()` in every class you define. Below, there is an example of how he recommends using the `__repr__()` method.\n",
    "\n",
    "Note the use of `self.__class__.__name__` to avoid hard-coding the name of the class by hand."
   ]
  },
  {
   "cell_type": "code",
   "execution_count": 14,
   "metadata": {},
   "outputs": [],
   "source": [
    "class Car:\n",
    "    def __init__(self, color, mileage):\n",
    "        self.color = color\n",
    "        self.mileage = mileage\n",
    "        \n",
    "    def __repr__(self):\n",
    "        return '{self.__class__.__name__}({self.color}, {self.mileage})'.format(self=self)"
   ]
  },
  {
   "cell_type": "code",
   "execution_count": 15,
   "metadata": {},
   "outputs": [
    {
     "data": {
      "text/plain": [
       "Car(red, 37281)"
      ]
     },
     "execution_count": 15,
     "metadata": {},
     "output_type": "execute_result"
    }
   ],
   "source": [
    "my_car = Car('red', 37281)  \n",
    "my_car"
   ]
  },
  {
   "cell_type": "markdown",
   "metadata": {},
   "source": [
    "Containers have a different behavior, as they are going to return the content in the `repr` format. For example:"
   ]
  },
  {
   "cell_type": "code",
   "execution_count": 18,
   "metadata": {},
   "outputs": [],
   "source": [
    "str([today, today, today])"
   ]
  },
  {
   "cell_type": "markdown",
   "metadata": {},
   "source": [
    "Final note: you can use the `repr` format in conjunction with the `eval()` function."
   ]
  },
  {
   "cell_type": "code",
   "execution_count": 20,
   "metadata": {},
   "outputs": [
    {
     "data": {
      "text/plain": [
       "[datetime.date(2020, 5, 2),\n",
       " datetime.date(2020, 5, 2),\n",
       " datetime.date(2020, 5, 2)]"
      ]
     },
     "execution_count": 20,
     "metadata": {},
     "output_type": "execute_result"
    }
   ],
   "source": [
    "todays = str([today, today, today])\n",
    "eval(todays)"
   ]
  },
  {
   "cell_type": "code",
   "execution_count": null,
   "metadata": {},
   "outputs": [],
   "source": []
  }
 ],
 "metadata": {
  "kernelspec": {
   "display_name": "Python 3.6.10 64-bit ('sklearn': conda)",
   "language": "python",
   "name": "python361064bitsklearnconda33b360acdc0747d78ff0315417b604cf"
  },
  "language_info": {
   "codemirror_mode": {
    "name": "ipython",
    "version": 3
   },
   "file_extension": ".py",
   "mimetype": "text/x-python",
   "name": "python",
   "nbconvert_exporter": "python",
   "pygments_lexer": "ipython3",
   "version": "3.6.10"
  }
 },
 "nbformat": 4,
 "nbformat_minor": 2
}
