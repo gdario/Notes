{
 "cells": [
  {
   "cell_type": "markdown",
   "metadata": {},
   "source": [
    "# Converting the Fashion MNIST dataset into a TFRecords object\n",
    "\n",
    "In this notebook we build a simple TFRecords object from (almost) scratch. Our starting point is the Fashion MNIST dataset in Numpy form as available in Keras."
   ]
  },
  {
   "cell_type": "code",
   "execution_count": 1,
   "metadata": {},
   "outputs": [
    {
     "name": "stderr",
     "output_type": "stream",
     "text": [
      "Using TensorFlow backend.\n"
     ]
    }
   ],
   "source": [
    "import numpy as np\n",
    "import matplotlib.pyplot as plt\n",
    "import os\n",
    "import tensorflow as tf\n",
    "from keras.datasets import fashion_mnist\n",
    "%matplotlib inline\n",
    "\n",
    "tf.reset_default_graph()"
   ]
  },
  {
   "cell_type": "markdown",
   "metadata": {},
   "source": [
    "We load the numpy arrays representing the images and the lables from Keras."
   ]
  },
  {
   "cell_type": "code",
   "execution_count": 2,
   "metadata": {},
   "outputs": [
    {
     "name": "stdout",
     "output_type": "stream",
     "text": [
      "60000 10000\n"
     ]
    }
   ],
   "source": [
    "(x_train, y_train), (x_test, y_test) = fashion_mnist.load_data()\n",
    "print(x_train.shape[0], x_test.shape[0])"
   ]
  },
  {
   "cell_type": "markdown",
   "metadata": {},
   "source": [
    "The images are already stored as Numpy 28 x 28 arrays with dtype uint8."
   ]
  },
  {
   "cell_type": "code",
   "execution_count": 3,
   "metadata": {},
   "outputs": [
    {
     "name": "stdout",
     "output_type": "stream",
     "text": [
      "(28, 28)\n",
      "<class 'numpy.ndarray'>\n",
      "uint8\n"
     ]
    }
   ],
   "source": [
    "print(x_train[0].shape)\n",
    "print(type(x_train))\n",
    "print(x_train.dtype)"
   ]
  },
  {
   "cell_type": "markdown",
   "metadata": {},
   "source": [
    "## Adding a validation set\n",
    "\n",
    "We create three data splits, for the training, validation and test sets. For both the validation and the test sets we consider 10000 images."
   ]
  },
  {
   "cell_type": "code",
   "execution_count": 4,
   "metadata": {},
   "outputs": [
    {
     "name": "stdout",
     "output_type": "stream",
     "text": [
      "(50000, 28, 28) (10000, 28, 28)\n"
     ]
    }
   ],
   "source": [
    "x_val, y_val = x_train[-10000:], y_train[-10000:]\n",
    "x_train, y_train = x_train[:-10000], y_train[:-10000]\n",
    "print(x_train.shape, x_val.shape)\n",
    "\n",
    "data_splits = {'train': (x_train, y_train), 'val': (x_val, y_val), 'test': (x_test, y_test)}"
   ]
  },
  {
   "cell_type": "markdown",
   "metadata": {},
   "source": [
    "### Generation of the TFRecords"
   ]
  },
  {
   "cell_type": "code",
   "execution_count": 5,
   "metadata": {},
   "outputs": [],
   "source": [
    "for data_split in data_splits.keys():\n",
    "    x, y = data_splits[data_split]\n",
    "    output_file = os.path.join('../data/fashion_mnist', data_split + '.tfrecords')\n",
    "    writer = tf.python_io.TFRecordWriter(output_file)\n",
    "    for index in range(x.shape[0]):\n",
    "        image = x[index]\n",
    "        image_raw = image.tostring()\n",
    "        example = tf.train.Example(\n",
    "            features=tf.train.Features(\n",
    "                feature={                    \n",
    "                    'height': tf.train.Feature(int64_list=tf.train.Int64List(\n",
    "                        value=[image.shape[0]])),\n",
    "                    'width': tf.train.Feature(int64_list=tf.train.Int64List(\n",
    "                        value=[image.shape[1]])),\n",
    "                    'label': tf.train.Feature(int64_list=tf.train.Int64List(\n",
    "                        value=[y[index]])),\n",
    "                    'image_raw': tf.train.Feature(bytes_list=tf.train.BytesList(\n",
    "                        value=[image_raw]))   \n",
    "                }))\n",
    "        writer.write(example.SerializeToString())\n",
    "    writer.close()"
   ]
  },
  {
   "cell_type": "markdown",
   "metadata": {},
   "source": [
    "The commands above have created three TFRecords objects, one for each data split."
   ]
  },
  {
   "cell_type": "code",
   "execution_count": 6,
   "metadata": {},
   "outputs": [
    {
     "name": "stdout",
     "output_type": "stream",
     "text": [
      "total 123264\r\n",
      "-rw-r--r--  1 gdario  staff   8.3M Mar 19 21:05 test.tfrecords\r\n",
      "-rw-r--r--  1 gdario  staff    42M Mar 19 21:04 train.tfrecords\r\n",
      "-rw-r--r--  1 gdario  staff   8.3M Mar 19 21:05 val.tfrecords\r\n"
     ]
    }
   ],
   "source": [
    "%ls -lh ../data/fashion_mnist"
   ]
  },
  {
   "cell_type": "markdown",
   "metadata": {},
   "source": [
    "### TFRecord iterators\n",
    "\n",
    "To read back the images and the labels from these serialized strings, we can use different approaches. The first one is to use TFRecord iterators defined in `tf.python_io.tf_record_iterator`."
   ]
  },
  {
   "cell_type": "code",
   "execution_count": 7,
   "metadata": {},
   "outputs": [],
   "source": [
    "record_iterator = tf.python_io.tf_record_iterator('../data/fashion_mnist/val.tfrecords')\n",
    "serialized_img = next(record_iterator)"
   ]
  },
  {
   "cell_type": "markdown",
   "metadata": {},
   "source": [
    "The reconstruct the original image we need to create an instance of the `Example` class, and convert the serialized string into a numpy array. **Note** that `fromstring` is now deprecated in favor of `frombuffer`."
   ]
  },
  {
   "cell_type": "code",
   "execution_count": 8,
   "metadata": {},
   "outputs": [],
   "source": [
    "example = tf.train.Example()\n",
    "example.ParseFromString(serialized_img)\n",
    "\n",
    "image = example.features.feature['image_raw'].bytes_list.value\n",
    "label = example.features.feature['label'].int64_list.value[0]\n",
    "height = example.features.feature['height'].int64_list.value[0]\n",
    "width = example.features.feature['width'].int64_list.value[0]\n",
    "\n",
    "img_flat = np.frombuffer(image[0], dtype=np.uint8)\n",
    "img_reshaped = img_flat.reshape((height, width))"
   ]
  },
  {
   "cell_type": "code",
   "execution_count": 9,
   "metadata": {},
   "outputs": [
    {
     "name": "stdout",
     "output_type": "stream",
     "text": [
      "(28, 28)\n",
      "9\n"
     ]
    },
    {
     "data": {
      "image/png": "[encoded data removed]",
      "text/plain": [
       "<Figure size 432x288 with 1 Axes>"
      ]
     },
     "metadata": {},
     "output_type": "display_data"
    }
   ],
   "source": [
    "print(img_reshaped.shape)\n",
    "plt.imshow(img_reshaped, cmap='gray')\n",
    "print(label)"
   ]
  },
  {
   "cell_type": "markdown",
   "metadata": {},
   "source": [
    "## Using the Data API\n",
    "\n",
    "In this section we examine the `tf.data.Dataset` API. The pipeline is supposed to be flexible, allowing to pull images from different TFRecords, applying random transformations to them, and collecting the transformed images into batches.\n",
    "In our case, we want to create `Dataset`s starting from TFRecords. We will use the `TFRecordDataset` class for this. Let's start creating a dataset for the training set and one for the validation set."
   ]
  },
  {
   "cell_type": "code",
   "execution_count": 10,
   "metadata": {},
   "outputs": [],
   "source": [
    "tf.reset_default_graph()\n",
    "\n",
    "training_set = tf.data.TFRecordDataset('../data/fashion_mnist/train.tfrecords')\n",
    "validation_set = tf.data.TFRecordDataset('../data/fashion_mnist/val.tfrecords')"
   ]
  },
  {
   "cell_type": "markdown",
   "metadata": {},
   "source": [
    "Unce we have a dataset, we can iterate on it with a dataset iterator. There are several types of iterators, the simplest of which is the *one-shot iterator*. In the example below we extract the first element from the validation set."
   ]
  },
  {
   "cell_type": "code",
   "execution_count": 11,
   "metadata": {},
   "outputs": [
    {
     "data": {
      "text/plain": [
       "<tf.Tensor 'IteratorGetNext:0' shape=() dtype=string>"
      ]
     },
     "execution_count": 11,
     "metadata": {},
     "output_type": "execute_result"
    }
   ],
   "source": [
    "one_shot_iterator = validation_set.make_one_shot_iterator()\n",
    "next_element = one_shot_iterator.get_next()\n",
    "next_element"
   ]
  },
  {
   "cell_type": "markdown",
   "metadata": {},
   "source": [
    "As we can see, the element contained in `next_element` is a tensor of dtype `string`. To visualize the string, we need to evaluate the tensor in a session."
   ]
  },
  {
   "cell_type": "code",
   "execution_count": 12,
   "metadata": {},
   "outputs": [
    {
     "name": "stdout",
     "output_type": "stream",
     "text": [
      "b'\\n\\xd8\\x06\\n\\x0f\\n\\x06height\\x12\\x05\\x1a\\x03\\n\\x01\\x1c\\n\\x0e\\n\\x05label\\x12\\x05\\x1a\\x03\\n\\x01\\t\\n\\xa4\\x06\\n\\timage_raw\\x12\\x96\\x06\\n\\x93\\x06\\n\\x90\\x06\\x00\\x00\\x00\\x00\\x00\\x00\\x00\\x00\\x00\\x00\\x00\\x00\\x00\\x00\\x00\\x00\\x00\\x00\\x00\\x00\\x00\\x00\\x00\\x00\\x00\\x00\\x00\\x00\\x00\\x00\\x00\\x00\\x00\\x00\\x00\\x00\\x00\\x00\\x00\\x00\\x00\\x00\\x00\\x00\\x00\\x00\\x00\\x00\\x00\\x00\\x00\\x00\\x00\\x00\\x00\\x00\\x00\\x00\\x00\\x00\\x00\\x00\\x00\\x00\\x00\\x00\\x00\\x00\\x00\\x00\\x00\\x00\\x00\\x00\\x00\\x00\\x00\\x00\\x00\\x00\\x00\\x00\\x00\\x00\\x00\\x00\\x00\\x00\\x00\\x00\\x00\\x00\\x00\\x00\\x00\\x00\\x00\\x00\\x00\\x00\\x00\\x00\\x00\\x00\\x00\\x00\\x00\\x00\\x00\\x00\\x00\\x00\\x00\\x00\\x00\\x00\\x00\\x00\\x00\\x00\\x00\\x01\\x00\\x00\\x00\\x00\\x02\\x00\\x01\\x00\\x10^\\x00\\x00\\x02\\x01\\x01\\x00\\x01\\x00\\x00\\x00\\x00\\x00\\x00\\x00\\x00\\x00\\x00\\x00\\x01\\x00\\x01\\x01\\x00\\x00\\x01\\x00e\\xc4\\xbb\\x08\\x00\\x00\\x00\\x01\\x00\\x00\\x00\\x00\\x00\\x00\\x00\\x00\\x00\\x00\\x00\\x00\\x01\\x00\\x01\\x01\\x00\\x01\\x00\\x00\\xa1\\xa7\\xa6p\\x0b\\x01\\x00\\x00\\x06\\x00\\x00\\x00\\x00\\x00\\x00\\x00\\x00\\x00\\x00\\x01\\x00\\x00\\x00\\x00\\x00\\x03\\x00y\\xd5\\xbb\\xb7\\xb4\\xb3\\x9b\\x93\\x81\\xaf\\x08\\x00\\x00\\x00\\x00\\x00\\x00\\x00\\x00\\x00\\x00\\x01\\x00\\x00\\x01\\x02\\x01\\x00w\\xc6\\xb7\\xb9\\xaa\\xb9\\xac\\xaa\\xaa\\x92\\x02\\x00\\x00\\x00\\x00\\x00\\x00\\x00\\x00\\x00\\x00\\x00\\x00\\x00\\x02\\x03\\x00\\x00\\xaf\\xd0\\xb0\\xd4\\xb4\\xae\\xa6\\xa4\\xa4\\x90\\x00\\x00\\x00\\x00\\x00\\x00\\x00\\x00\\x00\\x00\\x00\\x00\\x00\\x00\\x02\\x00\\x00I\\xff\\xc0\\x86\\xaf\\xb7\\xc0\\xb8\\xbd\\xb3\\xc1\\x00\\x00\\x00\\x00\\x00\\x00\\x00\\x00\\x00\\x00\\x00\\x00\\x02\\x01\\x00\\x00F\\xc0\\xaa\\x86\\xbd\\xc0\\xaf\\x9d\\x9c\\xab\\x95\\xb4\\x08\\x00\\x00\\x00\\x01\\x00\\x00\\x00\\x00\\x00\\x01\\x03\\x01\\x00#c\\xb5\\xb7~\\xaf\\xc5\\xd0\\xcb\\xc5\\xbc\\xaf\\x9e\\xbb\\x0e\\x01\\x01\\x00\\x00\\x01\\x01\\x01\\x01\\x02\\x02\\x00\\x00F\\xbc\\xbct\\x83\\xb4\\xca\\xbe\\xb5\\xbc\\xbb\\xaf\\xa7\\x9c\\xc7\"\\x00\\x00\\x03\\x03\\x02\\x00\\x00\\x00\\x00\\x00\\x03E\\xb3j\\x86\\x97\\xbb\\xb7\\xb2\\xab\\xa9\\xbb\\xbb\\xb7\\xbc\\xa7\\xd25\\x00\\x00\\x00\\x00\\x00\\x00\\x01\\x0b\\x139r\\x82}\\x81\\xa0\\xae\\xb2\\xb8\\xb9\\xc4\\xc5\\xc6\\xc0\\xbc\\xbd\\xa6\\xd34\\x07\\x00\\x1dWXieclnn\\x89\\x9b\\xa6\\xae\\xb3\\xae\\xb0\\xb4\\xb5\\xb5\\xb4\\xb4\\xb8\\xae\\xa9\\xd3B\\x00\\x13\\x8fwstorwt}\\x8b\\x93\\x9b\\x9e\\xa1\\xaa\\xac\\xae\\xae\\xb3\\xbc\\xc0\\xb8\\xaa\\xae\\xcbU\\x00b\\xa2\\x94\\x92\\x8c\\x89\\x92\\x93\\x98\\x99\\x9b\\x9e\\xa4\\xa6\\xa9\\xab\\xac\\xb3\\xaf\\xb0\\xb4\\xbb\\xb4\\xb4\\xb7\\xc5\\\\1\\x80\\x85\\xa2\\xaf\\xb3\\xb2\\xa5\\xa2\\x9d\\x9e\\xa5\\xb2\\xb4\\xb4\\xbb\\xbe\\xc2\\xca\\xcf\\xd2\\xcd\\xd8\\xd9\\xd4\\xd4\\xd8^\\x1c\\x83\\x8a\\x8c\\x90\\xa1\\xab\\xb8\\xc4\\xc2\\xc2\\xc5\\xcd\\xd0\\xce\\xca\\xc9\\xc9\\xc5\\xc2\\xbe\\xb4\\xaf\\xa5\\x98\\x93\\x9dp\\x00\\x000t\\x9e\\xa4\\x97\\x9d\\xa0\\xa9\\xac\\xac\\xac\\xb7\\xb9\\xca\\xb5\\xab\\x98\\xaa\\xaa\\xa2\\xa7\\xaf\\xaa\\xa2\\x9d{\\x03\\x00\\x00\\x00\\x065i\\x8f\\xa9\\xa5\\xb9\\xb7\\xc2\\xacE&\\x14\\x01\\x00C\\xd8\\xd5\\xca\\xd2\\xd0\\xc6\\xc0\\x86\\x00\\x02\\x02\\x00\\x00\\x00\\x00\\x00\\x00\\x00\\x00\\x00\\x05\\x01\\x00\\x00\\x00\\x01\\x00\\x00/80)+\\'#\\x01\\x00\\x00\\x00\\x00\\x00\\x00\\x00\\x00\\x00\\x00\\x00\\x00\\x00\\x00\\x00\\x00\\x00\\x00\\x00\\x00\\x00\\x00\\x00\\x00\\x00\\x00\\x00\\x00\\x00\\x00\\x00\\x00\\x00\\x00\\x00\\x00\\x00\\x00\\x00\\x00\\x00\\x00\\x00\\x00\\x00\\x00\\x00\\x00\\x00\\x00\\x00\\x00\\x00\\x00\\x00\\x00\\x00\\x00\\x00\\x00\\x00\\x00\\x00\\x00\\x00\\x00\\x00\\x00\\x00\\x00\\x00\\x00\\x00\\x00\\x00\\x00\\x00\\x00\\x00\\x00\\x00\\x00\\x00\\x00\\x00\\x00\\x00\\x00\\x00\\x00\\x00\\x00\\x00\\x00\\x00\\x00\\x00\\x00\\x00\\x00\\x00\\x00\\x00\\x00\\x00\\x00\\x00\\x00\\x00\\x00\\x00\\x00\\n\\x0e\\n\\x05width\\x12\\x05\\x1a\\x03\\n\\x01\\x1c'\n"
     ]
    }
   ],
   "source": [
    "with tf.Session() as sess:\n",
    "    tmp = sess.run(next_element)\n",
    "    print(tmp)"
   ]
  },
  {
   "cell_type": "markdown",
   "metadata": {},
   "source": [
    "We need two things:\n",
    "1. A mechanism to handle the training set and the validation set differently.\n",
    "2. A way of introducing transformations into the serialized objects.\n",
    "\n",
    "For the former we can rely on either *(re)initializable* iterators or *feedable iterators*. These are illustrated in the [importing data](https://www.tensorflow.org/programmers_guide/datasets) guide. Let's consider an example with an initiable iterator. We create a placeholder that will store the string with the full path to the TFRecords object. We then create a node that create a TFRecord dataset using the information stored in this placeholder. Finally we create an initializable iterator that is initialized by the content of the placeholder."
   ]
  },
  {
   "cell_type": "code",
   "execution_count": 13,
   "metadata": {},
   "outputs": [
    {
     "name": "stdout",
     "output_type": "stream",
     "text": [
      "<class 'bytes'>\n",
      "859\n"
     ]
    }
   ],
   "source": [
    "filenames = tf.placeholder(dtype=tf.string, shape=None)\n",
    "dataset = tf.data.TFRecordDataset(filenames)\n",
    "iterator = dataset.make_initializable_iterator()\n",
    "\n",
    "with tf.Session() as sess:\n",
    "    sess.run(iterator.initializer, \n",
    "             feed_dict={filenames: '../data/fashion_mnist/val.tfrecords'})\n",
    "    next_train_example = sess.run(iterator.get_next())\n",
    "    print(type(next_train_example))\n",
    "    sess.run(iterator.initializer, \n",
    "             feed_dict={filenames: '../data/fashion_mnist/train.tfrecords'})\n",
    "    next_val_example = sess.run(iterator.get_next())\n",
    "    print(len(next_val_example))"
   ]
  },
  {
   "cell_type": "markdown",
   "metadata": {},
   "source": [
    "## Applying transformations to the elements of a dataset\n",
    "\n",
    "Our datasets contained the serialized string representation of the images and of their labels. We want to extract this information. Typical pipelines extract **tf.train.Example** protocol buffer *messages*. Each of these messages contains one or more *features*, and we typically want to convert these messages into tensors.\n",
    "\n",
    "Let's write a function that reads the protocol buffers messages from a TFRecordDataset and returns tensors. There are a few things to note:\n",
    "\n",
    "1. The input of `image_raw` are Numpy arrays, not images, therefore we use `tf.decode_raw`, not `tf.decode_image`.\n",
    "2. We need to convert `height` and `weight` into `tf.int32`, otherwise the reshaping operation fails.\n",
    "3. We reshape the labels (**TODO**: should have we done it beforehand?)"
   ]
  },
  {
   "cell_type": "code",
   "execution_count": 18,
   "metadata": {
    "scrolled": true
   },
   "outputs": [],
   "source": [
    "def convert_serialized_example_to_tensor(serialized_example):\n",
    "    \"\"\"Convert a serialized example into a normalized image.\"\"\"\n",
    "    features = {'image_raw': tf.FixedLenFeature((), tf.string, default_value=''),\n",
    "                'label': tf.FixedLenFeature((), tf.int64, default_value=0),\n",
    "                'height': tf.FixedLenFeature((), tf.int64, default_value=28),\n",
    "                'width': tf.FixedLenFeature((), tf.int64, default_value=28)}\n",
    "    parsed_features = tf.parse_single_example(serialized_example, features)\n",
    "    \n",
    "    label = tf.reshape(parsed_features['label'], [1]) # label is a tf.int64\n",
    "    \n",
    "    # Convert height and weight from tf.int64 to tf.int32\n",
    "    height, width = parsed_features['height'], parsed_features['width']\n",
    "    height, width = tf.cast(height, tf.int32), tf.cast(width, tf.int32)\n",
    "    \n",
    "    # Cast the decoded image into tf.uint8 and then into tf.float32\n",
    "    image = tf.cast(tf.decode_raw(parsed_features['image_raw'], tf.uint8), tf.float32)\n",
    "    image = tf.reshape(image / 255., [height, width])\n",
    "    return image, label"
   ]
  },
  {
   "cell_type": "code",
   "execution_count": 19,
   "metadata": {},
   "outputs": [
    {
     "name": "stdout",
     "output_type": "stream",
     "text": [
      "(28, 28) float32 (1,) int64\n"
     ]
    }
   ],
   "source": [
    "dataset = training_set.map(convert_serialized_example_to_tensor)\n",
    "\n",
    "iterator = dataset.make_one_shot_iterator()\n",
    "next_element = iterator.get_next()\n",
    "with tf.Session() as sess:\n",
    "    img, lbl = sess.run(next_element)\n",
    "    print(img.shape, img.dtype, lbl.shape, lbl.dtype)"
   ]
  },
  {
   "cell_type": "markdown",
   "metadata": {},
   "source": [
    "## Batching\n",
    "\n",
    "Once we have a deserialized dataset, generating batches is very simple, as it just require the use of the `batch` method."
   ]
  },
  {
   "cell_type": "code",
   "execution_count": 20,
   "metadata": {},
   "outputs": [
    {
     "name": "stdout",
     "output_type": "stream",
     "text": [
      "(32, 28, 28) (32, 1)\n"
     ]
    }
   ],
   "source": [
    "batched_dataset = dataset.batch(32)\n",
    "iterator = batched_dataset.make_one_shot_iterator()\n",
    "next_batch = iterator.get_next()\n",
    "\n",
    "with tf.Session() as sess:\n",
    "    image_batch, label_batch = sess.run(next_batch)\n",
    "    print(image_batch.shape, label_batch.shape)"
   ]
  },
  {
   "cell_type": "code",
   "execution_count": null,
   "metadata": {},
   "outputs": [],
   "source": []
  }
 ],
 "metadata": {
  "kernelspec": {
   "display_name": "Python 3",
   "language": "python",
   "name": "python3"
  },
  "language_info": {
   "codemirror_mode": {
    "name": "ipython",
    "version": 3
   },
   "file_extension": ".py",
   "mimetype": "text/x-python",
   "name": "python",
   "nbconvert_exporter": "python",
   "pygments_lexer": "ipython3",
   "version": "3.6.4"
  }
 },
 "nbformat": 4,
 "nbformat_minor": 2
}
