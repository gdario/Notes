{
 "cells": [
  {
   "cell_type": "markdown",
   "metadata": {},
   "source": [
    "# Understanding Generators for Deep Learning\n",
    "\n",
    "Generators are ubuquitous in Deep Learning. Regardless of a data set fitting in memory or not, you want to feed a network with mini-batches, and for this, the most effective tool is a generator. Generators have some interesting characteristics that make them particularly suitable for this task. Let's illustrate how to use generators with a simple example. We start creating two objects mimicking a typical dataset, a data array `X` and a target vector `y`. For simplicity, we let them have 100 observations."
   ]
  },
  {
   "cell_type": "code",
   "execution_count": 26,
   "metadata": {},
   "outputs": [
    {
     "data": {
      "text/plain": [
       "((100, 10), (100, 1))"
      ]
     },
     "execution_count": 26,
     "metadata": {},
     "output_type": "execute_result"
    }
   ],
   "source": [
    "import numpy as np\n",
    "X = np.random.rand(100, 10)\n",
    "y = np.random.rand(100, 1)\n",
    "X.shape, y.shape"
   ]
  },
  {
   "cell_type": "markdown",
   "metadata": {},
   "source": [
    "We want to create a generator that takes in input the batch size, and returns batches of `X` and `y` of that size. Two situations can occur:\n",
    "\n",
    "1. `batch_size` is an integer divisor of `X.shape[0]` (and, obviously, of `y.shape[0]`).\n",
    "2. `batch_size` is not an integer divisor of `X.shape[0]` (and, obviously, of `y.shape[0]`).\n",
    "\n",
    "To create our generator we must select `start` and `end` such that:\n",
    "1. The first `start` value is 0 and the first `end` valud is `batch_size -1` (note the -1!).\n",
    "2. The second `start` value is `batch_size` and the end value is `2 * batch_size - 1`\n",
    "and so on. What about the last batch? Shall we stop when the batch is the last integer divisor of `X.shape[0]`? It turns out that this is not necessary. Generators can return batches of unequal sizes, if they are properly written. Let us see some concrete examples.\n",
    "\n",
    "1. `batch_size = 50`. We want `start, end` to be, in order, `(0, 49)`, `(50, 99)`.\n",
    "2. `batch_size = 49`. We have `start, end` equal to `(0, 48)`, `(49, 97)`. There are still two observation left, but the next batch would be `(98, 147)`, which is well outside of the limits.\n",
    "\n",
    "The nice thing about generators is that even if we go for the last iteration, the two remaining samples will be returned, but no error condition will be raised. For this to work, we must properly count the number of batches we need to output. The code below shows how to do it."
   ]
  },
  {
   "cell_type": "code",
   "execution_count": 27,
   "metadata": {
    "collapsed": true
   },
   "outputs": [],
   "source": [
    "def batch_generator(batch_size):\n",
    "    num_batches = int(np.ceil(X.shape[0] / batch_size)) # IMPORTANT!\n",
    "    start = 0\n",
    "    for batch in range(num_batches):\n",
    "        end = start + batch_size\n",
    "        xb = X[slice(start, end)]\n",
    "        yb = y[slice(start, end)]\n",
    "        yield (xb, yb)\n",
    "        start += batch_size"
   ]
  },
  {
   "cell_type": "markdown",
   "metadata": {},
   "source": [
    "In the code above we are taking the *ceiling* of the ratio of `X.shape[0]` and `batch_size`. Look at the examples below to convince yourself that this is the right thing to do:"
   ]
  },
  {
   "cell_type": "code",
   "execution_count": 23,
   "metadata": {},
   "outputs": [
    {
     "data": {
      "text/plain": [
       "(2.0, 3.0, 2.0)"
      ]
     },
     "execution_count": 23,
     "metadata": {},
     "output_type": "execute_result"
    }
   ],
   "source": [
    "np.ceil(100 / 50), np.ceil(100 / 49), np.ceil(100 / 51)"
   ]
  },
  {
   "cell_type": "markdown",
   "metadata": {},
   "source": [
    "This is what we want. In  the first case there are exactly 2 batches of 50 samples. In the second case there are two batches of 49 samples and one of 2 samples, and in the third case there are two samples of 51 and 49 samples respectively. Let's go through these three cases with our function."
   ]
  },
  {
   "cell_type": "code",
   "execution_count": 29,
   "metadata": {},
   "outputs": [
    {
     "name": "stdout",
     "output_type": "stream",
     "text": [
      "(50, 10) (50, 1)\n",
      "(50, 10) (50, 1)\n"
     ]
    }
   ],
   "source": [
    "batchgen = batch_generator(50)\n",
    "for a, b in batchgen:\n",
    "    print(a.shape, b.shape)"
   ]
  },
  {
   "cell_type": "markdown",
   "metadata": {},
   "source": [
    "Second case: `batch_size = 49`"
   ]
  },
  {
   "cell_type": "code",
   "execution_count": 30,
   "metadata": {},
   "outputs": [
    {
     "name": "stdout",
     "output_type": "stream",
     "text": [
      "(49, 10) (49, 1)\n",
      "(49, 10) (49, 1)\n",
      "(2, 10) (2, 1)\n"
     ]
    }
   ],
   "source": [
    "batchgen = batch_generator(49)\n",
    "for a, b in batchgen:\n",
    "    print(a.shape, b.shape)"
   ]
  },
  {
   "cell_type": "markdown",
   "metadata": {},
   "source": [
    "Second case: `batch_size = 51`"
   ]
  },
  {
   "cell_type": "code",
   "execution_count": 31,
   "metadata": {},
   "outputs": [
    {
     "name": "stdout",
     "output_type": "stream",
     "text": [
      "(51, 10) (51, 1)\n",
      "(49, 10) (49, 1)\n"
     ]
    }
   ],
   "source": [
    "batchgen = batch_generator(51)\n",
    "for a, b in batchgen:\n",
    "    print(a.shape, b.shape)"
   ]
  },
  {
   "cell_type": "markdown",
   "metadata": {},
   "source": [
    "## What is an epoch (do I need to use `while True:`)?\n",
    "\n",
    "An epoch is a full pass on the whole dataset. In our case this means that we run the for loop above in its entirety. There is no need for constructs like `while True` to guarantee that the computation doesn't halt. However this requires re-instantiating the batch generator at each epoch."
   ]
  },
  {
   "cell_type": "code",
   "execution_count": 32,
   "metadata": {},
   "outputs": [
    {
     "name": "stdout",
     "output_type": "stream",
     "text": [
      "(49, 10) (49, 1)\n",
      "(49, 10) (49, 1)\n",
      "(2, 10) (2, 1)\n",
      "(49, 10) (49, 1)\n",
      "(49, 10) (49, 1)\n",
      "(2, 10) (2, 1)\n",
      "(49, 10) (49, 1)\n",
      "(49, 10) (49, 1)\n",
      "(2, 10) (2, 1)\n"
     ]
    }
   ],
   "source": [
    "for epoch in range(3):\n",
    "    batchgen = batch_generator(49)\n",
    "    for a, b in batchgen:\n",
    "        print(a.shape, b.shape)"
   ]
  }
 ],
 "metadata": {
  "kernelspec": {
   "display_name": "Python 3",
   "language": "python",
   "name": "python3"
  },
  "language_info": {
   "codemirror_mode": {
    "name": "ipython",
    "version": 3
   },
   "file_extension": ".py",
   "mimetype": "text/x-python",
   "name": "python",
   "nbconvert_exporter": "python",
   "pygments_lexer": "ipython3",
   "version": "3.6.2"
  }
 },
 "nbformat": 4,
 "nbformat_minor": 2
}
