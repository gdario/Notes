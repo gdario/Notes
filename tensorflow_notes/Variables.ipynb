{
 "cells": [
  {
   "cell_type": "markdown",
   "metadata": {},
   "source": [
    "# Variables"
   ]
  },
  {
   "cell_type": "markdown",
   "metadata": {},
   "source": [
    "## Constructors\n",
    "\n",
    "A variable is a tensor that has the property of maintaining its value across multiple calls to `run()`. A variable is added to a computational graph wiht one of the following constructors.\n",
    "\n",
    "1. `tf.Variable`\n",
    "2. `tf.get_variable`"
   ]
  },
  {
   "cell_type": "markdown",
   "metadata": {},
   "source": [
    "### tf.Variable\n",
    "\n",
    "The `tf.Variable` constructor requires an initial value, i.e. a tensor of any type and shape. The initial value defines the type and shape. After the construction the type and shape are fixed. The values can be modified through the assignment methods. It is also possible to modify the shape via assignments, as shown below.\n",
    "\n",
    "In the example below we add a variable to the graph, and use the `global_variables_initializer()` to initialize its value."
   ]
  },
  {
   "cell_type": "code",
   "execution_count": 1,
   "metadata": {},
   "outputs": [
    {
     "name": "stderr",
     "output_type": "stream",
     "text": [
      "/home/giovenko/miniconda3/envs/tensorflow/lib/python3.6/site-packages/h5py/__init__.py:36: FutureWarning: Conversion of the second argument of issubdtype from `float` to `np.floating` is deprecated. In future, it will be treated as `np.float64 == np.dtype(float).type`.\n",
      "  from ._conv import register_converters as _register_converters\n"
     ]
    },
    {
     "name": "stdout",
     "output_type": "stream",
     "text": [
      "13.0\n"
     ]
    }
   ],
   "source": [
    "import tensorflow as tf\n",
    "\n",
    "tf.reset_default_graph()\n",
    "graph = tf.Graph()\n",
    "\n",
    "with graph.as_default():\n",
    "    u = tf.Variable(13.0, name='u')\n",
    "    init = tf.global_variables_initializer()\n",
    "    \n",
    "with tf.Session(graph=graph) as sess:\n",
    "    sess.run(init)\n",
    "    u_val = sess.run(u)\n",
    "print(u_val)"
   ]
  },
  {
   "cell_type": "markdown",
   "metadata": {},
   "source": [
    "The type of the variable is deducted from the initial value. We can initialize the variable individually with `sess.run(u.initializer)`."
   ]
  },
  {
   "cell_type": "code",
   "execution_count": 4,
   "metadata": {},
   "outputs": [
    {
     "name": "stdout",
     "output_type": "stream",
     "text": [
      "13.0\n"
     ]
    }
   ],
   "source": [
    "tf.reset_default_graph()\n",
    "graph = tf.Graph()\n",
    "with graph.as_default():\n",
    "    u = tf.Variable(13.0, name='u')\n",
    "\n",
    "with tf.Session(graph=graph) as sess:\n",
    "    sess.run(u.initializer)  # We have only one variable. We can initialize it individually.\n",
    "    u_val = sess.run(u)\n",
    "print(u_val)"
   ]
  },
  {
   "cell_type": "markdown",
   "metadata": {},
   "source": [
    "Initialization can be performed with an assignment operator."
   ]
  },
  {
   "cell_type": "code",
   "execution_count": 6,
   "metadata": {},
   "outputs": [
    {
     "name": "stdout",
     "output_type": "stream",
     "text": [
      "13.0\n"
     ]
    }
   ],
   "source": [
    "tf.reset_default_graph()\n",
    "graph = tf.Graph()\n",
    "with graph.as_default():\n",
    "    u = tf.Variable(13.0, name='u')\n",
    "\n",
    "with tf.Session(graph=graph) as sess:\n",
    "    u = tf.assign(ref=u, value=13.0)  # Is equivalent to an initialization.\n",
    "    u_val = sess.run(u)\n",
    "print(u_val)"
   ]
  },
  {
   "cell_type": "markdown",
   "metadata": {},
   "source": [
    "Assignment can also change the shape of a variable. For this to work, one mulst pass the argument `validate_shape=False`."
   ]
  },
  {
   "cell_type": "code",
   "execution_count": 7,
   "metadata": {},
   "outputs": [
    {
     "name": "stdout",
     "output_type": "stream",
     "text": [
      "[[1.]\n",
      " [2.]\n",
      " [3.]]\n"
     ]
    }
   ],
   "source": [
    "tf.reset_default_graph()\n",
    "graph = tf.Graph()\n",
    "with graph.as_default():\n",
    "    u = tf.Variable(13.0, name='u')\n",
    "\n",
    "with tf.Session(graph=graph) as sess:\n",
    "    u = tf.assign(ref=u, value=[[1.0], [2.0], [3.0]], validate_shape=False)\n",
    "    u_val = sess.run(u)\n",
    "print(u_val)"
   ]
  },
  {
   "cell_type": "markdown",
   "metadata": {},
   "source": [
    "Another form of initialization is by restoring a saved model. It can happen that one variable needs to be initialized based on the value of another variable. You can use `initialized_value()` for this purpose."
   ]
  },
  {
   "cell_type": "code",
   "execution_count": 8,
   "metadata": {},
   "outputs": [
    {
     "name": "stdout",
     "output_type": "stream",
     "text": [
      "15.0\n"
     ]
    }
   ],
   "source": [
    "tf.reset_default_graph()\n",
    "graph = tf.Graph()\n",
    "with graph.as_default():\n",
    "    u = tf.Variable(13.0, name='u')\n",
    "    v = tf.Variable(u.initialized_value() + 2.0, name='v')  # Use the value of u to initialize\n",
    "    init = tf.global_variables_initializer()\n",
    "\n",
    "with tf.Session(graph=graph) as sess:\n",
    "    sess.run(init)\n",
    "    v_val = sess.run(v)\n",
    "print(v_val)"
   ]
  },
  {
   "cell_type": "markdown",
   "metadata": {},
   "source": [
    "One can find which variables are not initialized with `tf.report_uninitialized_variables()` or test whether a given variable is initialized or not via `tf.is_variable_initialized()`."
   ]
  },
  {
   "cell_type": "markdown",
   "metadata": {},
   "source": [
    "## Variable Collections\n",
    "\n",
    "All variables in a graph are automatically collected in **graph collections**. By default the `tf.Variable` constructor adds new variables to `GraphKeys.GLOBAL_VARIABLES`. You can inspect the content of this collections in (at least) two ways:\n",
    "\n",
    "1. with the `tf.global_variables()` function.\n",
    "2. with the `tf.GraphKeys` collections."
   ]
  },
  {
   "cell_type": "code",
   "execution_count": 22,
   "metadata": {},
   "outputs": [
    {
     "name": "stdout",
     "output_type": "stream",
     "text": [
      "[<tf.Variable 'u:0' shape=() dtype=float32_ref>, <tf.Variable 'v:0' shape=() dtype=float32_ref>]\n"
     ]
    }
   ],
   "source": [
    "# Show the global variables in the graph\n",
    "with graph.as_default():\n",
    "    print(tf.global_variables())"
   ]
  },
  {
   "cell_type": "markdown",
   "metadata": {},
   "source": [
    "Variables are added to the graph collections listed in `collections`, which defaults to `GraphKeys.GLOBAL_VARIABLES`. Note that the global initializer initializes all the variables in this collection. If the `trainable` argument in the constructor is set to `True` (the default0, the variables are also added to `GraphKeys.TRAINABLE_VARIABLES`. Therefore every `tf.Variable` is by default placed in the two collections: `GraphKeys.GLOBAL_VARIABLES` and `GraphKeys.TRAINABLE_VARIABLES`\n",
    "One can specify to which collections the variable will be added with the `collections` argument in the `tf.Variable` constructor."
   ]
  },
  {
   "cell_type": "code",
   "execution_count": 28,
   "metadata": {},
   "outputs": [
    {
     "name": "stdout",
     "output_type": "stream",
     "text": [
      "['trainable_variables', 'variables', 'cond_context']\n",
      "['trainable_variables', 'variables', 'cond_context']\n"
     ]
    }
   ],
   "source": [
    "with graph.as_default():\n",
    "    print(graph.collections)\n",
    "    print([tf.GraphKeys.TRAINABLE_VARIABLES, \n",
    "           tf.GraphKeys.GLOBAL_VARIABLES, \n",
    "           tf.GraphKeys.COND_CONTEXT])"
   ]
  },
  {
   "cell_type": "markdown",
   "metadata": {},
   "source": [
    "## tf.get_variable\n",
    "\n",
    "Using [tf.get_variable](https://www.tensorflow.org/api_docs/python/tf/get_variable) is the preferred way to create a variable. This function prefixes the variable name with the variable scope and performs reuse checks. To create a variable, we pass the name and the shape. The dtype will be `tf.float32` by default. This can be changed with the `dtype` argument. The initializer is `None` by default, in which case the initializer of the variable scope is used. If this too is `None`, a `glorot_uniform_initializer` is used. The initializer can be a tensor, in which case `shape` should not be specified."
   ]
  },
  {
   "cell_type": "code",
   "execution_count": 30,
   "metadata": {},
   "outputs": [
    {
     "name": "stdout",
     "output_type": "stream",
     "text": [
      "5\n"
     ]
    }
   ],
   "source": [
    "tf.reset_default_graph()\n",
    "\n",
    "graph = tf.Graph()\n",
    "with graph.as_default():\n",
    "    u = tf.get_variable(name='u', shape=[], dtype=tf.int32)\n",
    "    u = tf.assign(ref=u, value=5)  # Initialization by assignment.\n",
    "\n",
    "with tf.Session(graph=graph) as sess:\n",
    "    u_val = u.eval()\n",
    "print(u_val)"
   ]
  },
  {
   "cell_type": "markdown",
   "metadata": {},
   "source": [
    "One can create new collections and add variables to them by using `tf.add_to_collection('collection_name', var_name)`. To see the variables in a collection, use `tf.get_collection()`.\n",
    "\n",
    "### tf.control_dependiencies and read_value\n",
    "\n",
    "Variables can be modified in the course of session runs. In some cases we may want to be sure about what value the variable has. We can do this by using a `tf.control_dependencies` context manager, and `read_value`. The example below is taken from this part of the [documentation](https://www.tensorflow.org/programmers_guide/variables)"
   ]
  },
  {
   "cell_type": "code",
   "execution_count": 31,
   "metadata": {},
   "outputs": [],
   "source": [
    "v = tf.get_variable(\"v\", shape=(), initializer=tf.zeros_initializer())\n",
    "assignment = v.assign_add(1)\n",
    "with tf.control_dependencies([assignment]):\n",
    "  w = v.read_value()  # w is guaranteed to reflect v's value after the\n",
    "                      # assign_add operation."
   ]
  },
  {
   "cell_type": "markdown",
   "metadata": {},
   "source": [
    "Variables can be partitioned for sharding across devices. There are specific functions for this purpose. Look for \"Variable Partitioners for Sharding\" in the [variables documentation](https://www.tensorflow.org/api_guides/python/state_ops#Variable_Partitioners_for_Sharding)"
   ]
  },
  {
   "cell_type": "markdown",
   "metadata": {},
   "source": [
    "### More on graphs and collections\n",
    "\n",
    "Let's consider the case below, where we create a graph, and add a constant tensor."
   ]
  },
  {
   "cell_type": "code",
   "execution_count": 33,
   "metadata": {},
   "outputs": [
    {
     "name": "stdout",
     "output_type": "stream",
     "text": [
      "7.0\n"
     ]
    }
   ],
   "source": [
    "tf.reset_default_graph()\n",
    "graph = tf.Graph()\n",
    "with graph.as_default():\n",
    "    c = tf.constant(7.0, name='c')\n",
    "\n",
    "with tf.Session(graph=graph) as sess:\n",
    "    c_val = sess.run(c)\n",
    "print(c_val)"
   ]
  },
  {
   "cell_type": "markdown",
   "metadata": {},
   "source": [
    "The graph does not contain variables, therefore all the collections are empty."
   ]
  },
  {
   "cell_type": "code",
   "execution_count": 39,
   "metadata": {},
   "outputs": [
    {
     "name": "stdout",
     "output_type": "stream",
     "text": [
      "[]\n"
     ]
    }
   ],
   "source": [
    "with graph.as_default():\n",
    "    print(graph.collections)\n",
    "    graph.get_collection(tf.GraphKeys.GLOBAL_VARIABLES)"
   ]
  },
  {
   "cell_type": "markdown",
   "metadata": {},
   "source": [
    "We can retrieve the constant tensor by name. This will be `c:0`."
   ]
  },
  {
   "cell_type": "code",
   "execution_count": 40,
   "metadata": {},
   "outputs": [
    {
     "name": "stdout",
     "output_type": "stream",
     "text": [
      "Tensor(\"c:0\", shape=(), dtype=float32)\n"
     ]
    }
   ],
   "source": [
    "with graph.as_default():\n",
    "    print(graph.get_tensor_by_name('c:0'))"
   ]
  },
  {
   "cell_type": "markdown",
   "metadata": {},
   "source": [
    "Let's add two variables to the graph: one trainable and one not."
   ]
  },
  {
   "cell_type": "code",
   "execution_count": 41,
   "metadata": {},
   "outputs": [],
   "source": [
    "with graph.as_default():\n",
    "    u = tf.get_variable(name='u', shape=[])\n",
    "    v = tf.get_variable(name='v', shape=[], trainable=False)\n",
    "    init = tf.global_variables_initializer()"
   ]
  },
  {
   "cell_type": "markdown",
   "metadata": {},
   "source": [
    "Now the collections of trainable and non trainable variables should be populated."
   ]
  },
  {
   "cell_type": "code",
   "execution_count": 45,
   "metadata": {},
   "outputs": [
    {
     "name": "stdout",
     "output_type": "stream",
     "text": [
      "[('__varscope',), ('__variable_store',), 'trainable_variables', 'variables']\n",
      "[<tf.Variable 'u:0' shape=() dtype=float32_ref>]\n",
      "[<tf.Variable 'u:0' shape=() dtype=float32_ref>, <tf.Variable 'v:0' shape=() dtype=float32_ref>]\n"
     ]
    }
   ],
   "source": [
    "with graph.as_default():\n",
    "    print(graph.collections)\n",
    "    print(graph.get_collection(tf.GraphKeys.TRAINABLE_VARIABLES))\n",
    "    print(graph.get_collection(tf.GraphKeys.VARIABLES))"
   ]
  }
 ],
 "metadata": {
  "kernelspec": {
   "display_name": "Python 3",
   "language": "python",
   "name": "python3"
  },
  "language_info": {
   "codemirror_mode": {
    "name": "ipython",
    "version": 3
   },
   "file_extension": ".py",
   "mimetype": "text/x-python",
   "name": "python",
   "nbconvert_exporter": "python",
   "pygments_lexer": "ipython3",
   "version": "3.6.5"
  }
 },
 "nbformat": 4,
 "nbformat_minor": 2
}
