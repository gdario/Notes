{
 "cells": [
  {
   "cell_type": "markdown",
   "metadata": {},
   "source": [
    "# MNIST with two input nodes and a shared hidden layer\n",
    "\n",
    "In this example we still consider the MNIST dataset, but we split each image into two 1 dimensional sub-images that we use as separate inputs. The two inputs are then fully connected to a hidden layer, but the weights of the two hidden layers in the two subgraph are forced to be equal. This example shows how to deal with subgraphs, shared variables, and how to extract the weight information from the graph."
   ]
  },
  {
   "cell_type": "code",
   "execution_count": 74,
   "metadata": {},
   "outputs": [],
   "source": [
    "import numpy as np\n",
    "import matplotlib.pyplot as plt\n",
    "import tensorflow as tf\n",
    "from tensorflow.examples.tutorials.mnist import input_data\n",
    "from datetime import datetime\n",
    "\n",
    "%matplotlib inline\n",
    "\n",
    "# For tensorboard\n",
    "now = datetime.utcnow().strftime(\"%Y%m%d_%H%M%S\")\n",
    "logdir = 'tf_logs/' + 'mnist_shared' + now"
   ]
  },
  {
   "cell_type": "markdown",
   "metadata": {},
   "source": [
    "We start setting some of the parameters, i.e. the size of the two inputs (half of the dimension of an unrolled image), the size of the shared hidden layer, the output size, the learning rate, the number of epochs and the batch size."
   ]
  },
  {
   "cell_type": "code",
   "execution_count": 75,
   "metadata": {},
   "outputs": [
    {
     "name": "stdout",
     "output_type": "stream",
     "text": [
      "Extracting /tmp/data/train-images-idx3-ubyte.gz\n",
      "Extracting /tmp/data/train-labels-idx1-ubyte.gz\n",
      "Extracting /tmp/data/t10k-images-idx3-ubyte.gz\n",
      "Extracting /tmp/data/t10k-labels-idx1-ubyte.gz\n"
     ]
    }
   ],
   "source": [
    "tf.reset_default_graph()\n",
    "\n",
    "n_inputs = 392\n",
    "n_hidden1 = 150\n",
    "n_output = 10\n",
    "\n",
    "learning_rate = 0.005\n",
    "n_epochs = 100\n",
    "batch_size = 100\n",
    "\n",
    "# Store the MNIST data in a temporary folder\n",
    "mnist = input_data.read_data_sets('/tmp/data/')"
   ]
  },
  {
   "cell_type": "markdown",
   "metadata": {},
   "source": [
    "Let's see how we can split the images. We can consider the first image from the training set."
   ]
  },
  {
   "cell_type": "code",
   "execution_count": 76,
   "metadata": {},
   "outputs": [
    {
     "name": "stdout",
     "output_type": "stream",
     "text": [
      "Image shape =  (784,) label value =  7\n"
     ]
    }
   ],
   "source": [
    "x = mnist.train.images[0]\n",
    "y = mnist.train.labels[0]\n",
    "print('Image shape = ', x.shape, 'label value = ', y)"
   ]
  },
  {
   "cell_type": "markdown",
   "metadata": {},
   "source": [
    "We can split the vector using `np.hsplit`. We must reshape the image to make it look like a batch of unit size."
   ]
  },
  {
   "cell_type": "code",
   "execution_count": 77,
   "metadata": {},
   "outputs": [
    {
     "name": "stdout",
     "output_type": "stream",
     "text": [
      "(1, 392) (1, 392)\n"
     ]
    }
   ],
   "source": [
    "x1, x2 = np.hsplit(x.reshape(1, x.shape[0]), 2)\n",
    "print(x1.shape, x2.shape)"
   ]
  },
  {
   "cell_type": "markdown",
   "metadata": {},
   "source": [
    "Each sub-image is an array of `batch_size` rows and 392 columns. Let's see in which direction we have actually split the image. First we plot the original image."
   ]
  },
  {
   "cell_type": "code",
   "execution_count": 78,
   "metadata": {},
   "outputs": [
    {
     "data": {
      "text/plain": [
       "<matplotlib.image.AxesImage at 0x7f0b2c199278>"
      ]
     },
     "execution_count": 78,
     "metadata": {},
     "output_type": "execute_result"
    },
    {
     "data": {
      "image/png": "[encoded data removed]",
      "text/plain": [
       "<matplotlib.figure.Figure at 0x7f0b2c218ba8>"
      ]
     },
     "metadata": {},
     "output_type": "display_data"
    }
   ],
   "source": [
    "plt.imshow(x.reshape(28, 28))"
   ]
  },
  {
   "cell_type": "markdown",
   "metadata": {},
   "source": [
    "We see that it is actually a 7. Now let's plot the sub-images."
   ]
  },
  {
   "cell_type": "code",
   "execution_count": 79,
   "metadata": {},
   "outputs": [
    {
     "data": {
      "text/plain": [
       "<matplotlib.image.AxesImage at 0x7f0b2c1c25c0>"
      ]
     },
     "execution_count": 79,
     "metadata": {},
     "output_type": "execute_result"
    },
    {
     "data": {
      "image/png": "[encoded data removed]",
      "text/plain": [
       "<matplotlib.figure.Figure at 0x7f0b2c1ce7b8>"
      ]
     },
     "metadata": {},
     "output_type": "display_data"
    }
   ],
   "source": [
    "f, axarr = plt.subplots(2, sharex=True)\n",
    "axarr[0].imshow(x1.reshape(14, 28))\n",
    "axarr[1].imshow(x2.reshape(14, 28))"
   ]
  },
  {
   "cell_type": "markdown",
   "metadata": {},
   "source": [
    "The image appears somewhat different, but it is not, as we can see when we put it back together."
   ]
  },
  {
   "cell_type": "code",
   "execution_count": 80,
   "metadata": {},
   "outputs": [
    {
     "data": {
      "text/plain": [
       "<matplotlib.image.AxesImage at 0x7f0b2c03c710>"
      ]
     },
     "execution_count": 80,
     "metadata": {},
     "output_type": "execute_result"
    },
    {
     "data": {
      "image/png": "[encoded data removed]",
      "text/plain": [
       "<matplotlib.figure.Figure at 0x7f0b2c1d5278>"
      ]
     },
     "metadata": {},
     "output_type": "display_data"
    }
   ],
   "source": [
    "plt.imshow(np.vstack([x1.reshape(14, 28), x2.reshape(14, 28)]))"
   ]
  },
  {
   "cell_type": "markdown",
   "metadata": {},
   "source": [
    "We create a convenience function to generate training batches of sub-images."
   ]
  },
  {
   "cell_type": "code",
   "execution_count": 81,
   "metadata": {
    "collapsed": true
   },
   "outputs": [],
   "source": [
    "def batch_generator(mnist_input, batch_size):\n",
    "    n_batches = int(np.ceil(mnist_input.num_examples / batch_size))\n",
    "    for batch in range(n_batches):\n",
    "        X_batch, y_batch = mnist_input.next_batch(batch_size)\n",
    "        X1_batch, X2_batch = np.hsplit(X_batch, 2)\n",
    "        yield X1_batch, X2_batch, y_batch"
   ]
  },
  {
   "cell_type": "markdown",
   "metadata": {},
   "source": [
    "## Weight sharing\n",
    "\n",
    "Next we start building the model. There are many questions and answers on StackOverflow and in other websites concerning the best way to share the weights of a layer. It turns out that for it's particularly easy for the layers of the `tf.layers` module. In our case we have a hidden layer `hidden1` associated with the same name. If we create a second layer, `hidden2`, that has the same name and where the option `reuse` equals `True`, then this will reuse the weights of `hidden1`.\n",
    "\n",
    "### Weight histogram in TensorBoard\n",
    "\n",
    "We want to visualize the evolution of the weights of the hidden layer in TensorBoard. The first step is to extract the weights from the corresponding tensor. For each layer, the weights can be accessed by typing: `tf.get_default_graph().get_tensor_by_name('layer_name/kernel:0')`.\n",
    "We need to assign the content of this tensor to a variable, and create a `tf.summary.histogram` object to access them. Finally we combine all the summaries with `tf.summary.merge_all()`."
   ]
  },
  {
   "cell_type": "code",
   "execution_count": 82,
   "metadata": {},
   "outputs": [],
   "source": [
    "he_init = tf.contrib.layers.variance_scaling_initializer()\n",
    "\n",
    "X1 = tf.placeholder(tf.float32, shape=(None, n_inputs), name='X1')\n",
    "X2 = tf.placeholder(tf.float32, shape=(None, n_inputs), name='X2')\n",
    "y = tf.placeholder(tf.int64, shape=(None), name='y')\n",
    "\n",
    "with tf.name_scope('model'):\n",
    "    # Here we don't reuse the weights (default)\n",
    "    hidden1 = tf.layers.dense(X1, n_hidden1, kernel_initializer=he_init,\n",
    "                              name='hidden1', activation=tf.nn.relu,\n",
    "                              reuse=None)\n",
    "    \n",
    "    weights_hidden1 = tf.get_default_graph().get_tensor_by_name('hidden1/kernel:0')\n",
    "    tf.summary.histogram('weights_hidden1', weights_hidden1)\n",
    "\n",
    "    # Here instead we use the weights from `hidden1`.\n",
    "    hidden2 = tf.layers.dense(X2, n_hidden1, kernel_initializer=he_init,\n",
    "                              name='hidden1', activation=tf.nn.relu,\n",
    "                              reuse=True)\n",
    "    \n",
    "    # We combine the weight vectors. This should be identical to the weights\n",
    "    # in `hidden1`. CHECK THAT THIS IS THE CASE\n",
    "    hidden3 = tf.reduce_mean([hidden1, hidden2], axis=0)\n",
    "    logits = tf.layers.dense(hidden3, 10, activation=None, name='output')"
   ]
  },
  {
   "cell_type": "markdown",
   "metadata": {},
   "source": [
    "We then define the loss and create the trainining op. We also create an `accuracy` node to compute the accuracy in the training and in the test set."
   ]
  },
  {
   "cell_type": "code",
   "execution_count": 83,
   "metadata": {
    "collapsed": true
   },
   "outputs": [],
   "source": [
    "with tf.name_scope('loss'):\n",
    "    xentropy = tf.nn.sparse_softmax_cross_entropy_with_logits(\n",
    "        labels=y, logits=logits)\n",
    "    loss = tf.reduce_mean(xentropy)\n",
    "\n",
    "with tf.name_scope('train'):\n",
    "    optimizer = tf.train.AdamOptimizer(learning_rate)\n",
    "    training_op = optimizer.minimize(loss)\n",
    "    correct = tf.nn.in_top_k(k=1, predictions=logits, targets=y)\n",
    "    accuracy = tf.reduce_mean(tf.cast(correct, dtype=tf.float32))"
   ]
  },
  {
   "cell_type": "markdown",
   "metadata": {},
   "source": [
    "We finally create the variable initializer, the summary node for TensorBoard, and the training and test file writers."
   ]
  },
  {
   "cell_type": "code",
   "execution_count": 84,
   "metadata": {
    "scrolled": true
   },
   "outputs": [],
   "source": [
    "init = tf.global_variables_initializer()\n",
    "\n",
    "accuracy_summary = tf.summary.scalar('training_accuracy', accuracy)\n",
    "summaries = tf.summary.merge_all()\n",
    "\n",
    "train_writer = tf.summary.FileWriter(logdir + '_train', tf.get_default_graph())\n",
    "test_writer = tf.summary.FileWriter(logdir + '_test', tf.get_default_graph())"
   ]
  },
  {
   "cell_type": "markdown",
   "metadata": {},
   "source": [
    "We can now create the session and start training."
   ]
  },
  {
   "cell_type": "code",
   "execution_count": 85,
   "metadata": {},
   "outputs": [
    {
     "name": "stdout",
     "output_type": "stream",
     "text": [
      "Epoch:  0\n",
      "Epoch:  1\n",
      "Epoch:  2\n",
      "Epoch:  3\n",
      "Epoch:  4\n",
      "Epoch:  5\n",
      "Epoch:  6\n",
      "Epoch:  7\n",
      "Epoch:  8\n",
      "Epoch:  9\n",
      "Epoch:  10\n",
      "Epoch:  11\n",
      "Epoch:  12\n",
      "Epoch:  13\n",
      "Epoch:  14\n",
      "Epoch:  15\n",
      "Epoch:  16\n",
      "Epoch:  17\n",
      "Epoch:  18\n",
      "Epoch:  19\n",
      "Epoch:  20\n",
      "Epoch:  21\n",
      "Epoch:  22\n",
      "Epoch:  23\n",
      "Epoch:  24\n",
      "Epoch:  25\n",
      "Epoch:  26\n",
      "Epoch:  27\n",
      "Epoch:  28\n",
      "Epoch:  29\n",
      "Epoch:  30\n",
      "Epoch:  31\n",
      "Epoch:  32\n",
      "Epoch:  33\n",
      "Epoch:  34\n",
      "Epoch:  35\n",
      "Epoch:  36\n",
      "Epoch:  37\n",
      "Epoch:  38\n",
      "Epoch:  39\n",
      "Epoch:  40\n",
      "Epoch:  41\n",
      "Epoch:  42\n",
      "Epoch:  43\n",
      "Epoch:  44\n",
      "Epoch:  45\n",
      "Epoch:  46\n",
      "Epoch:  47\n",
      "Epoch:  48\n",
      "Epoch:  49\n",
      "Epoch:  50\n",
      "Epoch:  51\n",
      "Epoch:  52\n",
      "Epoch:  53\n",
      "Epoch:  54\n",
      "Epoch:  55\n",
      "Epoch:  56\n",
      "Epoch:  57\n",
      "Epoch:  58\n",
      "Epoch:  59\n",
      "Epoch:  60\n",
      "Epoch:  61\n",
      "Epoch:  62\n",
      "Epoch:  63\n",
      "Epoch:  64\n",
      "Epoch:  65\n",
      "Epoch:  66\n",
      "Epoch:  67\n",
      "Epoch:  68\n",
      "Epoch:  69\n",
      "Epoch:  70\n",
      "Epoch:  71\n",
      "Epoch:  72\n",
      "Epoch:  73\n",
      "Epoch:  74\n",
      "Epoch:  75\n",
      "Epoch:  76\n",
      "Epoch:  77\n",
      "Epoch:  78\n",
      "Epoch:  79\n",
      "Epoch:  80\n",
      "Epoch:  81\n",
      "Epoch:  82\n",
      "Epoch:  83\n",
      "Epoch:  84\n",
      "Epoch:  85\n",
      "Epoch:  86\n",
      "Epoch:  87\n",
      "Epoch:  88\n",
      "Epoch:  89\n",
      "Epoch:  90\n",
      "Epoch:  91\n",
      "Epoch:  92\n",
      "Epoch:  93\n",
      "Epoch:  94\n",
      "Epoch:  95\n",
      "Epoch:  96\n",
      "Epoch:  97\n",
      "Epoch:  98\n",
      "Epoch:  99\n"
     ]
    }
   ],
   "source": [
    "with tf.Session() as sess:\n",
    "    sess.run(init)\n",
    "\n",
    "    step = 0\n",
    "\n",
    "    X1_test, X2_test = np.hsplit(mnist.test.images, 2)\n",
    "    y_test = mnist.test.labels\n",
    "\n",
    "    for epoch in range(n_epochs):\n",
    "        print('Epoch: ', epoch)\n",
    "        batchgen_train = batch_generator(mnist.train, batch_size)\n",
    "        batchgen_test = batch_generator(mnist.test, batch_size)\n",
    "        for X1_batch, X2_batch, y_batch in batchgen_train:\n",
    "            sess.run(training_op,\n",
    "                     feed_dict={X1: X1_batch, X2: X2_batch, y: y_batch})\n",
    "\n",
    "            if step % 100 == 0:\n",
    "                train_summ = sess.run(summaries,\n",
    "                                      feed_dict={X1: X1_batch,\n",
    "                                                 X2: X2_batch,\n",
    "                                                 y: y_batch})\n",
    "                test_summ = sess.run(summaries,\n",
    "                                     feed_dict={X1: X1_test,\n",
    "                                                X2: X2_test,\n",
    "                                                y: y_test})\n",
    "                train_writer.add_summary(train_summ, step)\n",
    "                test_writer.add_summary(test_summ, step)\n",
    "            step += 1\n",
    "\n",
    "    train_writer.close()\n",
    "    test_writer.close()"
   ]
  },
  {
   "cell_type": "markdown",
   "metadata": {},
   "source": [
    "One can now inspect the performance by running TensorBoard."
   ]
  },
  {
   "cell_type": "code",
   "execution_count": null,
   "metadata": {
    "collapsed": true
   },
   "outputs": [],
   "source": []
  }
 ],
 "metadata": {
  "kernelspec": {
   "display_name": "Python 3",
   "language": "python",
   "name": "python3"
  },
  "language_info": {
   "codemirror_mode": {
    "name": "ipython",
    "version": 3
   },
   "file_extension": ".py",
   "mimetype": "text/x-python",
   "name": "python",
   "nbconvert_exporter": "python",
   "pygments_lexer": "ipython3",
   "version": "3.6.2"
  }
 },
 "nbformat": 4,
 "nbformat_minor": 2
}
