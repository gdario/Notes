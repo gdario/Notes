{
 "nbformat": 4,
 "nbformat_minor": 2,
 "metadata": {
  "language_info": {
   "name": "python",
   "codemirror_mode": {
    "name": "ipython",
    "version": 3
   },
   "version": "3.6.7"
  },
  "orig_nbformat": 2,
  "file_extension": ".py",
  "mimetype": "text/x-python",
  "name": "python",
  "npconvert_exporter": "python",
  "pygments_lexer": "ipython3",
  "version": 3
 },
 "cells": [
  {
   "cell_type": "markdown",
   "execution_count": null,
   "metadata": {},
   "outputs": [],
   "source": [
    "# Categorical Data\n",
    "\n",
    "Categorical data in pandas contain `categories` and `codes`."
   ]
  },
  {
   "cell_type": "code",
   "execution_count": 46,
   "metadata": {},
   "outputs": [
    {
     "data": {
      "text/html": "<div>\n<style scoped>\n    .dataframe tbody tr th:only-of-type {\n        vertical-align: middle;\n    }\n\n    .dataframe tbody tr th {\n        vertical-align: top;\n    }\n\n    .dataframe thead th {\n        text-align: right;\n    }\n</style>\n<table border=\"1\" class=\"dataframe\">\n  <thead>\n    <tr style=\"text-align: right;\">\n      <th></th>\n      <th>basket_id</th>\n      <th>fruit</th>\n      <th>count</th>\n      <th>weight</th>\n    </tr>\n  </thead>\n  <tbody>\n    <tr>\n      <th>0</th>\n      <td>0</td>\n      <td>apple</td>\n      <td>6</td>\n      <td>1.697275</td>\n    </tr>\n    <tr>\n      <th>1</th>\n      <td>1</td>\n      <td>orange</td>\n      <td>10</td>\n      <td>2.963134</td>\n    </tr>\n    <tr>\n      <th>2</th>\n      <td>2</td>\n      <td>apple</td>\n      <td>4</td>\n      <td>0.252656</td>\n    </tr>\n    <tr>\n      <th>3</th>\n      <td>3</td>\n      <td>apple</td>\n      <td>6</td>\n      <td>2.678084</td>\n    </tr>\n    <tr>\n      <th>4</th>\n      <td>4</td>\n      <td>apple</td>\n      <td>7</td>\n      <td>3.693899</td>\n    </tr>\n    <tr>\n      <th>5</th>\n      <td>5</td>\n      <td>orange</td>\n      <td>10</td>\n      <td>2.551818</td>\n    </tr>\n    <tr>\n      <th>6</th>\n      <td>6</td>\n      <td>apple</td>\n      <td>14</td>\n      <td>0.787548</td>\n    </tr>\n    <tr>\n      <th>7</th>\n      <td>7</td>\n      <td>apple</td>\n      <td>3</td>\n      <td>3.735868</td>\n    </tr>\n  </tbody>\n</table>\n</div>",
      "text/plain": "   basket_id   fruit  count    weight\n0          0   apple      6  1.697275\n1          1  orange     10  2.963134\n2          2   apple      4  0.252656\n3          3   apple      6  2.678084\n4          4   apple      7  3.693899\n5          5  orange     10  2.551818\n6          6   apple     14  0.787548\n7          7   apple      3  3.735868"
     },
     "execution_count": 46,
     "metadata": {},
     "output_type": "execute_result"
    }
   ],
   "source": [
    "import pandas as pd\n",
    "import numpy as np\n",
    "\n",
    "fruits = ['apple', 'orange', 'apple', 'apple'] * 2\n",
    "N = len(fruits)\n",
    "df = pd.DataFrame({'fruit': fruits,\n",
    "'basket_id': np.arange(N),\n",
    "'count': np.random.randint(3, 15, size=N),\n",
    "'weight': np.random.uniform(0, 4, size=N)},\n",
    "columns=['basket_id', 'fruit', 'count', 'weight'])\n",
    "\n",
    "df"
   ]
  },
  {
   "cell_type": "markdown",
   "execution_count": null,
   "metadata": {},
   "outputs": [],
   "source": [
    "We can convert the `fruit` column to categorical. Note that the values are of type categorical, while the column itself is a Series."
   ]
  },
  {
   "cell_type": "code",
   "execution_count": 47,
   "metadata": {},
   "outputs": [
    {
     "name": "stdout",
     "output_type": "stream",
     "text": "<class 'pandas.core.series.Series'>\n<class 'pandas.core.arrays.categorical.Categorical'>\n"
    }
   ],
   "source": [
    "fruit_cat = df['fruit'].astype('category')\n",
    "print(type(fruit_cat))\n",
    "print(type(fruit_cat.values))\n",
    "c = fruit_cat.values"
   ]
  },
  {
   "cell_type": "markdown",
   "execution_count": null,
   "metadata": {},
   "outputs": [],
   "source": [
    "Categorical data have `categories` and `codes`."
   ]
  },
  {
   "cell_type": "code",
   "execution_count": 48,
   "metadata": {},
   "outputs": [
    {
     "data": {
      "text/plain": "(Index(['apple', 'orange'], dtype='object'),\n array([0, 1, 0, 0, 0, 1, 0, 0], dtype=int8))"
     },
     "execution_count": 48,
     "metadata": {},
     "output_type": "execute_result"
    }
   ],
   "source": [
    "c.categories, c.codes"
   ]
  },
  {
   "cell_type": "markdown",
   "execution_count": null,
   "metadata": {},
   "outputs": [],
   "source": [
    "We can create categorical data from a list using `pandas.Categorical`."
   ]
  },
  {
   "cell_type": "code",
   "execution_count": 49,
   "metadata": {},
   "outputs": [
    {
     "data": {
      "text/plain": "[foo, bar, baz, foo, bar]\nCategories (3, object): [bar, baz, foo]"
     },
     "execution_count": 49,
     "metadata": {},
     "output_type": "execute_result"
    }
   ],
   "source": [
    "my_categories = pd.Categorical(['foo', 'bar', 'baz', 'foo', 'bar'])\n",
    "my_categories"
   ]
  },
  {
   "cell_type": "markdown",
   "execution_count": null,
   "metadata": {},
   "outputs": [],
   "source": [
    "The `pandas.Categorical` class has a `from_codes` method, that allows creating categorical data starting from the codes and the categories."
   ]
  },
  {
   "cell_type": "code",
   "execution_count": 50,
   "metadata": {},
   "outputs": [
    {
     "data": {
      "text/plain": "[Klingon, Romulan, Klingon, Vulcan, Vulcan, Romulan]\nCategories (3, object): [Klingon, Romulan, Vulcan]"
     },
     "execution_count": 50,
     "metadata": {},
     "output_type": "execute_result"
    }
   ],
   "source": [
    "codes = [0, 1, 0, 2, 2, 1]\n",
    "categories = ['Klingon', 'Romulan', 'Vulcan']\n",
    "star_trek_races = pd.Categorical.from_codes(codes, categories)\n",
    "star_trek_races"
   ]
  },
  {
   "cell_type": "markdown",
   "execution_count": 14,
   "metadata": {},
   "outputs": [
    {
     "ename": "TypeError",
     "evalue": "check_for_ordered() missing 1 required positional argument: 'op'",
     "output_type": "error",
     "traceback": [
      "\u001b[0;31m---------------------------------------------------------------------------\u001b[0m",
      "\u001b[0;31mTypeError\u001b[0m                                 Traceback (most recent call last)",
      "\u001b[0;32m<ipython-input-14-8cf9fb6d3f76>\u001b[0m in \u001b[0;36m<module>\u001b[0;34m\u001b[0m\n\u001b[0;32m----> 1\u001b[0;31m \u001b[0mstar_trek_races\u001b[0m\u001b[0;34m.\u001b[0m\u001b[0mcheck_for_ordered\u001b[0m\u001b[0;34m(\u001b[0m\u001b[0;34m)\u001b[0m\u001b[0;34m\u001b[0m\u001b[0;34m\u001b[0m\u001b[0m\n\u001b[0m",
      "\u001b[0;31mTypeError\u001b[0m: check_for_ordered() missing 1 required positional argument: 'op'"
     ]
    }
   ],
   "source": [
    "Categorical data can be ordered or not."
   ]
  },
  {
   "cell_type": "code",
   "execution_count": 51,
   "metadata": {},
   "outputs": [
    {
     "data": {
      "text/plain": "[Klingon, Romulan, Klingon, Vulcan, Vulcan, Romulan]\nCategories (3, object): [Klingon < Romulan < Vulcan]"
     },
     "execution_count": 51,
     "metadata": {},
     "output_type": "execute_result"
    }
   ],
   "source": [
    "star_trek_races = pd.Categorical.from_codes(codes, categories, ordered=True)\n",
    "star_trek_races"
   ]
  },
  {
   "cell_type": "markdown",
   "execution_count": null,
   "metadata": {},
   "outputs": [],
   "source": [
    "We can reorder the categories with `reorder_categories`."
   ]
  },
  {
   "cell_type": "code",
   "execution_count": 52,
   "metadata": {},
   "outputs": [
    {
     "data": {
      "text/plain": "[Klingon, Romulan, Klingon, Vulcan, Vulcan, Romulan]\nCategories (3, object): [Romulan < Klingon < Vulcan]"
     },
     "execution_count": 52,
     "metadata": {},
     "output_type": "execute_result"
    }
   ],
   "source": [
    "star_trek_races = star_trek_races.reorder_categories(\n",
    "    new_categories=['Romulan', 'Klingon', 'Vulcan'])\n",
    "star_trek_races"
   ]
  },
  {
   "cell_type": "markdown",
   "execution_count": null,
   "metadata": {},
   "outputs": [],
   "source": [
    "We can assign labels to categories obtained from numerical operations, like `qcut`."
   ]
  },
  {
   "cell_type": "code",
   "execution_count": 53,
   "metadata": {},
   "outputs": [
    {
     "data": {
      "text/plain": "[(-0.684, -0.0101], (-0.0101, 0.63], (-0.684, -0.0101], (-0.684, -0.0101], (0.63, 3.928], ..., (-0.0101, 0.63], (-0.684, -0.0101], (-2.9499999999999997, -0.684], (-0.0101, 0.63], (0.63, 3.928]]\nLength: 1000\nCategories (4, interval[float64]): [(-2.9499999999999997, -0.684] < (-0.684, -0.0101] < (-0.0101, 0.63] < (0.63, 3.928]]"
     },
     "execution_count": 53,
     "metadata": {},
     "output_type": "execute_result"
    }
   ],
   "source": [
    "np.random.seed(12345)\n",
    "draws = np.random.randn(1000)\n",
    "bins = pd.qcut(draws, q=4)  # 4 bins\n",
    "bins"
   ]
  },
  {
   "cell_type": "code",
   "execution_count": 54,
   "metadata": {},
   "outputs": [
    {
     "data": {
      "text/plain": "[Q2, Q3, Q2, Q2, Q4, ..., Q3, Q2, Q1, Q3, Q4]\nLength: 1000\nCategories (4, object): [Q1 < Q2 < Q3 < Q4]"
     },
     "execution_count": 54,
     "metadata": {},
     "output_type": "execute_result"
    }
   ],
   "source": [
    "bins = pd.qcut(draws, 4, labels=['Q1', 'Q2', 'Q3', 'Q4'])\n",
    "bins"
   ]
  },
  {
   "cell_type": "code",
   "execution_count": 55,
   "metadata": {},
   "outputs": [],
   "source": [
    "tmp = pd.Series(bins)\n",
    "results = (pd.Series(draws)\n",
    ".groupby(bins)\n",
    ".agg(['count', 'min', 'max'])\n",
    ".reset_index())"
   ]
  },
  {
   "cell_type": "code",
   "execution_count": 56,
   "metadata": {},
   "outputs": [
    {
     "data": {
      "text/html": "<div>\n<style scoped>\n    .dataframe tbody tr th:only-of-type {\n        vertical-align: middle;\n    }\n\n    .dataframe tbody tr th {\n        vertical-align: top;\n    }\n\n    .dataframe thead th {\n        text-align: right;\n    }\n</style>\n<table border=\"1\" class=\"dataframe\">\n  <thead>\n    <tr style=\"text-align: right;\">\n      <th></th>\n      <th>index</th>\n      <th>count</th>\n      <th>min</th>\n      <th>max</th>\n    </tr>\n  </thead>\n  <tbody>\n    <tr>\n      <th>0</th>\n      <td>Q1</td>\n      <td>250</td>\n      <td>-2.949343</td>\n      <td>-0.685484</td>\n    </tr>\n    <tr>\n      <th>1</th>\n      <td>Q2</td>\n      <td>250</td>\n      <td>-0.683066</td>\n      <td>-0.010115</td>\n    </tr>\n    <tr>\n      <th>2</th>\n      <td>Q3</td>\n      <td>250</td>\n      <td>-0.010032</td>\n      <td>0.628894</td>\n    </tr>\n    <tr>\n      <th>3</th>\n      <td>Q4</td>\n      <td>250</td>\n      <td>0.634238</td>\n      <td>3.927528</td>\n    </tr>\n  </tbody>\n</table>\n</div>",
      "text/plain": "  index  count       min       max\n0    Q1    250 -2.949343 -0.685484\n1    Q2    250 -0.683066 -0.010115\n2    Q3    250 -0.010032  0.628894\n3    Q4    250  0.634238  3.927528"
     },
     "execution_count": 56,
     "metadata": {},
     "output_type": "execute_result"
    }
   ],
   "source": [
    "results"
   ]
  },
  {
   "cell_type": "markdown",
   "execution_count": null,
   "metadata": {},
   "outputs": [],
   "source": [
    "## Categorical Methods"
   ]
  },
  {
   "cell_type": "markdown",
   "execution_count": null,
   "metadata": {},
   "outputs": [],
   "source": [
    "Similar to `Series.str` methods there is a set of `Series.cat` methods. In the example below, `cat_s` is a Series, therefore `cat_s.categories` would fail, but `cat_s.cat.categories` would not."
   ]
  },
  {
   "cell_type": "code",
   "execution_count": 57,
   "metadata": {},
   "outputs": [
    {
     "data": {
      "text/plain": "0    a\n1    b\n2    c\n3    d\n4    a\n5    b\n6    c\n7    d\ndtype: category\nCategories (4, object): [a, b, c, d]"
     },
     "execution_count": 57,
     "metadata": {},
     "output_type": "execute_result"
    }
   ],
   "source": [
    "s = pd.Series(list('abcd') * 2)\n",
    "cat_s = s.astype('category')\n",
    "cat_s"
   ]
  },
  {
   "cell_type": "code",
   "execution_count": 58,
   "metadata": {},
   "outputs": [
    {
     "data": {
      "text/plain": "Index(['a', 'b', 'c', 'd'], dtype='object')"
     },
     "execution_count": 58,
     "metadata": {},
     "output_type": "execute_result"
    }
   ],
   "source": [
    "cat_s.cat.categories"
   ]
  },
  {
   "cell_type": "markdown",
   "execution_count": null,
   "metadata": {},
   "outputs": [],
   "source": [
    "We can redefine the categories, for example adding a new one, with `set_categories`."
   ]
  },
  {
   "cell_type": "code",
   "execution_count": 59,
   "metadata": {},
   "outputs": [
    {
     "data": {
      "text/plain": "0    a\n1    b\n2    c\n3    d\n4    a\n5    b\n6    c\n7    d\ndtype: category\nCategories (5, object): [a, b, c, d, e]"
     },
     "execution_count": 59,
     "metadata": {},
     "output_type": "execute_result"
    }
   ],
   "source": [
    "cat_s2 = cat_s.cat.set_categories(['a', 'b', 'c', 'd', 'e'])\n",
    "cat_s2"
   ]
  },
  {
   "cell_type": "markdown",
   "execution_count": null,
   "metadata": {},
   "outputs": [],
   "source": [
    "The same result can be obtained more simply wiht `Series.cat.add_categories()`. The new categories can be a string or a list-like object."
   ]
  },
  {
   "cell_type": "code",
   "execution_count": 61,
   "metadata": {},
   "outputs": [
    {
     "name": "stdout",
     "output_type": "stream",
     "text": "0    a\n1    b\n2    c\n3    d\n4    a\n5    b\n6    c\n7    d\ndtype: category\nCategories (5, object): [a, b, c, d, e]\nd    2\nc    2\nb    2\na    2\ne    0\ndtype: int64\n"
    }
   ],
   "source": [
    "cat_s2 = cat_s.cat.add_categories('e')\n",
    "print(cat_s2)\n",
    "print(cat_s2.value_counts())"
   ]
  },
  {
   "cell_type": "markdown",
   "execution_count": null,
   "metadata": {},
   "outputs": [],
   "source": [
    "Some related methods are:\n",
    "\n",
    "- rename_categories\n",
    "- reorder_categories\n",
    "- remove_categories\n",
    "- remove_unused_categories\n",
    "- set_categories\n"
   ]
  },
  {
   "cell_type": "markdown",
   "execution_count": null,
   "metadata": {},
   "outputs": [],
   "source": [
    "We can remove unused categories with `remove_unused_categories`."
   ]
  },
  {
   "cell_type": "code",
   "execution_count": 81,
   "metadata": {},
   "outputs": [
    {
     "name": "stdout",
     "output_type": "stream",
     "text": "Index(['a', 'b', 'c', 'd', 'e'], dtype='object')\nIndex(['a', 'b', 'c', 'd'], dtype='object')\n"
    }
   ],
   "source": [
    "print(cat_s2.cat.categories)\n",
    "cat_s2 = cat_s2.cat.remove_unused_categories()\n",
    "print(cat_s2.cat.categories)"
   ]
  },
  {
   "cell_type": "markdown",
   "execution_count": null,
   "metadata": {},
   "outputs": [],
   "source": [
    "Categorical methods for series.\n",
    "\n",
    "| Method | Description |\n",
    "|--------|-------------|\n",
    "| `add_categories` | Append new (unused) categories at end of existing categories |\n",
    "| `as_ordered` | Make categories ordered |\n",
    "| `as_unordered` | Make categories unordered |\n",
    "| `remove_categories` | Remove categories, setting any removed values to null |\n",
    "| `remove_unused_categories` | Remove any category values which do not appear in the data |\n",
    "| `rename_categories`\t| Replace categories with indicated set of new category names; cannot change the number of categories |\n",
    "| `reorder_categories` | Behaves like rename_categories, but can also change the result to have ordered categories |\n",
    "| `set_categories` | Replace the categories with the indicated set of new categories; can add or remove categories |"
   ]
  },
  {
   "cell_type": "markdown",
   "execution_count": null,
   "metadata": {},
   "outputs": [],
   "source": [
    "## The `transform` function\n",
    "\n",
    "Transform has the following constraints on the functions that can be used. The function must:\n",
    "\n",
    "1. be able to produce a scalar value that can be broadcast to the shape of the group or...\n",
    "2. ...be able to produce an object of the same shape as the input group, and...\n",
    "3. it must not mutate its input."
   ]
  },
  {
   "cell_type": "code",
   "execution_count": 83,
   "metadata": {},
   "outputs": [
    {
     "data": {
      "text/html": "<div>\n<style scoped>\n    .dataframe tbody tr th:only-of-type {\n        vertical-align: middle;\n    }\n\n    .dataframe tbody tr th {\n        vertical-align: top;\n    }\n\n    .dataframe thead th {\n        text-align: right;\n    }\n</style>\n<table border=\"1\" class=\"dataframe\">\n  <thead>\n    <tr style=\"text-align: right;\">\n      <th></th>\n      <th>0</th>\n      <th>1</th>\n      <th>2</th>\n      <th>3</th>\n      <th>4</th>\n      <th>5</th>\n      <th>6</th>\n      <th>7</th>\n      <th>8</th>\n      <th>9</th>\n      <th>...</th>\n      <th>15</th>\n      <th>16</th>\n      <th>17</th>\n      <th>18</th>\n      <th>19</th>\n      <th>20</th>\n      <th>21</th>\n      <th>22</th>\n      <th>23</th>\n      <th>24</th>\n    </tr>\n    <tr>\n      <th>group</th>\n      <th></th>\n      <th></th>\n      <th></th>\n      <th></th>\n      <th></th>\n      <th></th>\n      <th></th>\n      <th></th>\n      <th></th>\n      <th></th>\n      <th></th>\n      <th></th>\n      <th></th>\n      <th></th>\n      <th></th>\n      <th></th>\n      <th></th>\n      <th></th>\n      <th></th>\n      <th></th>\n      <th></th>\n    </tr>\n  </thead>\n  <tbody>\n    <tr>\n      <th>A</th>\n      <td>63</td>\n      <td>229</td>\n      <td>15</td>\n      <td>10</td>\n      <td>102</td>\n      <td>138</td>\n      <td>167</td>\n      <td>200</td>\n      <td>219</td>\n      <td>17</td>\n      <td>...</td>\n      <td>203</td>\n      <td>214</td>\n      <td>120</td>\n      <td>45</td>\n      <td>7</td>\n      <td>135</td>\n      <td>51</td>\n      <td>0</td>\n      <td>214</td>\n      <td>79</td>\n    </tr>\n    <tr>\n      <th>B</th>\n      <td>165</td>\n      <td>109</td>\n      <td>149</td>\n      <td>244</td>\n      <td>197</td>\n      <td>87</td>\n      <td>155</td>\n      <td>7</td>\n      <td>138</td>\n      <td>187</td>\n      <td>...</td>\n      <td>78</td>\n      <td>202</td>\n      <td>233</td>\n      <td>116</td>\n      <td>118</td>\n      <td>148</td>\n      <td>20</td>\n      <td>203</td>\n      <td>39</td>\n      <td>240</td>\n    </tr>\n    <tr>\n      <th>C</th>\n      <td>42</td>\n      <td>218</td>\n      <td>62</td>\n      <td>221</td>\n      <td>221</td>\n      <td>206</td>\n      <td>130</td>\n      <td>236</td>\n      <td>26</td>\n      <td>165</td>\n      <td>...</td>\n      <td>197</td>\n      <td>222</td>\n      <td>156</td>\n      <td>180</td>\n      <td>184</td>\n      <td>157</td>\n      <td>13</td>\n      <td>134</td>\n      <td>19</td>\n      <td>215</td>\n    </tr>\n    <tr>\n      <th>D</th>\n      <td>84</td>\n      <td>183</td>\n      <td>156</td>\n      <td>121</td>\n      <td>150</td>\n      <td>189</td>\n      <td>113</td>\n      <td>250</td>\n      <td>122</td>\n      <td>127</td>\n      <td>...</td>\n      <td>113</td>\n      <td>108</td>\n      <td>196</td>\n      <td>228</td>\n      <td>145</td>\n      <td>180</td>\n      <td>206</td>\n      <td>240</td>\n      <td>77</td>\n      <td>144</td>\n    </tr>\n    <tr>\n      <th>A</th>\n      <td>107</td>\n      <td>202</td>\n      <td>245</td>\n      <td>34</td>\n      <td>33</td>\n      <td>130</td>\n      <td>222</td>\n      <td>52</td>\n      <td>101</td>\n      <td>170</td>\n      <td>...</td>\n      <td>169</td>\n      <td>77</td>\n      <td>20</td>\n      <td>165</td>\n      <td>8</td>\n      <td>113</td>\n      <td>127</td>\n      <td>185</td>\n      <td>65</td>\n      <td>126</td>\n    </tr>\n  </tbody>\n</table>\n<p>5 rows × 25 columns</p>\n</div>",
      "text/plain": "        0    1    2    3    4    5    6    7    8    9   ...   15   16   17  \\\ngroup                                                    ...                  \nA       63  229   15   10  102  138  167  200  219   17  ...  203  214  120   \nB      165  109  149  244  197   87  155    7  138  187  ...   78  202  233   \nC       42  218   62  221  221  206  130  236   26  165  ...  197  222  156   \nD       84  183  156  121  150  189  113  250  122  127  ...  113  108  196   \nA      107  202  245   34   33  130  222   52  101  170  ...  169   77   20   \n\n        18   19   20   21   22   23   24  \ngroup                                     \nA       45    7  135   51    0  214   79  \nB      116  118  148   20  203   39  240  \nC      180  184  157   13  134   19  215  \nD      228  145  180  206  240   77  144  \nA      165    8  113  127  185   65  126  \n\n[5 rows x 25 columns]"
     },
     "execution_count": 83,
     "metadata": {},
     "output_type": "execute_result"
    }
   ],
   "source": [
    "df2 = pd.DataFrame(np.random.randint(0, 255, 2500).reshape(100, 25),\n",
    "index=list('ABCD') * 25)\n",
    "df2.index.name = 'group'\n",
    "df2.head()"
   ]
  },
  {
   "cell_type": "code",
   "execution_count": 84,
   "metadata": {},
   "outputs": [],
   "source": [
    "df2.reset_index(inplace=True)\n",
    "gpd = df2.groupby('group')\n",
    "transformed = gpd.transform(lambda x: (x - x.mean()) / x.std())"
   ]
  },
  {
   "cell_type": "markdown",
   "execution_count": null,
   "metadata": {},
   "outputs": [],
   "source": [
    "This has performed within-group normalization on each column."
   ]
  },
  {
   "cell_type": "code",
   "execution_count": 87,
   "metadata": {},
   "outputs": [
    {
     "data": {
      "text/html": "<div>\n<style scoped>\n    .dataframe tbody tr th:only-of-type {\n        vertical-align: middle;\n    }\n\n    .dataframe tbody tr th {\n        vertical-align: top;\n    }\n\n    .dataframe thead th {\n        text-align: right;\n    }\n</style>\n<table border=\"1\" class=\"dataframe\">\n  <thead>\n    <tr style=\"text-align: right;\">\n      <th></th>\n      <th>group</th>\n      <th>A</th>\n      <th>B</th>\n      <th>C</th>\n      <th>D</th>\n    </tr>\n  </thead>\n  <tbody>\n    <tr>\n      <th rowspan=\"2\" valign=\"top\">0</th>\n      <th>mean</th>\n      <td>-8.770762e-17</td>\n      <td>8.881784e-18</td>\n      <td>6.217249e-17</td>\n      <td>-1.065814e-16</td>\n    </tr>\n    <tr>\n      <th>std</th>\n      <td>1.000000e+00</td>\n      <td>1.000000e+00</td>\n      <td>1.000000e+00</td>\n      <td>1.000000e+00</td>\n    </tr>\n    <tr>\n      <th rowspan=\"2\" valign=\"top\">1</th>\n      <th>mean</th>\n      <td>3.552714e-17</td>\n      <td>-2.309264e-16</td>\n      <td>1.332268e-16</td>\n      <td>2.997602e-17</td>\n    </tr>\n    <tr>\n      <th>std</th>\n      <td>1.000000e+00</td>\n      <td>1.000000e+00</td>\n      <td>1.000000e+00</td>\n      <td>1.000000e+00</td>\n    </tr>\n    <tr>\n      <th rowspan=\"2\" valign=\"top\">2</th>\n      <th>mean</th>\n      <td>-7.993606e-17</td>\n      <td>1.065814e-16</td>\n      <td>-1.776357e-17</td>\n      <td>-8.659740e-17</td>\n    </tr>\n    <tr>\n      <th>std</th>\n      <td>1.000000e+00</td>\n      <td>1.000000e+00</td>\n      <td>1.000000e+00</td>\n      <td>1.000000e+00</td>\n    </tr>\n    <tr>\n      <th rowspan=\"2\" valign=\"top\">3</th>\n      <th>mean</th>\n      <td>6.883383e-17</td>\n      <td>2.664535e-17</td>\n      <td>-6.217249e-17</td>\n      <td>-9.325873e-17</td>\n    </tr>\n    <tr>\n      <th>std</th>\n      <td>1.000000e+00</td>\n      <td>1.000000e+00</td>\n      <td>1.000000e+00</td>\n      <td>1.000000e+00</td>\n    </tr>\n    <tr>\n      <th rowspan=\"2\" valign=\"top\">4</th>\n      <th>mean</th>\n      <td>-1.265654e-16</td>\n      <td>9.769963e-17</td>\n      <td>6.217249e-17</td>\n      <td>1.909584e-16</td>\n    </tr>\n    <tr>\n      <th>std</th>\n      <td>1.000000e+00</td>\n      <td>1.000000e+00</td>\n      <td>1.000000e+00</td>\n      <td>1.000000e+00</td>\n    </tr>\n    <tr>\n      <th rowspan=\"2\" valign=\"top\">5</th>\n      <th>mean</th>\n      <td>-1.776357e-16</td>\n      <td>-5.773160e-17</td>\n      <td>3.552714e-17</td>\n      <td>0.000000e+00</td>\n    </tr>\n    <tr>\n      <th>std</th>\n      <td>1.000000e+00</td>\n      <td>1.000000e+00</td>\n      <td>1.000000e+00</td>\n      <td>1.000000e+00</td>\n    </tr>\n    <tr>\n      <th rowspan=\"2\" valign=\"top\">6</th>\n      <th>mean</th>\n      <td>-8.437695e-17</td>\n      <td>-2.176037e-16</td>\n      <td>-1.287859e-16</td>\n      <td>-3.552714e-17</td>\n    </tr>\n    <tr>\n      <th>std</th>\n      <td>1.000000e+00</td>\n      <td>1.000000e+00</td>\n      <td>1.000000e+00</td>\n      <td>1.000000e+00</td>\n    </tr>\n    <tr>\n      <th rowspan=\"2\" valign=\"top\">7</th>\n      <th>mean</th>\n      <td>1.065814e-16</td>\n      <td>1.243450e-16</td>\n      <td>1.332268e-17</td>\n      <td>-8.881784e-18</td>\n    </tr>\n    <tr>\n      <th>std</th>\n      <td>1.000000e+00</td>\n      <td>1.000000e+00</td>\n      <td>1.000000e+00</td>\n      <td>1.000000e+00</td>\n    </tr>\n    <tr>\n      <th rowspan=\"2\" valign=\"top\">8</th>\n      <th>mean</th>\n      <td>2.775558e-17</td>\n      <td>-3.996803e-17</td>\n      <td>-4.440892e-17</td>\n      <td>4.440892e-17</td>\n    </tr>\n    <tr>\n      <th>std</th>\n      <td>1.000000e+00</td>\n      <td>1.000000e+00</td>\n      <td>1.000000e+00</td>\n      <td>1.000000e+00</td>\n    </tr>\n    <tr>\n      <th rowspan=\"2\" valign=\"top\">9</th>\n      <th>mean</th>\n      <td>-5.551115e-17</td>\n      <td>-1.776357e-17</td>\n      <td>-4.440892e-17</td>\n      <td>-3.330669e-17</td>\n    </tr>\n    <tr>\n      <th>std</th>\n      <td>1.000000e+00</td>\n      <td>1.000000e+00</td>\n      <td>1.000000e+00</td>\n      <td>1.000000e+00</td>\n    </tr>\n    <tr>\n      <th rowspan=\"2\" valign=\"top\">10</th>\n      <th>mean</th>\n      <td>-2.664535e-17</td>\n      <td>8.881784e-18</td>\n      <td>7.188694e-17</td>\n      <td>3.552714e-17</td>\n    </tr>\n    <tr>\n      <th>std</th>\n      <td>1.000000e+00</td>\n      <td>1.000000e+00</td>\n      <td>1.000000e+00</td>\n      <td>1.000000e+00</td>\n    </tr>\n    <tr>\n      <th rowspan=\"2\" valign=\"top\">11</th>\n      <th>mean</th>\n      <td>6.217249e-17</td>\n      <td>8.881784e-18</td>\n      <td>-8.881784e-17</td>\n      <td>8.881784e-17</td>\n    </tr>\n    <tr>\n      <th>std</th>\n      <td>1.000000e+00</td>\n      <td>1.000000e+00</td>\n      <td>1.000000e+00</td>\n      <td>1.000000e+00</td>\n    </tr>\n    <tr>\n      <th rowspan=\"2\" valign=\"top\">12</th>\n      <th>mean</th>\n      <td>-9.436896e-18</td>\n      <td>8.881784e-17</td>\n      <td>-1.776357e-16</td>\n      <td>2.664535e-17</td>\n    </tr>\n    <tr>\n      <th>std</th>\n      <td>1.000000e+00</td>\n      <td>1.000000e+00</td>\n      <td>1.000000e+00</td>\n      <td>1.000000e+00</td>\n    </tr>\n    <tr>\n      <th rowspan=\"2\" valign=\"top\">13</th>\n      <th>mean</th>\n      <td>-1.598721e-16</td>\n      <td>-2.398082e-16</td>\n      <td>-1.421085e-16</td>\n      <td>5.773160e-17</td>\n    </tr>\n    <tr>\n      <th>std</th>\n      <td>1.000000e+00</td>\n      <td>1.000000e+00</td>\n      <td>1.000000e+00</td>\n      <td>1.000000e+00</td>\n    </tr>\n    <tr>\n      <th rowspan=\"2\" valign=\"top\">14</th>\n      <th>mean</th>\n      <td>-5.329071e-17</td>\n      <td>4.440892e-17</td>\n      <td>-5.329071e-17</td>\n      <td>-9.298118e-17</td>\n    </tr>\n    <tr>\n      <th>std</th>\n      <td>1.000000e+00</td>\n      <td>1.000000e+00</td>\n      <td>1.000000e+00</td>\n      <td>1.000000e+00</td>\n    </tr>\n    <tr>\n      <th rowspan=\"2\" valign=\"top\">15</th>\n      <th>mean</th>\n      <td>8.881784e-17</td>\n      <td>1.776357e-17</td>\n      <td>1.443290e-16</td>\n      <td>-9.325873e-17</td>\n    </tr>\n    <tr>\n      <th>std</th>\n      <td>1.000000e+00</td>\n      <td>1.000000e+00</td>\n      <td>1.000000e+00</td>\n      <td>1.000000e+00</td>\n    </tr>\n    <tr>\n      <th rowspan=\"2\" valign=\"top\">16</th>\n      <th>mean</th>\n      <td>-6.217249e-17</td>\n      <td>-4.385381e-17</td>\n      <td>4.440892e-17</td>\n      <td>2.664535e-17</td>\n    </tr>\n    <tr>\n      <th>std</th>\n      <td>1.000000e+00</td>\n      <td>1.000000e+00</td>\n      <td>1.000000e+00</td>\n      <td>1.000000e+00</td>\n    </tr>\n    <tr>\n      <th rowspan=\"2\" valign=\"top\">17</th>\n      <th>mean</th>\n      <td>-9.769963e-17</td>\n      <td>7.993606e-17</td>\n      <td>4.440892e-17</td>\n      <td>-2.176037e-16</td>\n    </tr>\n    <tr>\n      <th>std</th>\n      <td>1.000000e+00</td>\n      <td>1.000000e+00</td>\n      <td>1.000000e+00</td>\n      <td>1.000000e+00</td>\n    </tr>\n    <tr>\n      <th rowspan=\"2\" valign=\"top\">18</th>\n      <th>mean</th>\n      <td>1.776357e-17</td>\n      <td>-8.548717e-17</td>\n      <td>-8.881784e-18</td>\n      <td>-1.287859e-16</td>\n    </tr>\n    <tr>\n      <th>std</th>\n      <td>1.000000e+00</td>\n      <td>1.000000e+00</td>\n      <td>1.000000e+00</td>\n      <td>1.000000e+00</td>\n    </tr>\n    <tr>\n      <th rowspan=\"2\" valign=\"top\">19</th>\n      <th>mean</th>\n      <td>-4.440892e-17</td>\n      <td>-1.154632e-16</td>\n      <td>3.996803e-17</td>\n      <td>0.000000e+00</td>\n    </tr>\n    <tr>\n      <th>std</th>\n      <td>1.000000e+00</td>\n      <td>1.000000e+00</td>\n      <td>1.000000e+00</td>\n      <td>1.000000e+00</td>\n    </tr>\n    <tr>\n      <th rowspan=\"2\" valign=\"top\">20</th>\n      <th>mean</th>\n      <td>2.042810e-16</td>\n      <td>1.687539e-16</td>\n      <td>7.105427e-17</td>\n      <td>1.731948e-16</td>\n    </tr>\n    <tr>\n      <th>std</th>\n      <td>1.000000e+00</td>\n      <td>1.000000e+00</td>\n      <td>1.000000e+00</td>\n      <td>1.000000e+00</td>\n    </tr>\n    <tr>\n      <th rowspan=\"2\" valign=\"top\">21</th>\n      <th>mean</th>\n      <td>7.313594e-17</td>\n      <td>1.132427e-16</td>\n      <td>-5.329071e-17</td>\n      <td>6.661338e-18</td>\n    </tr>\n    <tr>\n      <th>std</th>\n      <td>1.000000e+00</td>\n      <td>1.000000e+00</td>\n      <td>1.000000e+00</td>\n      <td>1.000000e+00</td>\n    </tr>\n    <tr>\n      <th rowspan=\"2\" valign=\"top\">22</th>\n      <th>mean</th>\n      <td>7.993606e-17</td>\n      <td>6.217249e-17</td>\n      <td>-3.108624e-17</td>\n      <td>0.000000e+00</td>\n    </tr>\n    <tr>\n      <th>std</th>\n      <td>1.000000e+00</td>\n      <td>1.000000e+00</td>\n      <td>1.000000e+00</td>\n      <td>1.000000e+00</td>\n    </tr>\n    <tr>\n      <th rowspan=\"2\" valign=\"top\">23</th>\n      <th>mean</th>\n      <td>1.687539e-16</td>\n      <td>-2.220446e-18</td>\n      <td>-9.769963e-17</td>\n      <td>-3.330669e-18</td>\n    </tr>\n    <tr>\n      <th>std</th>\n      <td>1.000000e+00</td>\n      <td>1.000000e+00</td>\n      <td>1.000000e+00</td>\n      <td>1.000000e+00</td>\n    </tr>\n    <tr>\n      <th rowspan=\"2\" valign=\"top\">24</th>\n      <th>mean</th>\n      <td>1.776357e-17</td>\n      <td>-1.831868e-17</td>\n      <td>5.329071e-17</td>\n      <td>4.440892e-17</td>\n    </tr>\n    <tr>\n      <th>std</th>\n      <td>1.000000e+00</td>\n      <td>1.000000e+00</td>\n      <td>1.000000e+00</td>\n      <td>1.000000e+00</td>\n    </tr>\n  </tbody>\n</table>\n</div>",
      "text/plain": "group               A             B             C             D\n0  mean -8.770762e-17  8.881784e-18  6.217249e-17 -1.065814e-16\n   std   1.000000e+00  1.000000e+00  1.000000e+00  1.000000e+00\n1  mean  3.552714e-17 -2.309264e-16  1.332268e-16  2.997602e-17\n   std   1.000000e+00  1.000000e+00  1.000000e+00  1.000000e+00\n2  mean -7.993606e-17  1.065814e-16 -1.776357e-17 -8.659740e-17\n   std   1.000000e+00  1.000000e+00  1.000000e+00  1.000000e+00\n3  mean  6.883383e-17  2.664535e-17 -6.217249e-17 -9.325873e-17\n   std   1.000000e+00  1.000000e+00  1.000000e+00  1.000000e+00\n4  mean -1.265654e-16  9.769963e-17  6.217249e-17  1.909584e-16\n   std   1.000000e+00  1.000000e+00  1.000000e+00  1.000000e+00\n5  mean -1.776357e-16 -5.773160e-17  3.552714e-17  0.000000e+00\n   std   1.000000e+00  1.000000e+00  1.000000e+00  1.000000e+00\n6  mean -8.437695e-17 -2.176037e-16 -1.287859e-16 -3.552714e-17\n   std   1.000000e+00  1.000000e+00  1.000000e+00  1.000000e+00\n7  mean  1.065814e-16  1.243450e-16  1.332268e-17 -8.881784e-18\n   std   1.000000e+00  1.000000e+00  1.000000e+00  1.000000e+00\n8  mean  2.775558e-17 -3.996803e-17 -4.440892e-17  4.440892e-17\n   std   1.000000e+00  1.000000e+00  1.000000e+00  1.000000e+00\n9  mean -5.551115e-17 -1.776357e-17 -4.440892e-17 -3.330669e-17\n   std   1.000000e+00  1.000000e+00  1.000000e+00  1.000000e+00\n10 mean -2.664535e-17  8.881784e-18  7.188694e-17  3.552714e-17\n   std   1.000000e+00  1.000000e+00  1.000000e+00  1.000000e+00\n11 mean  6.217249e-17  8.881784e-18 -8.881784e-17  8.881784e-17\n   std   1.000000e+00  1.000000e+00  1.000000e+00  1.000000e+00\n12 mean -9.436896e-18  8.881784e-17 -1.776357e-16  2.664535e-17\n   std   1.000000e+00  1.000000e+00  1.000000e+00  1.000000e+00\n13 mean -1.598721e-16 -2.398082e-16 -1.421085e-16  5.773160e-17\n   std   1.000000e+00  1.000000e+00  1.000000e+00  1.000000e+00\n14 mean -5.329071e-17  4.440892e-17 -5.329071e-17 -9.298118e-17\n   std   1.000000e+00  1.000000e+00  1.000000e+00  1.000000e+00\n15 mean  8.881784e-17  1.776357e-17  1.443290e-16 -9.325873e-17\n   std   1.000000e+00  1.000000e+00  1.000000e+00  1.000000e+00\n16 mean -6.217249e-17 -4.385381e-17  4.440892e-17  2.664535e-17\n   std   1.000000e+00  1.000000e+00  1.000000e+00  1.000000e+00\n17 mean -9.769963e-17  7.993606e-17  4.440892e-17 -2.176037e-16\n   std   1.000000e+00  1.000000e+00  1.000000e+00  1.000000e+00\n18 mean  1.776357e-17 -8.548717e-17 -8.881784e-18 -1.287859e-16\n   std   1.000000e+00  1.000000e+00  1.000000e+00  1.000000e+00\n19 mean -4.440892e-17 -1.154632e-16  3.996803e-17  0.000000e+00\n   std   1.000000e+00  1.000000e+00  1.000000e+00  1.000000e+00\n20 mean  2.042810e-16  1.687539e-16  7.105427e-17  1.731948e-16\n   std   1.000000e+00  1.000000e+00  1.000000e+00  1.000000e+00\n21 mean  7.313594e-17  1.132427e-16 -5.329071e-17  6.661338e-18\n   std   1.000000e+00  1.000000e+00  1.000000e+00  1.000000e+00\n22 mean  7.993606e-17  6.217249e-17 -3.108624e-17  0.000000e+00\n   std   1.000000e+00  1.000000e+00  1.000000e+00  1.000000e+00\n23 mean  1.687539e-16 -2.220446e-18 -9.769963e-17 -3.330669e-18\n   std   1.000000e+00  1.000000e+00  1.000000e+00  1.000000e+00\n24 mean  1.776357e-17 -1.831868e-17  5.329071e-17  4.440892e-17\n   std   1.000000e+00  1.000000e+00  1.000000e+00  1.000000e+00"
     },
     "execution_count": 87,
     "metadata": {},
     "output_type": "execute_result"
    }
   ],
   "source": [
    "transformed.groupby(df2.group).agg(['mean', 'std']).T"
   ]
  },
  {
   "cell_type": "markdown",
   "execution_count": null,
   "metadata": {},
   "outputs": [],
   "source": [
    "`apply` would work as well here."
   ]
  },
  {
   "cell_type": "code",
   "execution_count": 89,
   "metadata": {},
   "outputs": [],
   "source": [
    "tmp = gpd.apply(lambda x: (x - x.mean()) / x.std())"
   ]
  },
  {
   "cell_type": "code",
   "execution_count": 90,
   "metadata": {},
   "outputs": [
    {
     "data": {
      "text/html": "<div>\n<style scoped>\n    .dataframe tbody tr th:only-of-type {\n        vertical-align: middle;\n    }\n\n    .dataframe tbody tr th {\n        vertical-align: top;\n    }\n\n    .dataframe thead th {\n        text-align: right;\n    }\n</style>\n<table border=\"1\" class=\"dataframe\">\n  <thead>\n    <tr style=\"text-align: right;\">\n      <th></th>\n      <th>group</th>\n      <th>A</th>\n      <th>B</th>\n      <th>C</th>\n      <th>D</th>\n    </tr>\n  </thead>\n  <tbody>\n    <tr>\n      <th rowspan=\"2\" valign=\"top\">0</th>\n      <th>mean</th>\n      <td>-1.026956e-16</td>\n      <td>-1.776357e-17</td>\n      <td>8.881784e-17</td>\n      <td>-1.110223e-16</td>\n    </tr>\n    <tr>\n      <th>std</th>\n      <td>1.000000e+00</td>\n      <td>1.000000e+00</td>\n      <td>1.000000e+00</td>\n      <td>1.000000e+00</td>\n    </tr>\n    <tr>\n      <th rowspan=\"2\" valign=\"top\">1</th>\n      <th>mean</th>\n      <td>8.881784e-18</td>\n      <td>-2.220446e-16</td>\n      <td>1.154632e-16</td>\n      <td>2.997602e-17</td>\n    </tr>\n    <tr>\n      <th>std</th>\n      <td>1.000000e+00</td>\n      <td>1.000000e+00</td>\n      <td>1.000000e+00</td>\n      <td>1.000000e+00</td>\n    </tr>\n    <tr>\n      <th rowspan=\"2\" valign=\"top\">2</th>\n      <th>mean</th>\n      <td>-8.881784e-17</td>\n      <td>1.065814e-16</td>\n      <td>-6.217249e-17</td>\n      <td>-8.659740e-17</td>\n    </tr>\n    <tr>\n      <th>std</th>\n      <td>1.000000e+00</td>\n      <td>1.000000e+00</td>\n      <td>1.000000e+00</td>\n      <td>1.000000e+00</td>\n    </tr>\n    <tr>\n      <th rowspan=\"2\" valign=\"top\">3</th>\n      <th>mean</th>\n      <td>6.883383e-17</td>\n      <td>3.552714e-17</td>\n      <td>-5.329071e-17</td>\n      <td>-9.325873e-17</td>\n    </tr>\n    <tr>\n      <th>std</th>\n      <td>1.000000e+00</td>\n      <td>1.000000e+00</td>\n      <td>1.000000e+00</td>\n      <td>1.000000e+00</td>\n    </tr>\n    <tr>\n      <th rowspan=\"2\" valign=\"top\">4</th>\n      <th>mean</th>\n      <td>-1.265654e-16</td>\n      <td>1.243450e-16</td>\n      <td>6.217249e-17</td>\n      <td>1.909584e-16</td>\n    </tr>\n    <tr>\n      <th>std</th>\n      <td>1.000000e+00</td>\n      <td>1.000000e+00</td>\n      <td>1.000000e+00</td>\n      <td>1.000000e+00</td>\n    </tr>\n    <tr>\n      <th rowspan=\"2\" valign=\"top\">5</th>\n      <th>mean</th>\n      <td>-1.776357e-16</td>\n      <td>-7.105427e-17</td>\n      <td>3.552714e-17</td>\n      <td>0.000000e+00</td>\n    </tr>\n    <tr>\n      <th>std</th>\n      <td>1.000000e+00</td>\n      <td>1.000000e+00</td>\n      <td>1.000000e+00</td>\n      <td>1.000000e+00</td>\n    </tr>\n    <tr>\n      <th rowspan=\"2\" valign=\"top\">6</th>\n      <th>mean</th>\n      <td>-5.273559e-17</td>\n      <td>-2.176037e-16</td>\n      <td>-1.287859e-16</td>\n      <td>-7.105427e-17</td>\n    </tr>\n    <tr>\n      <th>std</th>\n      <td>1.000000e+00</td>\n      <td>1.000000e+00</td>\n      <td>1.000000e+00</td>\n      <td>1.000000e+00</td>\n    </tr>\n    <tr>\n      <th rowspan=\"2\" valign=\"top\">7</th>\n      <th>mean</th>\n      <td>1.065814e-16</td>\n      <td>1.243450e-16</td>\n      <td>1.332268e-17</td>\n      <td>-3.552714e-17</td>\n    </tr>\n    <tr>\n      <th>std</th>\n      <td>1.000000e+00</td>\n      <td>1.000000e+00</td>\n      <td>1.000000e+00</td>\n      <td>1.000000e+00</td>\n    </tr>\n    <tr>\n      <th rowspan=\"2\" valign=\"top\">8</th>\n      <th>mean</th>\n      <td>6.661338e-18</td>\n      <td>-3.996803e-17</td>\n      <td>-4.440892e-17</td>\n      <td>4.440892e-17</td>\n    </tr>\n    <tr>\n      <th>std</th>\n      <td>1.000000e+00</td>\n      <td>1.000000e+00</td>\n      <td>1.000000e+00</td>\n      <td>1.000000e+00</td>\n    </tr>\n    <tr>\n      <th rowspan=\"2\" valign=\"top\">9</th>\n      <th>mean</th>\n      <td>-5.551115e-17</td>\n      <td>-1.776357e-17</td>\n      <td>-4.440892e-17</td>\n      <td>3.663736e-17</td>\n    </tr>\n    <tr>\n      <th>std</th>\n      <td>1.000000e+00</td>\n      <td>1.000000e+00</td>\n      <td>1.000000e+00</td>\n      <td>1.000000e+00</td>\n    </tr>\n    <tr>\n      <th rowspan=\"2\" valign=\"top\">10</th>\n      <th>mean</th>\n      <td>-2.664535e-17</td>\n      <td>8.881784e-18</td>\n      <td>7.188694e-17</td>\n      <td>3.552714e-17</td>\n    </tr>\n    <tr>\n      <th>std</th>\n      <td>1.000000e+00</td>\n      <td>1.000000e+00</td>\n      <td>1.000000e+00</td>\n      <td>1.000000e+00</td>\n    </tr>\n    <tr>\n      <th rowspan=\"2\" valign=\"top\">11</th>\n      <th>mean</th>\n      <td>6.217249e-17</td>\n      <td>4.884981e-17</td>\n      <td>-8.881784e-17</td>\n      <td>8.881784e-17</td>\n    </tr>\n    <tr>\n      <th>std</th>\n      <td>1.000000e+00</td>\n      <td>1.000000e+00</td>\n      <td>1.000000e+00</td>\n      <td>1.000000e+00</td>\n    </tr>\n    <tr>\n      <th rowspan=\"2\" valign=\"top\">12</th>\n      <th>mean</th>\n      <td>-9.436896e-18</td>\n      <td>9.769963e-17</td>\n      <td>-1.776357e-16</td>\n      <td>2.664535e-17</td>\n    </tr>\n    <tr>\n      <th>std</th>\n      <td>1.000000e+00</td>\n      <td>1.000000e+00</td>\n      <td>1.000000e+00</td>\n      <td>1.000000e+00</td>\n    </tr>\n    <tr>\n      <th rowspan=\"2\" valign=\"top\">13</th>\n      <th>mean</th>\n      <td>-1.643130e-16</td>\n      <td>-2.398082e-16</td>\n      <td>-1.421085e-16</td>\n      <td>5.773160e-17</td>\n    </tr>\n    <tr>\n      <th>std</th>\n      <td>1.000000e+00</td>\n      <td>1.000000e+00</td>\n      <td>1.000000e+00</td>\n      <td>1.000000e+00</td>\n    </tr>\n    <tr>\n      <th rowspan=\"2\" valign=\"top\">14</th>\n      <th>mean</th>\n      <td>-5.329071e-17</td>\n      <td>5.329071e-17</td>\n      <td>-2.664535e-17</td>\n      <td>-7.494005e-17</td>\n    </tr>\n    <tr>\n      <th>std</th>\n      <td>1.000000e+00</td>\n      <td>1.000000e+00</td>\n      <td>1.000000e+00</td>\n      <td>1.000000e+00</td>\n    </tr>\n    <tr>\n      <th rowspan=\"2\" valign=\"top\">15</th>\n      <th>mean</th>\n      <td>3.552714e-17</td>\n      <td>1.776357e-17</td>\n      <td>1.443290e-16</td>\n      <td>-9.325873e-17</td>\n    </tr>\n    <tr>\n      <th>std</th>\n      <td>1.000000e+00</td>\n      <td>1.000000e+00</td>\n      <td>1.000000e+00</td>\n      <td>1.000000e+00</td>\n    </tr>\n    <tr>\n      <th rowspan=\"2\" valign=\"top\">16</th>\n      <th>mean</th>\n      <td>-6.217249e-17</td>\n      <td>-6.994405e-17</td>\n      <td>4.440892e-17</td>\n      <td>2.664535e-17</td>\n    </tr>\n    <tr>\n      <th>std</th>\n      <td>1.000000e+00</td>\n      <td>1.000000e+00</td>\n      <td>1.000000e+00</td>\n      <td>1.000000e+00</td>\n    </tr>\n    <tr>\n      <th rowspan=\"2\" valign=\"top\">17</th>\n      <th>mean</th>\n      <td>-9.769963e-17</td>\n      <td>7.105427e-17</td>\n      <td>3.552714e-17</td>\n      <td>-2.176037e-16</td>\n    </tr>\n    <tr>\n      <th>std</th>\n      <td>1.000000e+00</td>\n      <td>1.000000e+00</td>\n      <td>1.000000e+00</td>\n      <td>1.000000e+00</td>\n    </tr>\n    <tr>\n      <th rowspan=\"2\" valign=\"top\">18</th>\n      <th>mean</th>\n      <td>1.776357e-17</td>\n      <td>-8.659740e-17</td>\n      <td>0.000000e+00</td>\n      <td>-1.287859e-16</td>\n    </tr>\n    <tr>\n      <th>std</th>\n      <td>1.000000e+00</td>\n      <td>1.000000e+00</td>\n      <td>1.000000e+00</td>\n      <td>1.000000e+00</td>\n    </tr>\n    <tr>\n      <th rowspan=\"2\" valign=\"top\">19</th>\n      <th>mean</th>\n      <td>-4.440892e-17</td>\n      <td>-1.154632e-16</td>\n      <td>3.996803e-17</td>\n      <td>0.000000e+00</td>\n    </tr>\n    <tr>\n      <th>std</th>\n      <td>1.000000e+00</td>\n      <td>1.000000e+00</td>\n      <td>1.000000e+00</td>\n      <td>1.000000e+00</td>\n    </tr>\n    <tr>\n      <th rowspan=\"2\" valign=\"top\">20</th>\n      <th>mean</th>\n      <td>1.953993e-16</td>\n      <td>1.776357e-16</td>\n      <td>1.154632e-16</td>\n      <td>1.287859e-16</td>\n    </tr>\n    <tr>\n      <th>std</th>\n      <td>1.000000e+00</td>\n      <td>1.000000e+00</td>\n      <td>1.000000e+00</td>\n      <td>1.000000e+00</td>\n    </tr>\n    <tr>\n      <th rowspan=\"2\" valign=\"top\">21</th>\n      <th>mean</th>\n      <td>2.900458e-17</td>\n      <td>1.132427e-16</td>\n      <td>-5.329071e-17</td>\n      <td>6.661338e-18</td>\n    </tr>\n    <tr>\n      <th>std</th>\n      <td>1.000000e+00</td>\n      <td>1.000000e+00</td>\n      <td>1.000000e+00</td>\n      <td>1.000000e+00</td>\n    </tr>\n    <tr>\n      <th rowspan=\"2\" valign=\"top\">22</th>\n      <th>mean</th>\n      <td>7.993606e-17</td>\n      <td>8.881784e-17</td>\n      <td>-3.108624e-17</td>\n      <td>2.220446e-17</td>\n    </tr>\n    <tr>\n      <th>std</th>\n      <td>1.000000e+00</td>\n      <td>1.000000e+00</td>\n      <td>1.000000e+00</td>\n      <td>1.000000e+00</td>\n    </tr>\n    <tr>\n      <th rowspan=\"2\" valign=\"top\">23</th>\n      <th>mean</th>\n      <td>1.687539e-16</td>\n      <td>-2.220446e-18</td>\n      <td>-9.769963e-17</td>\n      <td>-3.330669e-18</td>\n    </tr>\n    <tr>\n      <th>std</th>\n      <td>1.000000e+00</td>\n      <td>1.000000e+00</td>\n      <td>1.000000e+00</td>\n      <td>1.000000e+00</td>\n    </tr>\n    <tr>\n      <th rowspan=\"2\" valign=\"top\">24</th>\n      <th>mean</th>\n      <td>1.776357e-17</td>\n      <td>-1.831868e-17</td>\n      <td>3.552714e-17</td>\n      <td>7.549517e-17</td>\n    </tr>\n    <tr>\n      <th>std</th>\n      <td>1.000000e+00</td>\n      <td>1.000000e+00</td>\n      <td>1.000000e+00</td>\n      <td>1.000000e+00</td>\n    </tr>\n  </tbody>\n</table>\n</div>",
      "text/plain": "group               A             B             C             D\n0  mean -1.026956e-16 -1.776357e-17  8.881784e-17 -1.110223e-16\n   std   1.000000e+00  1.000000e+00  1.000000e+00  1.000000e+00\n1  mean  8.881784e-18 -2.220446e-16  1.154632e-16  2.997602e-17\n   std   1.000000e+00  1.000000e+00  1.000000e+00  1.000000e+00\n2  mean -8.881784e-17  1.065814e-16 -6.217249e-17 -8.659740e-17\n   std   1.000000e+00  1.000000e+00  1.000000e+00  1.000000e+00\n3  mean  6.883383e-17  3.552714e-17 -5.329071e-17 -9.325873e-17\n   std   1.000000e+00  1.000000e+00  1.000000e+00  1.000000e+00\n4  mean -1.265654e-16  1.243450e-16  6.217249e-17  1.909584e-16\n   std   1.000000e+00  1.000000e+00  1.000000e+00  1.000000e+00\n5  mean -1.776357e-16 -7.105427e-17  3.552714e-17  0.000000e+00\n   std   1.000000e+00  1.000000e+00  1.000000e+00  1.000000e+00\n6  mean -5.273559e-17 -2.176037e-16 -1.287859e-16 -7.105427e-17\n   std   1.000000e+00  1.000000e+00  1.000000e+00  1.000000e+00\n7  mean  1.065814e-16  1.243450e-16  1.332268e-17 -3.552714e-17\n   std   1.000000e+00  1.000000e+00  1.000000e+00  1.000000e+00\n8  mean  6.661338e-18 -3.996803e-17 -4.440892e-17  4.440892e-17\n   std   1.000000e+00  1.000000e+00  1.000000e+00  1.000000e+00\n9  mean -5.551115e-17 -1.776357e-17 -4.440892e-17  3.663736e-17\n   std   1.000000e+00  1.000000e+00  1.000000e+00  1.000000e+00\n10 mean -2.664535e-17  8.881784e-18  7.188694e-17  3.552714e-17\n   std   1.000000e+00  1.000000e+00  1.000000e+00  1.000000e+00\n11 mean  6.217249e-17  4.884981e-17 -8.881784e-17  8.881784e-17\n   std   1.000000e+00  1.000000e+00  1.000000e+00  1.000000e+00\n12 mean -9.436896e-18  9.769963e-17 -1.776357e-16  2.664535e-17\n   std   1.000000e+00  1.000000e+00  1.000000e+00  1.000000e+00\n13 mean -1.643130e-16 -2.398082e-16 -1.421085e-16  5.773160e-17\n   std   1.000000e+00  1.000000e+00  1.000000e+00  1.000000e+00\n14 mean -5.329071e-17  5.329071e-17 -2.664535e-17 -7.494005e-17\n   std   1.000000e+00  1.000000e+00  1.000000e+00  1.000000e+00\n15 mean  3.552714e-17  1.776357e-17  1.443290e-16 -9.325873e-17\n   std   1.000000e+00  1.000000e+00  1.000000e+00  1.000000e+00\n16 mean -6.217249e-17 -6.994405e-17  4.440892e-17  2.664535e-17\n   std   1.000000e+00  1.000000e+00  1.000000e+00  1.000000e+00\n17 mean -9.769963e-17  7.105427e-17  3.552714e-17 -2.176037e-16\n   std   1.000000e+00  1.000000e+00  1.000000e+00  1.000000e+00\n18 mean  1.776357e-17 -8.659740e-17  0.000000e+00 -1.287859e-16\n   std   1.000000e+00  1.000000e+00  1.000000e+00  1.000000e+00\n19 mean -4.440892e-17 -1.154632e-16  3.996803e-17  0.000000e+00\n   std   1.000000e+00  1.000000e+00  1.000000e+00  1.000000e+00\n20 mean  1.953993e-16  1.776357e-16  1.154632e-16  1.287859e-16\n   std   1.000000e+00  1.000000e+00  1.000000e+00  1.000000e+00\n21 mean  2.900458e-17  1.132427e-16 -5.329071e-17  6.661338e-18\n   std   1.000000e+00  1.000000e+00  1.000000e+00  1.000000e+00\n22 mean  7.993606e-17  8.881784e-17 -3.108624e-17  2.220446e-17\n   std   1.000000e+00  1.000000e+00  1.000000e+00  1.000000e+00\n23 mean  1.687539e-16 -2.220446e-18 -9.769963e-17 -3.330669e-18\n   std   1.000000e+00  1.000000e+00  1.000000e+00  1.000000e+00\n24 mean  1.776357e-17 -1.831868e-17  3.552714e-17  7.549517e-17\n   std   1.000000e+00  1.000000e+00  1.000000e+00  1.000000e+00"
     },
     "execution_count": 90,
     "metadata": {},
     "output_type": "execute_result"
    }
   ],
   "source": [
    "tmp.groupby(df2.group).agg(['mean', 'std']).T"
   ]
  },
  {
   "cell_type": "code",
   "execution_count": 91,
   "metadata": {},
   "outputs": [
    {
     "data": {
      "text/html": "<div>\n<style scoped>\n    .dataframe tbody tr th:only-of-type {\n        vertical-align: middle;\n    }\n\n    .dataframe tbody tr th {\n        vertical-align: top;\n    }\n\n    .dataframe thead th {\n        text-align: right;\n    }\n</style>\n<table border=\"1\" class=\"dataframe\">\n  <thead>\n    <tr style=\"text-align: right;\">\n      <th></th>\n      <th>0</th>\n      <th>1</th>\n      <th>2</th>\n      <th>3</th>\n      <th>4</th>\n      <th>5</th>\n      <th>6</th>\n      <th>7</th>\n      <th>8</th>\n      <th>9</th>\n      <th>...</th>\n      <th>15</th>\n      <th>16</th>\n      <th>17</th>\n      <th>18</th>\n      <th>19</th>\n      <th>20</th>\n      <th>21</th>\n      <th>22</th>\n      <th>23</th>\n      <th>24</th>\n    </tr>\n  </thead>\n  <tbody>\n    <tr>\n      <th>0</th>\n      <td>20.0</td>\n      <td>2.0</td>\n      <td>25.0</td>\n      <td>24.0</td>\n      <td>17.0</td>\n      <td>15.0</td>\n      <td>10.0</td>\n      <td>9.0</td>\n      <td>4.0</td>\n      <td>24.0</td>\n      <td>...</td>\n      <td>9.5</td>\n      <td>6.0</td>\n      <td>11.0</td>\n      <td>19.5</td>\n      <td>25.0</td>\n      <td>11.0</td>\n      <td>20.0</td>\n      <td>25.0</td>\n      <td>5.0</td>\n      <td>17.0</td>\n    </tr>\n    <tr>\n      <th>1</th>\n      <td>5.0</td>\n      <td>21.0</td>\n      <td>11.0</td>\n      <td>3.0</td>\n      <td>5.0</td>\n      <td>18.5</td>\n      <td>10.0</td>\n      <td>24.0</td>\n      <td>11.0</td>\n      <td>7.0</td>\n      <td>...</td>\n      <td>16.0</td>\n      <td>7.0</td>\n      <td>4.0</td>\n      <td>19.0</td>\n      <td>13.0</td>\n      <td>12.0</td>\n      <td>24.0</td>\n      <td>4.0</td>\n      <td>20.0</td>\n      <td>2.0</td>\n    </tr>\n    <tr>\n      <th>2</th>\n      <td>20.0</td>\n      <td>4.0</td>\n      <td>23.0</td>\n      <td>6.5</td>\n      <td>4.0</td>\n      <td>5.0</td>\n      <td>16.0</td>\n      <td>4.5</td>\n      <td>18.0</td>\n      <td>9.0</td>\n      <td>...</td>\n      <td>7.0</td>\n      <td>6.0</td>\n      <td>10.0</td>\n      <td>8.0</td>\n      <td>6.5</td>\n      <td>13.0</td>\n      <td>22.0</td>\n      <td>11.0</td>\n      <td>23.0</td>\n      <td>8.0</td>\n    </tr>\n    <tr>\n      <th>3</th>\n      <td>18.0</td>\n      <td>7.0</td>\n      <td>7.0</td>\n      <td>12.0</td>\n      <td>10.0</td>\n      <td>9.0</td>\n      <td>12.0</td>\n      <td>2.0</td>\n      <td>17.0</td>\n      <td>11.0</td>\n      <td>...</td>\n      <td>14.0</td>\n      <td>12.0</td>\n      <td>7.5</td>\n      <td>7.0</td>\n      <td>13.0</td>\n      <td>10.0</td>\n      <td>4.0</td>\n      <td>3.0</td>\n      <td>18.0</td>\n      <td>11.0</td>\n    </tr>\n    <tr>\n      <th>4</th>\n      <td>13.0</td>\n      <td>5.0</td>\n      <td>2.0</td>\n      <td>20.0</td>\n      <td>23.0</td>\n      <td>16.0</td>\n      <td>5.0</td>\n      <td>21.0</td>\n      <td>15.0</td>\n      <td>4.0</td>\n      <td>...</td>\n      <td>13.0</td>\n      <td>19.0</td>\n      <td>24.0</td>\n      <td>9.0</td>\n      <td>24.0</td>\n      <td>16.0</td>\n      <td>12.0</td>\n      <td>8.0</td>\n      <td>20.0</td>\n      <td>11.0</td>\n    </tr>\n    <tr>\n      <th>...</th>\n      <td>...</td>\n      <td>...</td>\n      <td>...</td>\n      <td>...</td>\n      <td>...</td>\n      <td>...</td>\n      <td>...</td>\n      <td>...</td>\n      <td>...</td>\n      <td>...</td>\n      <td>...</td>\n      <td>...</td>\n      <td>...</td>\n      <td>...</td>\n      <td>...</td>\n      <td>...</td>\n      <td>...</td>\n      <td>...</td>\n      <td>...</td>\n      <td>...</td>\n      <td>...</td>\n    </tr>\n    <tr>\n      <th>95</th>\n      <td>7.0</td>\n      <td>21.0</td>\n      <td>14.0</td>\n      <td>11.0</td>\n      <td>16.0</td>\n      <td>7.0</td>\n      <td>4.0</td>\n      <td>24.0</td>\n      <td>24.0</td>\n      <td>8.0</td>\n      <td>...</td>\n      <td>9.0</td>\n      <td>21.0</td>\n      <td>19.0</td>\n      <td>3.0</td>\n      <td>3.0</td>\n      <td>7.0</td>\n      <td>23.0</td>\n      <td>4.0</td>\n      <td>1.0</td>\n      <td>21.0</td>\n    </tr>\n    <tr>\n      <th>96</th>\n      <td>12.0</td>\n      <td>24.0</td>\n      <td>6.0</td>\n      <td>15.0</td>\n      <td>9.0</td>\n      <td>19.0</td>\n      <td>13.0</td>\n      <td>11.0</td>\n      <td>14.0</td>\n      <td>15.0</td>\n      <td>...</td>\n      <td>25.0</td>\n      <td>24.0</td>\n      <td>19.0</td>\n      <td>7.0</td>\n      <td>21.0</td>\n      <td>6.0</td>\n      <td>14.0</td>\n      <td>3.0</td>\n      <td>25.0</td>\n      <td>1.0</td>\n    </tr>\n    <tr>\n      <th>97</th>\n      <td>10.0</td>\n      <td>2.0</td>\n      <td>3.0</td>\n      <td>1.0</td>\n      <td>3.0</td>\n      <td>7.0</td>\n      <td>11.0</td>\n      <td>3.0</td>\n      <td>10.0</td>\n      <td>17.0</td>\n      <td>...</td>\n      <td>17.5</td>\n      <td>12.0</td>\n      <td>21.0</td>\n      <td>12.0</td>\n      <td>24.0</td>\n      <td>21.0</td>\n      <td>14.0</td>\n      <td>16.0</td>\n      <td>18.0</td>\n      <td>12.0</td>\n    </tr>\n    <tr>\n      <th>98</th>\n      <td>3.0</td>\n      <td>3.0</td>\n      <td>6.5</td>\n      <td>8.5</td>\n      <td>19.0</td>\n      <td>7.0</td>\n      <td>11.5</td>\n      <td>16.5</td>\n      <td>5.0</td>\n      <td>23.0</td>\n      <td>...</td>\n      <td>10.0</td>\n      <td>24.0</td>\n      <td>20.0</td>\n      <td>22.0</td>\n      <td>8.0</td>\n      <td>1.0</td>\n      <td>2.0</td>\n      <td>4.0</td>\n      <td>10.0</td>\n      <td>19.0</td>\n    </tr>\n    <tr>\n      <th>99</th>\n      <td>4.5</td>\n      <td>10.0</td>\n      <td>13.0</td>\n      <td>5.0</td>\n      <td>6.0</td>\n      <td>8.0</td>\n      <td>24.0</td>\n      <td>4.0</td>\n      <td>3.0</td>\n      <td>16.0</td>\n      <td>...</td>\n      <td>16.0</td>\n      <td>8.0</td>\n      <td>20.0</td>\n      <td>18.0</td>\n      <td>23.0</td>\n      <td>19.0</td>\n      <td>10.0</td>\n      <td>18.0</td>\n      <td>13.0</td>\n      <td>8.0</td>\n    </tr>\n  </tbody>\n</table>\n<p>100 rows × 25 columns</p>\n</div>",
      "text/plain": "      0     1     2     3     4     5     6     7     8     9   ...    15  \\\n0   20.0   2.0  25.0  24.0  17.0  15.0  10.0   9.0   4.0  24.0  ...   9.5   \n1    5.0  21.0  11.0   3.0   5.0  18.5  10.0  24.0  11.0   7.0  ...  16.0   \n2   20.0   4.0  23.0   6.5   4.0   5.0  16.0   4.5  18.0   9.0  ...   7.0   \n3   18.0   7.0   7.0  12.0  10.0   9.0  12.0   2.0  17.0  11.0  ...  14.0   \n4   13.0   5.0   2.0  20.0  23.0  16.0   5.0  21.0  15.0   4.0  ...  13.0   \n..   ...   ...   ...   ...   ...   ...   ...   ...   ...   ...  ...   ...   \n95   7.0  21.0  14.0  11.0  16.0   7.0   4.0  24.0  24.0   8.0  ...   9.0   \n96  12.0  24.0   6.0  15.0   9.0  19.0  13.0  11.0  14.0  15.0  ...  25.0   \n97  10.0   2.0   3.0   1.0   3.0   7.0  11.0   3.0  10.0  17.0  ...  17.5   \n98   3.0   3.0   6.5   8.5  19.0   7.0  11.5  16.5   5.0  23.0  ...  10.0   \n99   4.5  10.0  13.0   5.0   6.0   8.0  24.0   4.0   3.0  16.0  ...  16.0   \n\n      16    17    18    19    20    21    22    23    24  \n0    6.0  11.0  19.5  25.0  11.0  20.0  25.0   5.0  17.0  \n1    7.0   4.0  19.0  13.0  12.0  24.0   4.0  20.0   2.0  \n2    6.0  10.0   8.0   6.5  13.0  22.0  11.0  23.0   8.0  \n3   12.0   7.5   7.0  13.0  10.0   4.0   3.0  18.0  11.0  \n4   19.0  24.0   9.0  24.0  16.0  12.0   8.0  20.0  11.0  \n..   ...   ...   ...   ...   ...   ...   ...   ...   ...  \n95  21.0  19.0   3.0   3.0   7.0  23.0   4.0   1.0  21.0  \n96  24.0  19.0   7.0  21.0   6.0  14.0   3.0  25.0   1.0  \n97  12.0  21.0  12.0  24.0  21.0  14.0  16.0  18.0  12.0  \n98  24.0  20.0  22.0   8.0   1.0   2.0   4.0  10.0  19.0  \n99   8.0  20.0  18.0  23.0  19.0  10.0  18.0  13.0   8.0  \n\n[100 rows x 25 columns]"
     },
     "execution_count": 91,
     "metadata": {},
     "output_type": "execute_result"
    }
   ],
   "source": [
    "gpd.apply(lambda x: x.rank(ascending=False))"
   ]
  },
  {
   "cell_type": "code",
   "execution_count": null,
   "metadata": {},
   "outputs": [],
   "source": []
  }
 ]
}