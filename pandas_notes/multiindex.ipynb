{
 "nbformat": 4,
 "nbformat_minor": 2,
 "metadata": {
  "language_info": {
   "name": "python",
   "codemirror_mode": {
    "name": "ipython",
    "version": 3
   },
   "version": "3.6.7"
  },
  "orig_nbformat": 2,
  "file_extension": ".py",
  "mimetype": "text/x-python",
  "name": "python",
  "npconvert_exporter": "python",
  "pygments_lexer": "ipython3",
  "version": 3
 },
 "cells": [
  {
   "cell_type": "markdown",
   "execution_count": null,
   "metadata": {},
   "outputs": [],
   "source": [
    "# MultiIndex / advanced indexing\n",
    "\n",
    "A `MultiIndex` can be thought of as an array of tuples. The tuples can contain repeated entries.\n",
    "\n",
    "A multiIndex can be created from:\n",
    "\n",
    "1. A set of arrays `from_arrays`.\n",
    "2. A set of tuples: `from_tuples`.\n",
    "3. A crossed set of iterables: `from_product`.\n",
    "4. A DataFrame: `from_frame`.\n",
    "\n",
    "Thinking in terms of tuples allows to use the same indexing rules. Note that you need to pass a sequence of iterables to `from_product`."
   ]
  },
  {
   "cell_type": "code",
   "execution_count": 1,
   "metadata": {},
   "outputs": [],
   "source": [
    "import pandas as pd\n",
    "import numpy as np"
   ]
  },
  {
   "cell_type": "code",
   "execution_count": 2,
   "metadata": {},
   "outputs": [
    {
     "data": {
      "text/html": "<div>\n<style scoped>\n    .dataframe tbody tr th:only-of-type {\n        vertical-align: middle;\n    }\n\n    .dataframe tbody tr th {\n        vertical-align: top;\n    }\n\n    .dataframe thead tr th {\n        text-align: left;\n    }\n</style>\n<table border=\"1\" class=\"dataframe\">\n  <thead>\n    <tr>\n      <th></th>\n      <th></th>\n      <th colspan=\"2\" halign=\"left\">X</th>\n      <th colspan=\"2\" halign=\"left\">Y</th>\n    </tr>\n    <tr>\n      <th></th>\n      <th></th>\n      <th>x</th>\n      <th>y</th>\n      <th>x</th>\n      <th>y</th>\n    </tr>\n  </thead>\n  <tbody>\n    <tr>\n      <th rowspan=\"2\" valign=\"top\">A</th>\n      <th>a</th>\n      <td>0.442376</td>\n      <td>0.570448</td>\n      <td>0.334799</td>\n      <td>0.999831</td>\n    </tr>\n    <tr>\n      <th>a</th>\n      <td>0.554026</td>\n      <td>0.712807</td>\n      <td>0.369856</td>\n      <td>0.320812</td>\n    </tr>\n    <tr>\n      <th rowspan=\"2\" valign=\"top\">B</th>\n      <th>a</th>\n      <td>0.381864</td>\n      <td>0.609943</td>\n      <td>0.537498</td>\n      <td>0.470492</td>\n    </tr>\n    <tr>\n      <th>b</th>\n      <td>0.463670</td>\n      <td>0.727599</td>\n      <td>0.948059</td>\n      <td>0.410741</td>\n    </tr>\n  </tbody>\n</table>\n</div>",
      "text/plain": "            X                   Y          \n            x         y         x         y\nA a  0.442376  0.570448  0.334799  0.999831\n  a  0.554026  0.712807  0.369856  0.320812\nB a  0.381864  0.609943  0.537498  0.470492\n  b  0.463670  0.727599  0.948059  0.410741"
     },
     "execution_count": 2,
     "metadata": {},
     "output_type": "execute_result"
    }
   ],
   "source": [
    "arrays = [['A', 'A', 'B', 'B'], ['a', 'a', 'a', 'b']]\n",
    "tuples = list(zip(*arrays))\n",
    "columns = pd.MultiIndex.from_product([['X', 'Y'], ['x', 'y']])\n",
    "\n",
    "df = pd.DataFrame(np.random.rand(4, 4), \n",
    "    index=pd.MultiIndex.from_tuples(tuples),\n",
    "    columns=columns)\n",
    "\n",
    "df"
   ]
  },
  {
   "cell_type": "code",
   "execution_count": 3,
   "metadata": {},
   "outputs": [
    {
     "data": {
      "text/html": "<div>\n<style scoped>\n    .dataframe tbody tr th:only-of-type {\n        vertical-align: middle;\n    }\n\n    .dataframe tbody tr th {\n        vertical-align: top;\n    }\n\n    .dataframe thead tr th {\n        text-align: left;\n    }\n</style>\n<table border=\"1\" class=\"dataframe\">\n  <thead>\n    <tr>\n      <th></th>\n      <th></th>\n      <th colspan=\"2\" halign=\"left\">X</th>\n      <th colspan=\"2\" halign=\"left\">Y</th>\n    </tr>\n    <tr>\n      <th></th>\n      <th></th>\n      <th>x</th>\n      <th>y</th>\n      <th>x</th>\n      <th>y</th>\n    </tr>\n  </thead>\n  <tbody>\n    <tr>\n      <th rowspan=\"2\" valign=\"top\">A</th>\n      <th>a</th>\n      <td>0.442376</td>\n      <td>0.570448</td>\n      <td>0.334799</td>\n      <td>0.999831</td>\n    </tr>\n    <tr>\n      <th>a</th>\n      <td>0.554026</td>\n      <td>0.712807</td>\n      <td>0.369856</td>\n      <td>0.320812</td>\n    </tr>\n  </tbody>\n</table>\n</div>",
      "text/plain": "            X                   Y          \n            x         y         x         y\nA a  0.442376  0.570448  0.334799  0.999831\n  a  0.554026  0.712807  0.369856  0.320812"
     },
     "execution_count": 3,
     "metadata": {},
     "output_type": "execute_result"
    }
   ],
   "source": [
    "df.loc[('A', 'a')]"
   ]
  },
  {
   "cell_type": "markdown",
   "execution_count": 13,
   "metadata": {},
   "outputs": [
    {
     "data": {
      "text/html": "<div>\n<style scoped>\n    .dataframe tbody tr th:only-of-type {\n        vertical-align: middle;\n    }\n\n    .dataframe tbody tr th {\n        vertical-align: top;\n    }\n\n    .dataframe thead tr th {\n        text-align: left;\n    }\n</style>\n<table border=\"1\" class=\"dataframe\">\n  <thead>\n    <tr>\n      <th></th>\n      <th></th>\n      <th>X</th>\n      <th>Y</th>\n    </tr>\n    <tr>\n      <th></th>\n      <th></th>\n      <th>x</th>\n      <th>x</th>\n    </tr>\n  </thead>\n  <tbody>\n    <tr>\n      <th rowspan=\"2\" valign=\"top\">A</th>\n      <th>a</th>\n      <td>0.396436</td>\n      <td>0.643262</td>\n    </tr>\n    <tr>\n      <th>a</th>\n      <td>0.439367</td>\n      <td>0.969629</td>\n    </tr>\n    <tr>\n      <th rowspan=\"2\" valign=\"top\">B</th>\n      <th>a</th>\n      <td>0.974445</td>\n      <td>0.839277</td>\n    </tr>\n    <tr>\n      <th>b</th>\n      <td>0.633683</td>\n      <td>0.288547</td>\n    </tr>\n  </tbody>\n</table>\n</div>",
      "text/plain": "            X         Y\n            x         x\nA a  0.396436  0.643262\n  a  0.439367  0.969629\nB a  0.974445  0.839277\n  b  0.633683  0.288547"
     },
     "execution_count": 13,
     "metadata": {},
     "output_type": "execute_result"
    }
   ],
   "source": [
    "## Selecting the inner levels\n",
    "\n",
    "There are several ways to select the inner levels, but the easiest is probably to use the usual notation in association with `.loc(axis=...)`. This removes any ambiguity."
   ]
  },
  {
   "cell_type": "code",
   "execution_count": 4,
   "metadata": {},
   "outputs": [
    {
     "data": {
      "text/html": "<div>\n<style scoped>\n    .dataframe tbody tr th:only-of-type {\n        vertical-align: middle;\n    }\n\n    .dataframe tbody tr th {\n        vertical-align: top;\n    }\n\n    .dataframe thead tr th {\n        text-align: left;\n    }\n</style>\n<table border=\"1\" class=\"dataframe\">\n  <thead>\n    <tr>\n      <th></th>\n      <th></th>\n      <th>X</th>\n      <th>Y</th>\n    </tr>\n    <tr>\n      <th></th>\n      <th></th>\n      <th>y</th>\n      <th>y</th>\n    </tr>\n  </thead>\n  <tbody>\n    <tr>\n      <th rowspan=\"2\" valign=\"top\">A</th>\n      <th>a</th>\n      <td>0.570448</td>\n      <td>0.999831</td>\n    </tr>\n    <tr>\n      <th>a</th>\n      <td>0.712807</td>\n      <td>0.320812</td>\n    </tr>\n    <tr>\n      <th rowspan=\"2\" valign=\"top\">B</th>\n      <th>a</th>\n      <td>0.609943</td>\n      <td>0.470492</td>\n    </tr>\n    <tr>\n      <th>b</th>\n      <td>0.727599</td>\n      <td>0.410741</td>\n    </tr>\n  </tbody>\n</table>\n</div>",
      "text/plain": "            X         Y\n            y         y\nA a  0.570448  0.999831\n  a  0.712807  0.320812\nB a  0.609943  0.470492\n  b  0.727599  0.410741"
     },
     "execution_count": 4,
     "metadata": {},
     "output_type": "execute_result"
    }
   ],
   "source": [
    "df.loc(axis=1)[:, 'y']"
   ]
  },
  {
   "cell_type": "code",
   "execution_count": 5,
   "metadata": {},
   "outputs": [
    {
     "data": {
      "text/html": "<div>\n<style scoped>\n    .dataframe tbody tr th:only-of-type {\n        vertical-align: middle;\n    }\n\n    .dataframe tbody tr th {\n        vertical-align: top;\n    }\n\n    .dataframe thead tr th {\n        text-align: left;\n    }\n</style>\n<table border=\"1\" class=\"dataframe\">\n  <thead>\n    <tr>\n      <th></th>\n      <th></th>\n      <th colspan=\"2\" halign=\"left\">X</th>\n      <th colspan=\"2\" halign=\"left\">Y</th>\n    </tr>\n    <tr>\n      <th></th>\n      <th></th>\n      <th>x</th>\n      <th>y</th>\n      <th>x</th>\n      <th>y</th>\n    </tr>\n  </thead>\n  <tbody>\n    <tr>\n      <th rowspan=\"2\" valign=\"top\">A</th>\n      <th>a</th>\n      <td>0.442376</td>\n      <td>0.570448</td>\n      <td>0.334799</td>\n      <td>0.999831</td>\n    </tr>\n    <tr>\n      <th>a</th>\n      <td>0.554026</td>\n      <td>0.712807</td>\n      <td>0.369856</td>\n      <td>0.320812</td>\n    </tr>\n    <tr>\n      <th>B</th>\n      <th>a</th>\n      <td>0.381864</td>\n      <td>0.609943</td>\n      <td>0.537498</td>\n      <td>0.470492</td>\n    </tr>\n  </tbody>\n</table>\n</div>",
      "text/plain": "            X                   Y          \n            x         y         x         y\nA a  0.442376  0.570448  0.334799  0.999831\n  a  0.554026  0.712807  0.369856  0.320812\nB a  0.381864  0.609943  0.537498  0.470492"
     },
     "execution_count": 5,
     "metadata": {},
     "output_type": "execute_result"
    }
   ],
   "source": [
    "df.loc(axis=0)[:, 'a']"
   ]
  },
  {
   "cell_type": "markdown",
   "execution_count": null,
   "metadata": {},
   "outputs": [],
   "source": [
    "Another possibility is `df.xs(key, axis, level)`. By default, it drops levels. This can be changed with `drop_level=False`."
   ]
  },
  {
   "cell_type": "code",
   "execution_count": 6,
   "metadata": {},
   "outputs": [
    {
     "data": {
      "text/html": "<div>\n<style scoped>\n    .dataframe tbody tr th:only-of-type {\n        vertical-align: middle;\n    }\n\n    .dataframe tbody tr th {\n        vertical-align: top;\n    }\n\n    .dataframe thead th {\n        text-align: right;\n    }\n</style>\n<table border=\"1\" class=\"dataframe\">\n  <thead>\n    <tr style=\"text-align: right;\">\n      <th></th>\n      <th></th>\n      <th>X</th>\n      <th>Y</th>\n    </tr>\n  </thead>\n  <tbody>\n    <tr>\n      <th rowspan=\"2\" valign=\"top\">A</th>\n      <th>a</th>\n      <td>0.570448</td>\n      <td>0.999831</td>\n    </tr>\n    <tr>\n      <th>a</th>\n      <td>0.712807</td>\n      <td>0.320812</td>\n    </tr>\n    <tr>\n      <th rowspan=\"2\" valign=\"top\">B</th>\n      <th>a</th>\n      <td>0.609943</td>\n      <td>0.470492</td>\n    </tr>\n    <tr>\n      <th>b</th>\n      <td>0.727599</td>\n      <td>0.410741</td>\n    </tr>\n  </tbody>\n</table>\n</div>",
      "text/plain": "            X         Y\nA a  0.570448  0.999831\n  a  0.712807  0.320812\nB a  0.609943  0.470492\n  b  0.727599  0.410741"
     },
     "execution_count": 6,
     "metadata": {},
     "output_type": "execute_result"
    }
   ],
   "source": [
    "df.xs(key='y', axis=1, level=1)"
   ]
  },
  {
   "cell_type": "code",
   "execution_count": 7,
   "metadata": {},
   "outputs": [
    {
     "data": {
      "text/html": "<div>\n<style scoped>\n    .dataframe tbody tr th:only-of-type {\n        vertical-align: middle;\n    }\n\n    .dataframe tbody tr th {\n        vertical-align: top;\n    }\n\n    .dataframe thead tr th {\n        text-align: left;\n    }\n</style>\n<table border=\"1\" class=\"dataframe\">\n  <thead>\n    <tr>\n      <th></th>\n      <th></th>\n      <th>X</th>\n      <th>Y</th>\n    </tr>\n    <tr>\n      <th></th>\n      <th></th>\n      <th>x</th>\n      <th>x</th>\n    </tr>\n  </thead>\n  <tbody>\n    <tr>\n      <th rowspan=\"2\" valign=\"top\">A</th>\n      <th>a</th>\n      <td>0.442376</td>\n      <td>0.334799</td>\n    </tr>\n    <tr>\n      <th>a</th>\n      <td>0.554026</td>\n      <td>0.369856</td>\n    </tr>\n    <tr>\n      <th rowspan=\"2\" valign=\"top\">B</th>\n      <th>a</th>\n      <td>0.381864</td>\n      <td>0.537498</td>\n    </tr>\n    <tr>\n      <th>b</th>\n      <td>0.463670</td>\n      <td>0.948059</td>\n    </tr>\n  </tbody>\n</table>\n</div>",
      "text/plain": "            X         Y\n            x         x\nA a  0.442376  0.334799\n  a  0.554026  0.369856\nB a  0.381864  0.537498\n  b  0.463670  0.948059"
     },
     "execution_count": 7,
     "metadata": {},
     "output_type": "execute_result"
    }
   ],
   "source": [
    "df.xs(key='x', axis=1, level=1, drop_level=False)"
   ]
  },
  {
   "cell_type": "code",
   "execution_count": 8,
   "metadata": {},
   "outputs": [
    {
     "data": {
      "text/html": "<div>\n<style scoped>\n    .dataframe tbody tr th:only-of-type {\n        vertical-align: middle;\n    }\n\n    .dataframe tbody tr th {\n        vertical-align: top;\n    }\n\n    .dataframe thead tr th {\n        text-align: left;\n    }\n</style>\n<table border=\"1\" class=\"dataframe\">\n  <thead>\n    <tr>\n      <th></th>\n      <th></th>\n      <th colspan=\"2\" halign=\"left\">X</th>\n      <th colspan=\"2\" halign=\"left\">Y</th>\n    </tr>\n    <tr>\n      <th></th>\n      <th></th>\n      <th>x</th>\n      <th>y</th>\n      <th>x</th>\n      <th>y</th>\n    </tr>\n  </thead>\n  <tbody>\n    <tr>\n      <th rowspan=\"2\" valign=\"top\">A</th>\n      <th>a</th>\n      <td>0.442376</td>\n      <td>0.570448</td>\n      <td>0.334799</td>\n      <td>0.999831</td>\n    </tr>\n    <tr>\n      <th>a</th>\n      <td>0.554026</td>\n      <td>0.712807</td>\n      <td>0.369856</td>\n      <td>0.320812</td>\n    </tr>\n    <tr>\n      <th>B</th>\n      <th>a</th>\n      <td>0.381864</td>\n      <td>0.609943</td>\n      <td>0.537498</td>\n      <td>0.470492</td>\n    </tr>\n  </tbody>\n</table>\n</div>",
      "text/plain": "            X                   Y          \n            x         y         x         y\nA a  0.442376  0.570448  0.334799  0.999831\n  a  0.554026  0.712807  0.369856  0.320812\nB a  0.381864  0.609943  0.537498  0.470492"
     },
     "execution_count": 8,
     "metadata": {},
     "output_type": "execute_result"
    }
   ],
   "source": [
    "df.xs(key='a', axis=0, level=1, drop_level=False)"
   ]
  },
  {
   "cell_type": "code",
   "execution_count": null,
   "metadata": {},
   "outputs": [],
   "source": []
  },
  {
   "cell_type": "code",
   "execution_count": 9,
   "metadata": {},
   "outputs": [
    {
     "data": {
      "text/html": "<div>\n<style scoped>\n    .dataframe tbody tr th:only-of-type {\n        vertical-align: middle;\n    }\n\n    .dataframe tbody tr th {\n        vertical-align: top;\n    }\n\n    .dataframe thead tr th {\n        text-align: left;\n    }\n</style>\n<table border=\"1\" class=\"dataframe\">\n  <thead>\n    <tr>\n      <th></th>\n      <th></th>\n      <th colspan=\"2\" halign=\"left\">X</th>\n      <th colspan=\"2\" halign=\"left\">Y</th>\n    </tr>\n    <tr>\n      <th></th>\n      <th></th>\n      <th>x</th>\n      <th>y</th>\n      <th>x</th>\n      <th>y</th>\n    </tr>\n  </thead>\n  <tbody>\n    <tr>\n      <th rowspan=\"2\" valign=\"top\">A</th>\n      <th>a</th>\n      <td>0.442376</td>\n      <td>0.570448</td>\n      <td>0.334799</td>\n      <td>0.999831</td>\n    </tr>\n    <tr>\n      <th>a</th>\n      <td>0.554026</td>\n      <td>0.712807</td>\n      <td>0.369856</td>\n      <td>0.320812</td>\n    </tr>\n    <tr>\n      <th>B</th>\n      <th>a</th>\n      <td>0.381864</td>\n      <td>0.609943</td>\n      <td>0.537498</td>\n      <td>0.470492</td>\n    </tr>\n  </tbody>\n</table>\n</div>",
      "text/plain": "            X                   Y          \n            x         y         x         y\nA a  0.442376  0.570448  0.334799  0.999831\n  a  0.554026  0.712807  0.369856  0.320812\nB a  0.381864  0.609943  0.537498  0.470492"
     },
     "execution_count": 9,
     "metadata": {},
     "output_type": "execute_result"
    }
   ],
   "source": [
    "df.loc[(slice(None), 'a'), :]"
   ]
  },
  {
   "cell_type": "markdown",
   "execution_count": null,
   "metadata": {},
   "outputs": [],
   "source": [
    "## Take methods\n",
    "\n",
    "Take retrieves elements along an axis *positionally*. It takes either a list or an array of integer positions."
   ]
  },
  {
   "cell_type": "code",
   "execution_count": 12,
   "metadata": {},
   "outputs": [
    {
     "data": {
      "text/html": "<div>\n<style scoped>\n    .dataframe tbody tr th:only-of-type {\n        vertical-align: middle;\n    }\n\n    .dataframe tbody tr th {\n        vertical-align: top;\n    }\n\n    .dataframe thead tr th {\n        text-align: left;\n    }\n</style>\n<table border=\"1\" class=\"dataframe\">\n  <thead>\n    <tr>\n      <th></th>\n      <th></th>\n      <th colspan=\"2\" halign=\"left\">X</th>\n      <th colspan=\"2\" halign=\"left\">Y</th>\n    </tr>\n    <tr>\n      <th></th>\n      <th></th>\n      <th>x</th>\n      <th>y</th>\n      <th>x</th>\n      <th>y</th>\n    </tr>\n  </thead>\n  <tbody>\n    <tr>\n      <th>A</th>\n      <th>a</th>\n      <td>0.442376</td>\n      <td>0.570448</td>\n      <td>0.334799</td>\n      <td>0.999831</td>\n    </tr>\n    <tr>\n      <th>B</th>\n      <th>b</th>\n      <td>0.463670</td>\n      <td>0.727599</td>\n      <td>0.948059</td>\n      <td>0.410741</td>\n    </tr>\n  </tbody>\n</table>\n</div>",
      "text/plain": "            X                   Y          \n            x         y         x         y\nA a  0.442376  0.570448  0.334799  0.999831\nB b  0.463670  0.727599  0.948059  0.410741"
     },
     "execution_count": 12,
     "metadata": {},
     "output_type": "execute_result"
    }
   ],
   "source": [
    "df.take([0, 3])"
   ]
  },
  {
   "cell_type": "code",
   "execution_count": 13,
   "metadata": {},
   "outputs": [
    {
     "data": {
      "text/html": "<div>\n<style scoped>\n    .dataframe tbody tr th:only-of-type {\n        vertical-align: middle;\n    }\n\n    .dataframe tbody tr th {\n        vertical-align: top;\n    }\n\n    .dataframe thead tr th {\n        text-align: left;\n    }\n</style>\n<table border=\"1\" class=\"dataframe\">\n  <thead>\n    <tr>\n      <th></th>\n      <th></th>\n      <th>X</th>\n      <th>Y</th>\n    </tr>\n    <tr>\n      <th></th>\n      <th></th>\n      <th>x</th>\n      <th>y</th>\n    </tr>\n  </thead>\n  <tbody>\n    <tr>\n      <th rowspan=\"2\" valign=\"top\">A</th>\n      <th>a</th>\n      <td>0.442376</td>\n      <td>0.999831</td>\n    </tr>\n    <tr>\n      <th>a</th>\n      <td>0.554026</td>\n      <td>0.320812</td>\n    </tr>\n    <tr>\n      <th rowspan=\"2\" valign=\"top\">B</th>\n      <th>a</th>\n      <td>0.381864</td>\n      <td>0.470492</td>\n    </tr>\n    <tr>\n      <th>b</th>\n      <td>0.463670</td>\n      <td>0.410741</td>\n    </tr>\n  </tbody>\n</table>\n</div>",
      "text/plain": "            X         Y\n            x         y\nA a  0.442376  0.999831\n  a  0.554026  0.320812\nB a  0.381864  0.470492\n  b  0.463670  0.410741"
     },
     "execution_count": 13,
     "metadata": {},
     "output_type": "execute_result"
    }
   ],
   "source": [
    "df.take([0, 3], axis=1)"
   ]
  },
  {
   "cell_type": "code",
   "execution_count": null,
   "metadata": {},
   "outputs": [],
   "source": []
  }
 ]
}