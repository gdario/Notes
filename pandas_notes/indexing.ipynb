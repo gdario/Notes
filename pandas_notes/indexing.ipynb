{
 "nbformat": 4,
 "nbformat_minor": 2,
 "metadata": {
  "language_info": {
   "name": "python",
   "codemirror_mode": {
    "name": "ipython",
    "version": 3
   },
   "version": "3.6.7"
  },
  "orig_nbformat": 2,
  "file_extension": ".py",
  "mimetype": "text/x-python",
  "name": "python",
  "npconvert_exporter": "python",
  "pygments_lexer": "ipython3",
  "version": 3
 },
 "cells": [
  {
   "cell_type": "markdown",
   "execution_count": null,
   "metadata": {},
   "outputs": [],
   "source": [
    "# Pandas Indexing"
   ]
  },
  {
   "cell_type": "code",
   "execution_count": 1,
   "metadata": {},
   "outputs": [],
   "source": [
    "import pandas as pd\n",
    "import numpy as np"
   ]
  },
  {
   "cell_type": "code",
   "execution_count": 2,
   "metadata": {},
   "outputs": [
    {
     "data": {
      "text/html": "<div>\n<style scoped>\n    .dataframe tbody tr th:only-of-type {\n        vertical-align: middle;\n    }\n\n    .dataframe tbody tr th {\n        vertical-align: top;\n    }\n\n    .dataframe thead th {\n        text-align: right;\n    }\n</style>\n<table border=\"1\" class=\"dataframe\">\n  <thead>\n    <tr style=\"text-align: right;\">\n      <th></th>\n      <th>A</th>\n      <th>B</th>\n    </tr>\n  </thead>\n  <tbody>\n    <tr>\n      <th>0</th>\n      <td>0</td>\n      <td>4</td>\n    </tr>\n    <tr>\n      <th>1</th>\n      <td>1</td>\n      <td>5</td>\n    </tr>\n    <tr>\n      <th>2</th>\n      <td>2</td>\n      <td>6</td>\n    </tr>\n    <tr>\n      <th>3</th>\n      <td>3</td>\n      <td>7</td>\n    </tr>\n  </tbody>\n</table>\n</div>",
      "text/plain": "   A  B\n0  0  4\n1  1  5\n2  2  6\n3  3  7"
     },
     "execution_count": 2,
     "metadata": {},
     "output_type": "execute_result"
    }
   ],
   "source": [
    "df = pd.DataFrame({'A': list(range(4)), 'B': list(range(4, 8))})\n",
    "df"
   ]
  },
  {
   "cell_type": "markdown",
   "execution_count": null,
   "metadata": {},
   "outputs": [],
   "source": [
    "We can swap the axes as follows:"
   ]
  },
  {
   "cell_type": "code",
   "execution_count": 3,
   "metadata": {},
   "outputs": [
    {
     "data": {
      "text/html": "<div>\n<style scoped>\n    .dataframe tbody tr th:only-of-type {\n        vertical-align: middle;\n    }\n\n    .dataframe tbody tr th {\n        vertical-align: top;\n    }\n\n    .dataframe thead th {\n        text-align: right;\n    }\n</style>\n<table border=\"1\" class=\"dataframe\">\n  <thead>\n    <tr style=\"text-align: right;\">\n      <th></th>\n      <th>A</th>\n      <th>B</th>\n    </tr>\n  </thead>\n  <tbody>\n    <tr>\n      <th>0</th>\n      <td>4</td>\n      <td>0</td>\n    </tr>\n    <tr>\n      <th>1</th>\n      <td>5</td>\n      <td>1</td>\n    </tr>\n    <tr>\n      <th>2</th>\n      <td>6</td>\n      <td>2</td>\n    </tr>\n    <tr>\n      <th>3</th>\n      <td>7</td>\n      <td>3</td>\n    </tr>\n  </tbody>\n</table>\n</div>",
      "text/plain": "   A  B\n0  4  0\n1  5  1\n2  6  2\n3  7  3"
     },
     "execution_count": 3,
     "metadata": {},
     "output_type": "execute_result"
    }
   ],
   "source": [
    "df[['A', 'B']] = df[['B', 'A']]\n",
    "df"
   ]
  },
  {
   "cell_type": "markdown",
   "execution_count": null,
   "metadata": {},
   "outputs": [],
   "source": [
    "This, however, does not work:"
   ]
  },
  {
   "cell_type": "code",
   "execution_count": 4,
   "metadata": {},
   "outputs": [
    {
     "data": {
      "text/html": "<div>\n<style scoped>\n    .dataframe tbody tr th:only-of-type {\n        vertical-align: middle;\n    }\n\n    .dataframe tbody tr th {\n        vertical-align: top;\n    }\n\n    .dataframe thead th {\n        text-align: right;\n    }\n</style>\n<table border=\"1\" class=\"dataframe\">\n  <thead>\n    <tr style=\"text-align: right;\">\n      <th></th>\n      <th>A</th>\n      <th>B</th>\n    </tr>\n  </thead>\n  <tbody>\n    <tr>\n      <th>0</th>\n      <td>4</td>\n      <td>0</td>\n    </tr>\n    <tr>\n      <th>1</th>\n      <td>5</td>\n      <td>1</td>\n    </tr>\n    <tr>\n      <th>2</th>\n      <td>6</td>\n      <td>2</td>\n    </tr>\n    <tr>\n      <th>3</th>\n      <td>7</td>\n      <td>3</td>\n    </tr>\n  </tbody>\n</table>\n</div>",
      "text/plain": "   A  B\n0  4  0\n1  5  1\n2  6  2\n3  7  3"
     },
     "execution_count": 4,
     "metadata": {},
     "output_type": "execute_result"
    }
   ],
   "source": [
    "df.loc[:, ['A', 'B']] = df[['B', 'A']]\n",
    "df"
   ]
  },
  {
   "cell_type": "markdown",
   "execution_count": null,
   "metadata": {},
   "outputs": [],
   "source": [
    "nor does this:"
   ]
  },
  {
   "cell_type": "code",
   "execution_count": 5,
   "metadata": {},
   "outputs": [
    {
     "data": {
      "text/html": "<div>\n<style scoped>\n    .dataframe tbody tr th:only-of-type {\n        vertical-align: middle;\n    }\n\n    .dataframe tbody tr th {\n        vertical-align: top;\n    }\n\n    .dataframe thead th {\n        text-align: right;\n    }\n</style>\n<table border=\"1\" class=\"dataframe\">\n  <thead>\n    <tr style=\"text-align: right;\">\n      <th></th>\n      <th>A</th>\n      <th>B</th>\n    </tr>\n  </thead>\n  <tbody>\n    <tr>\n      <th>0</th>\n      <td>4</td>\n      <td>0</td>\n    </tr>\n    <tr>\n      <th>1</th>\n      <td>5</td>\n      <td>1</td>\n    </tr>\n    <tr>\n      <th>2</th>\n      <td>6</td>\n      <td>2</td>\n    </tr>\n    <tr>\n      <th>3</th>\n      <td>7</td>\n      <td>3</td>\n    </tr>\n  </tbody>\n</table>\n</div>",
      "text/plain": "   A  B\n0  4  0\n1  5  1\n2  6  2\n3  7  3"
     },
     "execution_count": 5,
     "metadata": {},
     "output_type": "execute_result"
    }
   ],
   "source": [
    "df.iloc[:, [0, 1]] = df.iloc[:, [1, 0]]\n",
    "df"
   ]
  },
  {
   "cell_type": "markdown",
   "execution_count": null,
   "metadata": {},
   "outputs": [],
   "source": [
    "The reason is that when we use `.loc` or `.iloc` pandas automatically *aligns* the axes."
   ]
  },
  {
   "cell_type": "markdown",
   "execution_count": null,
   "metadata": {},
   "outputs": [],
   "source": [
    "## Using `.loc`\n",
    "\n",
    "The `.loc` attribute is the primary access method. It accepts:\n",
    "\n",
    "- Single labels.\n",
    "- List or array of labels.\n",
    "- Slices of labels `'a':'f'`, `'c':` etc.\n",
    "\n",
    "A case like `'c':` will work only when the index is sorted. If not, a `KeyError` is returned.\n",
    "\n",
    "### With Series"
   ]
  },
  {
   "cell_type": "code",
   "execution_count": 6,
   "metadata": {},
   "outputs": [
    {
     "data": {
      "text/plain": "a   -1.172907\nb   -0.524277\nc   -0.938370\ndtype: float64"
     },
     "execution_count": 6,
     "metadata": {},
     "output_type": "execute_result"
    }
   ],
   "source": [
    "s1 = pd.Series(np.random.randn(6), index=list('abcdef'))\n",
    "s1.loc[:'c']"
   ]
  },
  {
   "cell_type": "markdown",
   "execution_count": null,
   "metadata": {},
   "outputs": [],
   "source": [
    "### With Data Frames\n",
    "\n",
    "With data frames we need to be explicit when we want to index/slice the columns."
   ]
  },
  {
   "cell_type": "code",
   "execution_count": 7,
   "metadata": {},
   "outputs": [
    {
     "data": {
      "text/html": "<div>\n<style scoped>\n    .dataframe tbody tr th:only-of-type {\n        vertical-align: middle;\n    }\n\n    .dataframe tbody tr th {\n        vertical-align: top;\n    }\n\n    .dataframe thead th {\n        text-align: right;\n    }\n</style>\n<table border=\"1\" class=\"dataframe\">\n  <thead>\n    <tr style=\"text-align: right;\">\n      <th></th>\n      <th>A</th>\n      <th>B</th>\n      <th>C</th>\n      <th>D</th>\n    </tr>\n  </thead>\n  <tbody>\n    <tr>\n      <th>a</th>\n      <td>0.506867</td>\n      <td>-0.129144</td>\n      <td>-2.325755</td>\n      <td>-0.765544</td>\n    </tr>\n    <tr>\n      <th>b</th>\n      <td>-0.695209</td>\n      <td>-0.962873</td>\n      <td>0.257549</td>\n      <td>-0.421503</td>\n    </tr>\n    <tr>\n      <th>c</th>\n      <td>2.166315</td>\n      <td>1.183305</td>\n      <td>0.418292</td>\n      <td>1.127155</td>\n    </tr>\n    <tr>\n      <th>d</th>\n      <td>-2.621619</td>\n      <td>0.060626</td>\n      <td>-0.556854</td>\n      <td>-0.311262</td>\n    </tr>\n    <tr>\n      <th>e</th>\n      <td>-0.306600</td>\n      <td>0.919141</td>\n      <td>0.060670</td>\n      <td>1.444010</td>\n    </tr>\n    <tr>\n      <th>f</th>\n      <td>0.786331</td>\n      <td>-0.343798</td>\n      <td>-0.281035</td>\n      <td>0.782649</td>\n    </tr>\n  </tbody>\n</table>\n</div>",
      "text/plain": "          A         B         C         D\na  0.506867 -0.129144 -2.325755 -0.765544\nb -0.695209 -0.962873  0.257549 -0.421503\nc  2.166315  1.183305  0.418292  1.127155\nd -2.621619  0.060626 -0.556854 -0.311262\ne -0.306600  0.919141  0.060670  1.444010\nf  0.786331 -0.343798 -0.281035  0.782649"
     },
     "execution_count": 7,
     "metadata": {},
     "output_type": "execute_result"
    }
   ],
   "source": [
    "df1 = pd.DataFrame(np.random.randn(6, 4), index=list('abcdef'),\n",
    "columns=list('ABCD'))\n",
    "df1"
   ]
  },
  {
   "cell_type": "code",
   "execution_count": 8,
   "metadata": {},
   "outputs": [
    {
     "data": {
      "text/html": "<div>\n<style scoped>\n    .dataframe tbody tr th:only-of-type {\n        vertical-align: middle;\n    }\n\n    .dataframe tbody tr th {\n        vertical-align: top;\n    }\n\n    .dataframe thead th {\n        text-align: right;\n    }\n</style>\n<table border=\"1\" class=\"dataframe\">\n  <thead>\n    <tr style=\"text-align: right;\">\n      <th></th>\n      <th>A</th>\n      <th>B</th>\n      <th>C</th>\n      <th>D</th>\n    </tr>\n  </thead>\n  <tbody>\n    <tr>\n      <th>b</th>\n      <td>-0.695209</td>\n      <td>-0.962873</td>\n      <td>0.257549</td>\n      <td>-0.421503</td>\n    </tr>\n    <tr>\n      <th>c</th>\n      <td>2.166315</td>\n      <td>1.183305</td>\n      <td>0.418292</td>\n      <td>1.127155</td>\n    </tr>\n    <tr>\n      <th>d</th>\n      <td>-2.621619</td>\n      <td>0.060626</td>\n      <td>-0.556854</td>\n      <td>-0.311262</td>\n    </tr>\n  </tbody>\n</table>\n</div>",
      "text/plain": "          A         B         C         D\nb -0.695209 -0.962873  0.257549 -0.421503\nc  2.166315  1.183305  0.418292  1.127155\nd -2.621619  0.060626 -0.556854 -0.311262"
     },
     "execution_count": 8,
     "metadata": {},
     "output_type": "execute_result"
    }
   ],
   "source": [
    "df1.loc['b':'d']"
   ]
  },
  {
   "cell_type": "code",
   "execution_count": 9,
   "metadata": {},
   "outputs": [
    {
     "data": {
      "text/html": "<div>\n<style scoped>\n    .dataframe tbody tr th:only-of-type {\n        vertical-align: middle;\n    }\n\n    .dataframe tbody tr th {\n        vertical-align: top;\n    }\n\n    .dataframe thead th {\n        text-align: right;\n    }\n</style>\n<table border=\"1\" class=\"dataframe\">\n  <thead>\n    <tr style=\"text-align: right;\">\n      <th></th>\n      <th>A</th>\n      <th>B</th>\n    </tr>\n  </thead>\n  <tbody>\n    <tr>\n      <th>a</th>\n      <td>0.506867</td>\n      <td>-0.129144</td>\n    </tr>\n    <tr>\n      <th>b</th>\n      <td>-0.695209</td>\n      <td>-0.962873</td>\n    </tr>\n    <tr>\n      <th>c</th>\n      <td>2.166315</td>\n      <td>1.183305</td>\n    </tr>\n    <tr>\n      <th>d</th>\n      <td>-2.621619</td>\n      <td>0.060626</td>\n    </tr>\n    <tr>\n      <th>e</th>\n      <td>-0.306600</td>\n      <td>0.919141</td>\n    </tr>\n    <tr>\n      <th>f</th>\n      <td>0.786331</td>\n      <td>-0.343798</td>\n    </tr>\n  </tbody>\n</table>\n</div>",
      "text/plain": "          A         B\na  0.506867 -0.129144\nb -0.695209 -0.962873\nc  2.166315  1.183305\nd -2.621619  0.060626\ne -0.306600  0.919141\nf  0.786331 -0.343798"
     },
     "execution_count": 9,
     "metadata": {},
     "output_type": "execute_result"
    }
   ],
   "source": [
    "df1.loc[:, ['A', 'B']]"
   ]
  },
  {
   "cell_type": "markdown",
   "execution_count": null,
   "metadata": {},
   "outputs": [],
   "source": [
    "Same reasoning with booleans."
   ]
  },
  {
   "cell_type": "code",
   "execution_count": 10,
   "metadata": {},
   "outputs": [
    {
     "data": {
      "text/plain": "A     True\nB    False\nC    False\nD    False\nName: a, dtype: bool"
     },
     "execution_count": 10,
     "metadata": {},
     "output_type": "execute_result"
    }
   ],
   "source": [
    "df1.loc['a'] > 0"
   ]
  },
  {
   "cell_type": "code",
   "execution_count": 11,
   "metadata": {},
   "outputs": [
    {
     "data": {
      "text/html": "<div>\n<style scoped>\n    .dataframe tbody tr th:only-of-type {\n        vertical-align: middle;\n    }\n\n    .dataframe tbody tr th {\n        vertical-align: top;\n    }\n\n    .dataframe thead th {\n        text-align: right;\n    }\n</style>\n<table border=\"1\" class=\"dataframe\">\n  <thead>\n    <tr style=\"text-align: right;\">\n      <th></th>\n      <th>A</th>\n      <th>B</th>\n      <th>C</th>\n      <th>D</th>\n    </tr>\n  </thead>\n  <tbody>\n    <tr>\n      <th>a</th>\n      <td>False</td>\n      <td>True</td>\n      <td>True</td>\n      <td>True</td>\n    </tr>\n    <tr>\n      <th>b</th>\n      <td>True</td>\n      <td>True</td>\n      <td>False</td>\n      <td>True</td>\n    </tr>\n    <tr>\n      <th>c</th>\n      <td>False</td>\n      <td>False</td>\n      <td>False</td>\n      <td>False</td>\n    </tr>\n  </tbody>\n</table>\n</div>",
      "text/plain": "       A      B      C      D\na  False   True   True   True\nb   True   True  False   True\nc  False  False  False  False"
     },
     "execution_count": 11,
     "metadata": {},
     "output_type": "execute_result"
    }
   ],
   "source": [
    "df1.loc['a':'c'] < 0"
   ]
  },
  {
   "cell_type": "code",
   "execution_count": 12,
   "metadata": {},
   "outputs": [
    {
     "data": {
      "text/plain": "(array([0, 0, 0, 1, 1, 1]), array([1, 2, 3, 0, 1, 3]))"
     },
     "execution_count": 12,
     "metadata": {},
     "output_type": "execute_result"
    }
   ],
   "source": [
    "np.where(df1.loc['a':'c'] < 0)"
   ]
  },
  {
   "cell_type": "markdown",
   "execution_count": null,
   "metadata": {},
   "outputs": [],
   "source": [
    "### Indexing with missing values\n",
    "\n",
    "Indexing with a list containing missing values is now deprecated."
   ]
  },
  {
   "cell_type": "code",
   "execution_count": 13,
   "metadata": {},
   "outputs": [
    {
     "name": "stderr",
     "output_type": "stream",
     "text": "/home/giovenko/miniconda3/envs/sklearn/lib/python3.6/site-packages/ipykernel_launcher.py:1: FutureWarning: \nPassing list-likes to .loc or [] with any missing label will raise\nKeyError in the future, you can use .reindex() as an alternative.\n\nSee the documentation here:\nhttps://pandas.pydata.org/pandas-docs/stable/user_guide/indexing.html#deprecate-loc-reindex-listlike\n  \"\"\"Entry point for launching an IPython kernel.\n"
    },
    {
     "data": {
      "text/html": "<div>\n<style scoped>\n    .dataframe tbody tr th:only-of-type {\n        vertical-align: middle;\n    }\n\n    .dataframe tbody tr th {\n        vertical-align: top;\n    }\n\n    .dataframe thead th {\n        text-align: right;\n    }\n</style>\n<table border=\"1\" class=\"dataframe\">\n  <thead>\n    <tr style=\"text-align: right;\">\n      <th></th>\n      <th>A</th>\n      <th>B</th>\n      <th>C</th>\n      <th>D</th>\n    </tr>\n  </thead>\n  <tbody>\n    <tr>\n      <th>a</th>\n      <td>0.506867</td>\n      <td>-0.129144</td>\n      <td>-2.325755</td>\n      <td>-0.765544</td>\n    </tr>\n    <tr>\n      <th>NaN</th>\n      <td>NaN</td>\n      <td>NaN</td>\n      <td>NaN</td>\n      <td>NaN</td>\n    </tr>\n    <tr>\n      <th>c</th>\n      <td>2.166315</td>\n      <td>1.183305</td>\n      <td>0.418292</td>\n      <td>1.127155</td>\n    </tr>\n  </tbody>\n</table>\n</div>",
      "text/plain": "            A         B         C         D\na    0.506867 -0.129144 -2.325755 -0.765544\nNaN       NaN       NaN       NaN       NaN\nc    2.166315  1.183305  0.418292  1.127155"
     },
     "execution_count": 13,
     "metadata": {},
     "output_type": "execute_result"
    }
   ],
   "source": [
    "df1.loc[['a', np.nan, 'c']]"
   ]
  },
  {
   "cell_type": "markdown",
   "execution_count": null,
   "metadata": {},
   "outputs": [],
   "source": [
    "Similarly, indexing with a non-matching index produce the same message."
   ]
  },
  {
   "cell_type": "code",
   "execution_count": 14,
   "metadata": {},
   "outputs": [
    {
     "name": "stderr",
     "output_type": "stream",
     "text": "/home/giovenko/miniconda3/envs/sklearn/lib/python3.6/site-packages/ipykernel_launcher.py:1: FutureWarning: \nPassing list-likes to .loc or [] with any missing label will raise\nKeyError in the future, you can use .reindex() as an alternative.\n\nSee the documentation here:\nhttps://pandas.pydata.org/pandas-docs/stable/user_guide/indexing.html#deprecate-loc-reindex-listlike\n  \"\"\"Entry point for launching an IPython kernel.\n"
    },
    {
     "data": {
      "text/html": "<div>\n<style scoped>\n    .dataframe tbody tr th:only-of-type {\n        vertical-align: middle;\n    }\n\n    .dataframe tbody tr th {\n        vertical-align: top;\n    }\n\n    .dataframe thead th {\n        text-align: right;\n    }\n</style>\n<table border=\"1\" class=\"dataframe\">\n  <thead>\n    <tr style=\"text-align: right;\">\n      <th></th>\n      <th>A</th>\n      <th>B</th>\n      <th>C</th>\n      <th>D</th>\n    </tr>\n  </thead>\n  <tbody>\n    <tr>\n      <th>a</th>\n      <td>0.506867</td>\n      <td>-0.129144</td>\n      <td>-2.325755</td>\n      <td>-0.765544</td>\n    </tr>\n    <tr>\n      <th>c</th>\n      <td>2.166315</td>\n      <td>1.183305</td>\n      <td>0.418292</td>\n      <td>1.127155</td>\n    </tr>\n    <tr>\n      <th>x</th>\n      <td>NaN</td>\n      <td>NaN</td>\n      <td>NaN</td>\n      <td>NaN</td>\n    </tr>\n  </tbody>\n</table>\n</div>",
      "text/plain": "          A         B         C         D\na  0.506867 -0.129144 -2.325755 -0.765544\nc  2.166315  1.183305  0.418292  1.127155\nx       NaN       NaN       NaN       NaN"
     },
     "execution_count": 14,
     "metadata": {},
     "output_type": "execute_result"
    }
   ],
   "source": [
    "df1.loc[['a', 'c', 'x']]"
   ]
  },
  {
   "cell_type": "markdown",
   "execution_count": null,
   "metadata": {},
   "outputs": [],
   "source": [
    "The recommended way is to use `reindex`."
   ]
  },
  {
   "cell_type": "code",
   "execution_count": 15,
   "metadata": {},
   "outputs": [
    {
     "data": {
      "text/html": "<div>\n<style scoped>\n    .dataframe tbody tr th:only-of-type {\n        vertical-align: middle;\n    }\n\n    .dataframe tbody tr th {\n        vertical-align: top;\n    }\n\n    .dataframe thead th {\n        text-align: right;\n    }\n</style>\n<table border=\"1\" class=\"dataframe\">\n  <thead>\n    <tr style=\"text-align: right;\">\n      <th></th>\n      <th>A</th>\n      <th>B</th>\n      <th>C</th>\n      <th>D</th>\n    </tr>\n  </thead>\n  <tbody>\n    <tr>\n      <th>a</th>\n      <td>0.506867</td>\n      <td>-0.129144</td>\n      <td>-2.325755</td>\n      <td>-0.765544</td>\n    </tr>\n    <tr>\n      <th>c</th>\n      <td>2.166315</td>\n      <td>1.183305</td>\n      <td>0.418292</td>\n      <td>1.127155</td>\n    </tr>\n    <tr>\n      <th>x</th>\n      <td>NaN</td>\n      <td>NaN</td>\n      <td>NaN</td>\n      <td>NaN</td>\n    </tr>\n  </tbody>\n</table>\n</div>",
      "text/plain": "          A         B         C         D\na  0.506867 -0.129144 -2.325755 -0.765544\nc  2.166315  1.183305  0.418292  1.127155\nx       NaN       NaN       NaN       NaN"
     },
     "execution_count": 15,
     "metadata": {},
     "output_type": "execute_result"
    }
   ],
   "source": [
    "df1.reindex(['a', 'c', 'x'])"
   ]
  },
  {
   "cell_type": "markdown",
   "execution_count": null,
   "metadata": {},
   "outputs": [],
   "source": [
    "To avoid including `NaN`s, select only valid indexes taking advantage of the equivalence between indexes and sets."
   ]
  },
  {
   "cell_type": "code",
   "execution_count": 16,
   "metadata": {},
   "outputs": [
    {
     "data": {
      "text/html": "<div>\n<style scoped>\n    .dataframe tbody tr th:only-of-type {\n        vertical-align: middle;\n    }\n\n    .dataframe tbody tr th {\n        vertical-align: top;\n    }\n\n    .dataframe thead th {\n        text-align: right;\n    }\n</style>\n<table border=\"1\" class=\"dataframe\">\n  <thead>\n    <tr style=\"text-align: right;\">\n      <th></th>\n      <th>A</th>\n      <th>B</th>\n      <th>C</th>\n      <th>D</th>\n    </tr>\n  </thead>\n  <tbody>\n    <tr>\n      <th>a</th>\n      <td>0.506867</td>\n      <td>-0.129144</td>\n      <td>-2.325755</td>\n      <td>-0.765544</td>\n    </tr>\n    <tr>\n      <th>c</th>\n      <td>2.166315</td>\n      <td>1.183305</td>\n      <td>0.418292</td>\n      <td>1.127155</td>\n    </tr>\n  </tbody>\n</table>\n</div>",
      "text/plain": "          A         B         C         D\na  0.506867 -0.129144 -2.325755 -0.765544\nc  2.166315  1.183305  0.418292  1.127155"
     },
     "execution_count": 16,
     "metadata": {},
     "output_type": "execute_result"
    }
   ],
   "source": [
    "df1.loc[df1.index.intersection(['a', 'c', 'x'])]"
   ]
  },
  {
   "cell_type": "markdown",
   "execution_count": null,
   "metadata": {},
   "outputs": [],
   "source": [
    "## Using `.iloc`"
   ]
  },
  {
   "cell_type": "markdown",
   "execution_count": null,
   "metadata": {},
   "outputs": [],
   "source": [
    "As before, we need to be explicit when indexing columns."
   ]
  },
  {
   "cell_type": "code",
   "execution_count": 17,
   "metadata": {},
   "outputs": [
    {
     "data": {
      "text/html": "<div>\n<style scoped>\n    .dataframe tbody tr th:only-of-type {\n        vertical-align: middle;\n    }\n\n    .dataframe tbody tr th {\n        vertical-align: top;\n    }\n\n    .dataframe thead th {\n        text-align: right;\n    }\n</style>\n<table border=\"1\" class=\"dataframe\">\n  <thead>\n    <tr style=\"text-align: right;\">\n      <th></th>\n      <th>0</th>\n      <th>2</th>\n      <th>4</th>\n      <th>6</th>\n    </tr>\n  </thead>\n  <tbody>\n    <tr>\n      <th>0</th>\n      <td>-1.174636</td>\n      <td>-0.350344</td>\n      <td>0.376640</td>\n      <td>-0.565246</td>\n    </tr>\n    <tr>\n      <th>2</th>\n      <td>0.640391</td>\n      <td>-1.405737</td>\n      <td>-0.124564</td>\n      <td>-0.243579</td>\n    </tr>\n    <tr>\n      <th>4</th>\n      <td>-0.657400</td>\n      <td>-1.299994</td>\n      <td>1.170997</td>\n      <td>-0.154710</td>\n    </tr>\n    <tr>\n      <th>6</th>\n      <td>-1.403326</td>\n      <td>-0.382572</td>\n      <td>0.060716</td>\n      <td>-0.930173</td>\n    </tr>\n    <tr>\n      <th>8</th>\n      <td>1.204765</td>\n      <td>-0.734977</td>\n      <td>1.959325</td>\n      <td>1.673952</td>\n    </tr>\n    <tr>\n      <th>10</th>\n      <td>-0.486738</td>\n      <td>0.762831</td>\n      <td>-0.850076</td>\n      <td>2.209039</td>\n    </tr>\n  </tbody>\n</table>\n</div>",
      "text/plain": "           0         2         4         6\n0  -1.174636 -0.350344  0.376640 -0.565246\n2   0.640391 -1.405737 -0.124564 -0.243579\n4  -0.657400 -1.299994  1.170997 -0.154710\n6  -1.403326 -0.382572  0.060716 -0.930173\n8   1.204765 -0.734977  1.959325  1.673952\n10 -0.486738  0.762831 -0.850076  2.209039"
     },
     "execution_count": 17,
     "metadata": {},
     "output_type": "execute_result"
    }
   ],
   "source": [
    "df2 = pd.DataFrame(np.random.randn(6, 4), index=list(range(0, 12, 2)),\n",
    "columns=list(range(0, 8, 2)))\n",
    "df2"
   ]
  },
  {
   "cell_type": "markdown",
   "execution_count": null,
   "metadata": {},
   "outputs": [],
   "source": [
    "Having a limit out of range is not a problem."
   ]
  },
  {
   "cell_type": "code",
   "execution_count": 18,
   "metadata": {},
   "outputs": [
    {
     "data": {
      "text/html": "<div>\n<style scoped>\n    .dataframe tbody tr th:only-of-type {\n        vertical-align: middle;\n    }\n\n    .dataframe tbody tr th {\n        vertical-align: top;\n    }\n\n    .dataframe thead th {\n        text-align: right;\n    }\n</style>\n<table border=\"1\" class=\"dataframe\">\n  <thead>\n    <tr style=\"text-align: right;\">\n      <th></th>\n      <th>4</th>\n      <th>6</th>\n    </tr>\n  </thead>\n  <tbody>\n    <tr>\n      <th>0</th>\n      <td>0.376640</td>\n      <td>-0.565246</td>\n    </tr>\n    <tr>\n      <th>2</th>\n      <td>-0.124564</td>\n      <td>-0.243579</td>\n    </tr>\n    <tr>\n      <th>4</th>\n      <td>1.170997</td>\n      <td>-0.154710</td>\n    </tr>\n    <tr>\n      <th>6</th>\n      <td>0.060716</td>\n      <td>-0.930173</td>\n    </tr>\n    <tr>\n      <th>8</th>\n      <td>1.959325</td>\n      <td>1.673952</td>\n    </tr>\n    <tr>\n      <th>10</th>\n      <td>-0.850076</td>\n      <td>2.209039</td>\n    </tr>\n  </tbody>\n</table>\n</div>",
      "text/plain": "           4         6\n0   0.376640 -0.565246\n2  -0.124564 -0.243579\n4   1.170997 -0.154710\n6   0.060716 -0.930173\n8   1.959325  1.673952\n10 -0.850076  2.209039"
     },
     "execution_count": 18,
     "metadata": {},
     "output_type": "execute_result"
    }
   ],
   "source": [
    "df2.iloc[:, 2:10]"
   ]
  },
  {
   "cell_type": "code",
   "execution_count": 19,
   "metadata": {},
   "outputs": [
    {
     "data": {
      "text/html": "<div>\n<style scoped>\n    .dataframe tbody tr th:only-of-type {\n        vertical-align: middle;\n    }\n\n    .dataframe tbody tr th {\n        vertical-align: top;\n    }\n\n    .dataframe thead th {\n        text-align: right;\n    }\n</style>\n<table border=\"1\" class=\"dataframe\">\n  <thead>\n    <tr style=\"text-align: right;\">\n      <th></th>\n      <th>0</th>\n      <th>2</th>\n      <th>4</th>\n      <th>6</th>\n    </tr>\n  </thead>\n  <tbody>\n    <tr>\n      <th>0</th>\n      <td>-1.174636</td>\n      <td>-0.350344</td>\n      <td>0.376640</td>\n      <td>-0.565246</td>\n    </tr>\n    <tr>\n      <th>2</th>\n      <td>0.640391</td>\n      <td>-1.405737</td>\n      <td>-0.124564</td>\n      <td>-0.243579</td>\n    </tr>\n    <tr>\n      <th>4</th>\n      <td>-0.657400</td>\n      <td>-1.299994</td>\n      <td>1.170997</td>\n      <td>-0.154710</td>\n    </tr>\n    <tr>\n      <th>6</th>\n      <td>-1.403326</td>\n      <td>-0.382572</td>\n      <td>0.060716</td>\n      <td>-0.930173</td>\n    </tr>\n    <tr>\n      <th>8</th>\n      <td>1.204765</td>\n      <td>-0.734977</td>\n      <td>1.959325</td>\n      <td>1.673952</td>\n    </tr>\n    <tr>\n      <th>10</th>\n      <td>-0.486738</td>\n      <td>0.762831</td>\n      <td>-0.850076</td>\n      <td>2.209039</td>\n    </tr>\n  </tbody>\n</table>\n</div>",
      "text/plain": "           0         2         4         6\n0  -1.174636 -0.350344  0.376640 -0.565246\n2   0.640391 -1.405737 -0.124564 -0.243579\n4  -0.657400 -1.299994  1.170997 -0.154710\n6  -1.403326 -0.382572  0.060716 -0.930173\n8   1.204765 -0.734977  1.959325  1.673952\n10 -0.486738  0.762831 -0.850076  2.209039"
     },
     "execution_count": 19,
     "metadata": {},
     "output_type": "execute_result"
    }
   ],
   "source": [
    "df2.iloc[0:100]"
   ]
  },
  {
   "cell_type": "markdown",
   "execution_count": null,
   "metadata": {},
   "outputs": [],
   "source": [
    "If all the indices are out of range, an empty data frame is returned."
   ]
  },
  {
   "cell_type": "code",
   "execution_count": 20,
   "metadata": {},
   "outputs": [
    {
     "data": {
      "text/html": "<div>\n<style scoped>\n    .dataframe tbody tr th:only-of-type {\n        vertical-align: middle;\n    }\n\n    .dataframe tbody tr th {\n        vertical-align: top;\n    }\n\n    .dataframe thead th {\n        text-align: right;\n    }\n</style>\n<table border=\"1\" class=\"dataframe\">\n  <thead>\n    <tr style=\"text-align: right;\">\n      <th></th>\n    </tr>\n  </thead>\n  <tbody>\n    <tr>\n      <th>0</th>\n    </tr>\n    <tr>\n      <th>2</th>\n    </tr>\n    <tr>\n      <th>4</th>\n    </tr>\n    <tr>\n      <th>6</th>\n    </tr>\n    <tr>\n      <th>8</th>\n    </tr>\n    <tr>\n      <th>10</th>\n    </tr>\n  </tbody>\n</table>\n</div>",
      "text/plain": "Empty DataFrame\nColumns: []\nIndex: [0, 2, 4, 6, 8, 10]"
     },
     "execution_count": 20,
     "metadata": {},
     "output_type": "execute_result"
    }
   ],
   "source": [
    "df2.iloc[:, 4:5]"
   ]
  },
  {
   "cell_type": "markdown",
   "execution_count": null,
   "metadata": {},
   "outputs": [],
   "source": [
    "We can subset using lists."
   ]
  },
  {
   "cell_type": "code",
   "execution_count": 21,
   "metadata": {},
   "outputs": [
    {
     "data": {
      "text/html": "<div>\n<style scoped>\n    .dataframe tbody tr th:only-of-type {\n        vertical-align: middle;\n    }\n\n    .dataframe tbody tr th {\n        vertical-align: top;\n    }\n\n    .dataframe thead th {\n        text-align: right;\n    }\n</style>\n<table border=\"1\" class=\"dataframe\">\n  <thead>\n    <tr style=\"text-align: right;\">\n      <th></th>\n      <th>0</th>\n      <th>4</th>\n    </tr>\n  </thead>\n  <tbody>\n    <tr>\n      <th>2</th>\n      <td>0.640391</td>\n      <td>-0.124564</td>\n    </tr>\n    <tr>\n      <th>4</th>\n      <td>-0.657400</td>\n      <td>1.170997</td>\n    </tr>\n    <tr>\n      <th>2</th>\n      <td>0.640391</td>\n      <td>-0.124564</td>\n    </tr>\n  </tbody>\n</table>\n</div>",
      "text/plain": "          0         4\n2  0.640391 -0.124564\n4 -0.657400  1.170997\n2  0.640391 -0.124564"
     },
     "execution_count": 21,
     "metadata": {},
     "output_type": "execute_result"
    }
   ],
   "source": [
    "df2.iloc[[1, 2, 1], [0, 2]]"
   ]
  },
  {
   "cell_type": "markdown",
   "execution_count": null,
   "metadata": {},
   "outputs": [],
   "source": [
    "`iloc` and `iat` equivalence."
   ]
  },
  {
   "cell_type": "code",
   "execution_count": 22,
   "metadata": {},
   "outputs": [
    {
     "data": {
      "text/plain": "True"
     },
     "execution_count": 22,
     "metadata": {},
     "output_type": "execute_result"
    }
   ],
   "source": [
    "df2.iloc[1, 1] == df2.iat[1, 1]"
   ]
  },
  {
   "cell_type": "markdown",
   "execution_count": null,
   "metadata": {},
   "outputs": [],
   "source": [
    "Equivalence, but not identity."
   ]
  },
  {
   "cell_type": "code",
   "execution_count": 23,
   "metadata": {},
   "outputs": [
    {
     "data": {
      "text/plain": "False"
     },
     "execution_count": 23,
     "metadata": {},
     "output_type": "execute_result"
    }
   ],
   "source": [
    "df2.iloc[1, 1] is df2.iat[1, 1]"
   ]
  },
  {
   "cell_type": "code",
   "execution_count": 24,
   "metadata": {},
   "outputs": [
    {
     "data": {
      "text/html": "<div>\n<style scoped>\n    .dataframe tbody tr th:only-of-type {\n        vertical-align: middle;\n    }\n\n    .dataframe tbody tr th {\n        vertical-align: top;\n    }\n\n    .dataframe thead th {\n        text-align: right;\n    }\n</style>\n<table border=\"1\" class=\"dataframe\">\n  <thead>\n    <tr style=\"text-align: right;\">\n      <th></th>\n      <th>a</th>\n      <th>b</th>\n      <th>c</th>\n    </tr>\n  </thead>\n  <tbody>\n    <tr>\n      <th>3</th>\n      <td>-0.568507</td>\n      <td>-0.065101</td>\n      <td>0.806817</td>\n    </tr>\n    <tr>\n      <th>9</th>\n      <td>-0.425498</td>\n      <td>-0.402577</td>\n      <td>0.604104</td>\n    </tr>\n  </tbody>\n</table>\n</div>",
      "text/plain": "          a         b         c\n3 -0.568507 -0.065101  0.806817\n9 -0.425498 -0.402577  0.604104"
     },
     "execution_count": 24,
     "metadata": {},
     "output_type": "execute_result"
    }
   ],
   "source": [
    "np.random.seed(1024)\n",
    "df = pd.DataFrame(np.random.randn(10, 3), columns=list('abc'))\n",
    "df[(df.a < df.b) & (df.b < df.c)]"
   ]
  },
  {
   "cell_type": "code",
   "execution_count": 25,
   "metadata": {},
   "outputs": [
    {
     "data": {
      "text/html": "<div>\n<style scoped>\n    .dataframe tbody tr th:only-of-type {\n        vertical-align: middle;\n    }\n\n    .dataframe tbody tr th {\n        vertical-align: top;\n    }\n\n    .dataframe thead th {\n        text-align: right;\n    }\n</style>\n<table border=\"1\" class=\"dataframe\">\n  <thead>\n    <tr style=\"text-align: right;\">\n      <th></th>\n      <th>a</th>\n      <th>b</th>\n      <th>c</th>\n    </tr>\n  </thead>\n  <tbody>\n    <tr>\n      <th>3</th>\n      <td>-0.568507</td>\n      <td>-0.065101</td>\n      <td>0.806817</td>\n    </tr>\n    <tr>\n      <th>9</th>\n      <td>-0.425498</td>\n      <td>-0.402577</td>\n      <td>0.604104</td>\n    </tr>\n  </tbody>\n</table>\n</div>",
      "text/plain": "          a         b         c\n3 -0.568507 -0.065101  0.806817\n9 -0.425498 -0.402577  0.604104"
     },
     "execution_count": 25,
     "metadata": {},
     "output_type": "execute_result"
    }
   ],
   "source": [
    "df.query('(a < b) & (b < c)')"
   ]
  },
  {
   "cell_type": "markdown",
   "execution_count": null,
   "metadata": {},
   "outputs": [],
   "source": [
    "## Renaming columns\n",
    "\n",
    "The columns, or more in general the index (no matter which axis) of a data frame can be renamed via the `.rename()` method, which takes a mapping between the old and the new columns."
   ]
  },
  {
   "cell_type": "code",
   "execution_count": 26,
   "metadata": {},
   "outputs": [
    {
     "data": {
      "text/html": "<div>\n<style scoped>\n    .dataframe tbody tr th:only-of-type {\n        vertical-align: middle;\n    }\n\n    .dataframe tbody tr th {\n        vertical-align: top;\n    }\n\n    .dataframe thead th {\n        text-align: right;\n    }\n</style>\n<table border=\"1\" class=\"dataframe\">\n  <thead>\n    <tr style=\"text-align: right;\">\n      <th></th>\n      <th>Bad Name</th>\n      <th>Ugly Name</th>\n      <th>Terrible Name</th>\n    </tr>\n  </thead>\n  <tbody>\n    <tr>\n      <th>0</th>\n      <td>2.124449</td>\n      <td>0.252646</td>\n      <td>1.454179</td>\n    </tr>\n    <tr>\n      <th>1</th>\n      <td>0.569240</td>\n      <td>0.458224</td>\n      <td>-0.809333</td>\n    </tr>\n    <tr>\n      <th>2</th>\n      <td>0.864073</td>\n      <td>0.201701</td>\n      <td>-1.875299</td>\n    </tr>\n    <tr>\n      <th>3</th>\n      <td>-0.568507</td>\n      <td>-0.065101</td>\n      <td>0.806817</td>\n    </tr>\n    <tr>\n      <th>4</th>\n      <td>-0.577818</td>\n      <td>0.573061</td>\n      <td>-0.336675</td>\n    </tr>\n    <tr>\n      <th>5</th>\n      <td>0.297007</td>\n      <td>-0.374804</td>\n      <td>0.155105</td>\n    </tr>\n    <tr>\n      <th>6</th>\n      <td>0.704857</td>\n      <td>0.845218</td>\n      <td>-0.658181</td>\n    </tr>\n    <tr>\n      <th>7</th>\n      <td>0.568106</td>\n      <td>0.515381</td>\n      <td>-0.615650</td>\n    </tr>\n    <tr>\n      <th>8</th>\n      <td>0.926114</td>\n      <td>-1.285913</td>\n      <td>1.430140</td>\n    </tr>\n    <tr>\n      <th>9</th>\n      <td>-0.425498</td>\n      <td>-0.402577</td>\n      <td>0.604104</td>\n    </tr>\n  </tbody>\n</table>\n</div>",
      "text/plain": "   Bad Name  Ugly Name  Terrible Name\n0  2.124449   0.252646       1.454179\n1  0.569240   0.458224      -0.809333\n2  0.864073   0.201701      -1.875299\n3 -0.568507  -0.065101       0.806817\n4 -0.577818   0.573061      -0.336675\n5  0.297007  -0.374804       0.155105\n6  0.704857   0.845218      -0.658181\n7  0.568106   0.515381      -0.615650\n8  0.926114  -1.285913       1.430140\n9 -0.425498  -0.402577       0.604104"
     },
     "execution_count": 26,
     "metadata": {},
     "output_type": "execute_result"
    }
   ],
   "source": [
    "df2 = df.copy()\n",
    "df2.columns = ['Bad Name', 'Ugly Name', 'Terrible Name']\n",
    "df2"
   ]
  },
  {
   "cell_type": "markdown",
   "execution_count": null,
   "metadata": {},
   "outputs": [],
   "source": [
    "Renaming can be done either via a mapping or with a function. The mapping can operate on individual entries. One can either specify the `axis` or pass the mapper or function to `index` or `columns`.\n",
    "\n",
    "With a mapping."
   ]
  },
  {
   "cell_type": "code",
   "execution_count": 27,
   "metadata": {},
   "outputs": [
    {
     "data": {
      "text/html": "<div>\n<style scoped>\n    .dataframe tbody tr th:only-of-type {\n        vertical-align: middle;\n    }\n\n    .dataframe tbody tr th {\n        vertical-align: top;\n    }\n\n    .dataframe thead th {\n        text-align: right;\n    }\n</style>\n<table border=\"1\" class=\"dataframe\">\n  <thead>\n    <tr style=\"text-align: right;\">\n      <th></th>\n      <th>better_name</th>\n      <th>Ugly Name</th>\n      <th>Terrible Name</th>\n    </tr>\n  </thead>\n  <tbody>\n    <tr>\n      <th>0</th>\n      <td>2.124449</td>\n      <td>0.252646</td>\n      <td>1.454179</td>\n    </tr>\n    <tr>\n      <th>1</th>\n      <td>0.569240</td>\n      <td>0.458224</td>\n      <td>-0.809333</td>\n    </tr>\n    <tr>\n      <th>2</th>\n      <td>0.864073</td>\n      <td>0.201701</td>\n      <td>-1.875299</td>\n    </tr>\n    <tr>\n      <th>3</th>\n      <td>-0.568507</td>\n      <td>-0.065101</td>\n      <td>0.806817</td>\n    </tr>\n    <tr>\n      <th>4</th>\n      <td>-0.577818</td>\n      <td>0.573061</td>\n      <td>-0.336675</td>\n    </tr>\n    <tr>\n      <th>5</th>\n      <td>0.297007</td>\n      <td>-0.374804</td>\n      <td>0.155105</td>\n    </tr>\n    <tr>\n      <th>6</th>\n      <td>0.704857</td>\n      <td>0.845218</td>\n      <td>-0.658181</td>\n    </tr>\n    <tr>\n      <th>7</th>\n      <td>0.568106</td>\n      <td>0.515381</td>\n      <td>-0.615650</td>\n    </tr>\n    <tr>\n      <th>8</th>\n      <td>0.926114</td>\n      <td>-1.285913</td>\n      <td>1.430140</td>\n    </tr>\n    <tr>\n      <th>9</th>\n      <td>-0.425498</td>\n      <td>-0.402577</td>\n      <td>0.604104</td>\n    </tr>\n  </tbody>\n</table>\n</div>",
      "text/plain": "   better_name  Ugly Name  Terrible Name\n0     2.124449   0.252646       1.454179\n1     0.569240   0.458224      -0.809333\n2     0.864073   0.201701      -1.875299\n3    -0.568507  -0.065101       0.806817\n4    -0.577818   0.573061      -0.336675\n5     0.297007  -0.374804       0.155105\n6     0.704857   0.845218      -0.658181\n7     0.568106   0.515381      -0.615650\n8     0.926114  -1.285913       1.430140\n9    -0.425498  -0.402577       0.604104"
     },
     "execution_count": 27,
     "metadata": {},
     "output_type": "execute_result"
    }
   ],
   "source": [
    "df2.rename(mapper={'Bad Name': 'better_name'}, axis=1)"
   ]
  },
  {
   "cell_type": "code",
   "execution_count": 28,
   "metadata": {},
   "outputs": [
    {
     "data": {
      "text/html": "<div>\n<style scoped>\n    .dataframe tbody tr th:only-of-type {\n        vertical-align: middle;\n    }\n\n    .dataframe tbody tr th {\n        vertical-align: top;\n    }\n\n    .dataframe thead th {\n        text-align: right;\n    }\n</style>\n<table border=\"1\" class=\"dataframe\">\n  <thead>\n    <tr style=\"text-align: right;\">\n      <th></th>\n      <th>Bad Name</th>\n      <th>Ugly Name</th>\n      <th>nice_name</th>\n    </tr>\n  </thead>\n  <tbody>\n    <tr>\n      <th>0</th>\n      <td>2.124449</td>\n      <td>0.252646</td>\n      <td>1.454179</td>\n    </tr>\n    <tr>\n      <th>1</th>\n      <td>0.569240</td>\n      <td>0.458224</td>\n      <td>-0.809333</td>\n    </tr>\n    <tr>\n      <th>2</th>\n      <td>0.864073</td>\n      <td>0.201701</td>\n      <td>-1.875299</td>\n    </tr>\n    <tr>\n      <th>3</th>\n      <td>-0.568507</td>\n      <td>-0.065101</td>\n      <td>0.806817</td>\n    </tr>\n    <tr>\n      <th>4</th>\n      <td>-0.577818</td>\n      <td>0.573061</td>\n      <td>-0.336675</td>\n    </tr>\n    <tr>\n      <th>5</th>\n      <td>0.297007</td>\n      <td>-0.374804</td>\n      <td>0.155105</td>\n    </tr>\n    <tr>\n      <th>6</th>\n      <td>0.704857</td>\n      <td>0.845218</td>\n      <td>-0.658181</td>\n    </tr>\n    <tr>\n      <th>7</th>\n      <td>0.568106</td>\n      <td>0.515381</td>\n      <td>-0.615650</td>\n    </tr>\n    <tr>\n      <th>8</th>\n      <td>0.926114</td>\n      <td>-1.285913</td>\n      <td>1.430140</td>\n    </tr>\n    <tr>\n      <th>9</th>\n      <td>-0.425498</td>\n      <td>-0.402577</td>\n      <td>0.604104</td>\n    </tr>\n  </tbody>\n</table>\n</div>",
      "text/plain": "   Bad Name  Ugly Name  nice_name\n0  2.124449   0.252646   1.454179\n1  0.569240   0.458224  -0.809333\n2  0.864073   0.201701  -1.875299\n3 -0.568507  -0.065101   0.806817\n4 -0.577818   0.573061  -0.336675\n5  0.297007  -0.374804   0.155105\n6  0.704857   0.845218  -0.658181\n7  0.568106   0.515381  -0.615650\n8  0.926114  -1.285913   1.430140\n9 -0.425498  -0.402577   0.604104"
     },
     "execution_count": 28,
     "metadata": {},
     "output_type": "execute_result"
    }
   ],
   "source": [
    "df2.rename(columns={'Terrible Name': 'nice_name'})"
   ]
  },
  {
   "cell_type": "markdown",
   "execution_count": null,
   "metadata": {},
   "outputs": [],
   "source": [
    "With a function."
   ]
  },
  {
   "cell_type": "code",
   "execution_count": 29,
   "metadata": {},
   "outputs": [
    {
     "data": {
      "text/html": "<div>\n<style scoped>\n    .dataframe tbody tr th:only-of-type {\n        vertical-align: middle;\n    }\n\n    .dataframe tbody tr th {\n        vertical-align: top;\n    }\n\n    .dataframe thead th {\n        text-align: right;\n    }\n</style>\n<table border=\"1\" class=\"dataframe\">\n  <thead>\n    <tr style=\"text-align: right;\">\n      <th></th>\n      <th>bad_name</th>\n      <th>ugly_name</th>\n      <th>terrible_name</th>\n    </tr>\n  </thead>\n  <tbody>\n    <tr>\n      <th>0</th>\n      <td>2.124449</td>\n      <td>0.252646</td>\n      <td>1.454179</td>\n    </tr>\n    <tr>\n      <th>1</th>\n      <td>0.569240</td>\n      <td>0.458224</td>\n      <td>-0.809333</td>\n    </tr>\n    <tr>\n      <th>2</th>\n      <td>0.864073</td>\n      <td>0.201701</td>\n      <td>-1.875299</td>\n    </tr>\n    <tr>\n      <th>3</th>\n      <td>-0.568507</td>\n      <td>-0.065101</td>\n      <td>0.806817</td>\n    </tr>\n    <tr>\n      <th>4</th>\n      <td>-0.577818</td>\n      <td>0.573061</td>\n      <td>-0.336675</td>\n    </tr>\n    <tr>\n      <th>5</th>\n      <td>0.297007</td>\n      <td>-0.374804</td>\n      <td>0.155105</td>\n    </tr>\n    <tr>\n      <th>6</th>\n      <td>0.704857</td>\n      <td>0.845218</td>\n      <td>-0.658181</td>\n    </tr>\n    <tr>\n      <th>7</th>\n      <td>0.568106</td>\n      <td>0.515381</td>\n      <td>-0.615650</td>\n    </tr>\n    <tr>\n      <th>8</th>\n      <td>0.926114</td>\n      <td>-1.285913</td>\n      <td>1.430140</td>\n    </tr>\n    <tr>\n      <th>9</th>\n      <td>-0.425498</td>\n      <td>-0.402577</td>\n      <td>0.604104</td>\n    </tr>\n  </tbody>\n</table>\n</div>",
      "text/plain": "   bad_name  ugly_name  terrible_name\n0  2.124449   0.252646       1.454179\n1  0.569240   0.458224      -0.809333\n2  0.864073   0.201701      -1.875299\n3 -0.568507  -0.065101       0.806817\n4 -0.577818   0.573061      -0.336675\n5  0.297007  -0.374804       0.155105\n6  0.704857   0.845218      -0.658181\n7  0.568106   0.515381      -0.615650\n8  0.926114  -1.285913       1.430140\n9 -0.425498  -0.402577       0.604104"
     },
     "execution_count": 29,
     "metadata": {},
     "output_type": "execute_result"
    }
   ],
   "source": [
    "df2.rename(columns=lambda x: x.lower().replace(' ', '_'))"
   ]
  },
  {
   "cell_type": "markdown",
   "execution_count": null,
   "metadata": {},
   "outputs": [],
   "source": [
    "## Equivalent of `case_when` with `where`\n",
    "\n",
    "`where` applies an if-then-else condition. If the condition is true, the value is left unchanged, otherwise the `other` value is used."
   ]
  },
  {
   "cell_type": "code",
   "execution_count": 30,
   "metadata": {},
   "outputs": [
    {
     "data": {
      "text/html": "<div>\n<style scoped>\n    .dataframe tbody tr th:only-of-type {\n        vertical-align: middle;\n    }\n\n    .dataframe tbody tr th {\n        vertical-align: top;\n    }\n\n    .dataframe thead th {\n        text-align: right;\n    }\n</style>\n<table border=\"1\" class=\"dataframe\">\n  <thead>\n    <tr style=\"text-align: right;\">\n      <th></th>\n      <th>A</th>\n      <th>B</th>\n      <th>C</th>\n      <th>D</th>\n    </tr>\n  </thead>\n  <tbody>\n    <tr>\n      <th>a</th>\n      <td>9</td>\n      <td>8</td>\n      <td>7</td>\n      <td>5</td>\n    </tr>\n    <tr>\n      <th>b</th>\n      <td>6</td>\n      <td>6</td>\n      <td>4</td>\n      <td>1</td>\n    </tr>\n    <tr>\n      <th>c</th>\n      <td>6</td>\n      <td>10</td>\n      <td>10</td>\n      <td>4</td>\n    </tr>\n    <tr>\n      <th>d</th>\n      <td>6</td>\n      <td>2</td>\n      <td>1</td>\n      <td>6</td>\n    </tr>\n    <tr>\n      <th>e</th>\n      <td>6</td>\n      <td>8</td>\n      <td>3</td>\n      <td>2</td>\n    </tr>\n    <tr>\n      <th>f</th>\n      <td>8</td>\n      <td>10</td>\n      <td>7</td>\n      <td>10</td>\n    </tr>\n  </tbody>\n</table>\n</div>",
      "text/plain": "   A   B   C   D\na  9   8   7   5\nb  6   6   4   1\nc  6  10  10   4\nd  6   2   1   6\ne  6   8   3   2\nf  8  10   7  10"
     },
     "execution_count": 30,
     "metadata": {},
     "output_type": "execute_result"
    }
   ],
   "source": [
    "df3 = pd.DataFrame(np.random.randint(low=1, high=11, size=24).reshape(6, 4),\n",
    "index=list('abcdef'), columns = list('ABCD'))\n",
    "\n",
    "df3"
   ]
  },
  {
   "cell_type": "code",
   "execution_count": 31,
   "metadata": {},
   "outputs": [
    {
     "data": {
      "text/html": "<div>\n<style scoped>\n    .dataframe tbody tr th:only-of-type {\n        vertical-align: middle;\n    }\n\n    .dataframe tbody tr th {\n        vertical-align: top;\n    }\n\n    .dataframe thead th {\n        text-align: right;\n    }\n</style>\n<table border=\"1\" class=\"dataframe\">\n  <thead>\n    <tr style=\"text-align: right;\">\n      <th></th>\n      <th>A</th>\n      <th>B</th>\n      <th>C</th>\n      <th>D</th>\n    </tr>\n  </thead>\n  <tbody>\n    <tr>\n      <th>a</th>\n      <td>9</td>\n      <td>8</td>\n      <td>7</td>\n      <td>0</td>\n    </tr>\n    <tr>\n      <th>b</th>\n      <td>6</td>\n      <td>6</td>\n      <td>0</td>\n      <td>0</td>\n    </tr>\n    <tr>\n      <th>c</th>\n      <td>6</td>\n      <td>10</td>\n      <td>10</td>\n      <td>0</td>\n    </tr>\n    <tr>\n      <th>d</th>\n      <td>6</td>\n      <td>0</td>\n      <td>0</td>\n      <td>6</td>\n    </tr>\n    <tr>\n      <th>e</th>\n      <td>6</td>\n      <td>8</td>\n      <td>0</td>\n      <td>0</td>\n    </tr>\n    <tr>\n      <th>f</th>\n      <td>8</td>\n      <td>10</td>\n      <td>7</td>\n      <td>10</td>\n    </tr>\n  </tbody>\n</table>\n</div>",
      "text/plain": "   A   B   C   D\na  9   8   7   0\nb  6   6   0   0\nc  6  10  10   0\nd  6   0   0   6\ne  6   8   0   0\nf  8  10   7  10"
     },
     "execution_count": 31,
     "metadata": {},
     "output_type": "execute_result"
    }
   ],
   "source": [
    "df3.where(df3 > 5, 0)"
   ]
  },
  {
   "cell_type": "markdown",
   "execution_count": null,
   "metadata": {},
   "outputs": [],
   "source": [
    "## Names and reset index\n",
    "\n",
    "When using `reset_index` the index is moved to a column named `index`. If we name the column using `names`, this will become the new name of the column."
   ]
  },
  {
   "cell_type": "code",
   "execution_count": 39,
   "metadata": {},
   "outputs": [
    {
     "data": {
      "text/html": "<div>\n<style scoped>\n    .dataframe tbody tr th:only-of-type {\n        vertical-align: middle;\n    }\n\n    .dataframe tbody tr th {\n        vertical-align: top;\n    }\n\n    .dataframe thead th {\n        text-align: right;\n    }\n</style>\n<table border=\"1\" class=\"dataframe\">\n  <thead>\n    <tr style=\"text-align: right;\">\n      <th></th>\n      <th>A</th>\n      <th>B</th>\n      <th>C</th>\n    </tr>\n  </thead>\n  <tbody>\n    <tr>\n      <th>a</th>\n      <td>0</td>\n      <td>8</td>\n      <td>2</td>\n    </tr>\n    <tr>\n      <th>b</th>\n      <td>1</td>\n      <td>0</td>\n      <td>0</td>\n    </tr>\n    <tr>\n      <th>c</th>\n      <td>7</td>\n      <td>3</td>\n      <td>4</td>\n    </tr>\n  </tbody>\n</table>\n</div>",
      "text/plain": "   A  B  C\na  0  8  2\nb  1  0  0\nc  7  3  4"
     },
     "execution_count": 39,
     "metadata": {},
     "output_type": "execute_result"
    }
   ],
   "source": [
    "df4 = pd.DataFrame(np.random.randint(0, 11, 9).reshape(3, 3),\n",
    "index=['a', 'b', 'c'], \n",
    "columns=['A', 'B', 'C'])\n",
    "\n",
    "df4"
   ]
  },
  {
   "cell_type": "code",
   "execution_count": 40,
   "metadata": {},
   "outputs": [
    {
     "data": {
      "text/html": "<div>\n<style scoped>\n    .dataframe tbody tr th:only-of-type {\n        vertical-align: middle;\n    }\n\n    .dataframe tbody tr th {\n        vertical-align: top;\n    }\n\n    .dataframe thead th {\n        text-align: right;\n    }\n</style>\n<table border=\"1\" class=\"dataframe\">\n  <thead>\n    <tr style=\"text-align: right;\">\n      <th></th>\n      <th>index</th>\n      <th>A</th>\n      <th>B</th>\n      <th>C</th>\n    </tr>\n  </thead>\n  <tbody>\n    <tr>\n      <th>0</th>\n      <td>a</td>\n      <td>0</td>\n      <td>8</td>\n      <td>2</td>\n    </tr>\n    <tr>\n      <th>1</th>\n      <td>b</td>\n      <td>1</td>\n      <td>0</td>\n      <td>0</td>\n    </tr>\n    <tr>\n      <th>2</th>\n      <td>c</td>\n      <td>7</td>\n      <td>3</td>\n      <td>4</td>\n    </tr>\n  </tbody>\n</table>\n</div>",
      "text/plain": "  index  A  B  C\n0     a  0  8  2\n1     b  1  0  0\n2     c  7  3  4"
     },
     "execution_count": 40,
     "metadata": {},
     "output_type": "execute_result"
    }
   ],
   "source": [
    "df4.reset_index()"
   ]
  },
  {
   "cell_type": "code",
   "execution_count": 41,
   "metadata": {},
   "outputs": [
    {
     "data": {
      "text/html": "<div>\n<style scoped>\n    .dataframe tbody tr th:only-of-type {\n        vertical-align: middle;\n    }\n\n    .dataframe tbody tr th {\n        vertical-align: top;\n    }\n\n    .dataframe thead th {\n        text-align: right;\n    }\n</style>\n<table border=\"1\" class=\"dataframe\">\n  <thead>\n    <tr style=\"text-align: right;\">\n      <th></th>\n      <th>labels</th>\n      <th>A</th>\n      <th>B</th>\n      <th>C</th>\n    </tr>\n  </thead>\n  <tbody>\n    <tr>\n      <th>0</th>\n      <td>a</td>\n      <td>0</td>\n      <td>8</td>\n      <td>2</td>\n    </tr>\n    <tr>\n      <th>1</th>\n      <td>b</td>\n      <td>1</td>\n      <td>0</td>\n      <td>0</td>\n    </tr>\n    <tr>\n      <th>2</th>\n      <td>c</td>\n      <td>7</td>\n      <td>3</td>\n      <td>4</td>\n    </tr>\n  </tbody>\n</table>\n</div>",
      "text/plain": "  labels  A  B  C\n0      a  0  8  2\n1      b  1  0  0\n2      c  7  3  4"
     },
     "execution_count": 41,
     "metadata": {},
     "output_type": "execute_result"
    }
   ],
   "source": [
    "df4.index.name = 'labels'\n",
    "df4.reset_index()"
   ]
  }
 ]
}